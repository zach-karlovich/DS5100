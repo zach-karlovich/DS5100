{
 "cells": [
  {
   "cell_type": "markdown",
   "metadata": {},
   "source": [
    "# Metadata\n",
    "\n",
    "```yaml\n",
    "Course:   DS 5100\n",
    "Module:   05 Numpy HW\n",
    "Topic:    Capital Asset Pricing Model (CAPM)\n",
    "Author:   R.C. Alvarado (revised)\n",
    "Date:     7 July 2023\n",
    "```"
   ]
  },
  {
   "cell_type": "markdown",
   "metadata": {},
   "source": [
    "# Student Info\n",
    "\n",
    "* Name:\n",
    "* Net ID:\n",
    "* URL of this file in GitHub:"
   ]
  },
  {
   "cell_type": "markdown",
   "metadata": {
    "jp-MarkdownHeadingCollapsed": true,
    "tags": []
   },
   "source": [
    "# Instructions\n",
    "\n",
    "In your **private course repo on Rivanna**, use this Jupyter notebook and the provided data file `capm_market_data.csv` to write code that performs the tasks below. \n",
    "\n",
    "Save your notebook in the `M05` directory.\n",
    "\n",
    "Remember to add and commit these files to your repo. \n",
    "\n",
    "Then push your commits to your repo on GitHib.\n",
    "\n",
    "Be sure to fill out the **Student Info** block above.\n",
    "\n",
    "To submit your homework, save the notebook as a PDF and upload it to GradeScope, following the instructions.\n",
    "\n",
    "**TOTAL POINTS: 10**"
   ]
  },
  {
   "cell_type": "markdown",
   "metadata": {
    "jp-MarkdownHeadingCollapsed": true,
    "tags": []
   },
   "source": [
    "# Overview\n",
    "\n",
    "<!-- In this exer Use NumPy and functions to \n",
    "* compute a stock's CAPM beta\n",
    "* perform sensitivity analysis\n",
    "* understand how the data points impact the beta estimate\n",
    " -->\n",
    " \n",
    "In finance, a capital asset pricing model (CAPM) is a single-factor regression model used to explain and predict excess stock returns. \n",
    "\n",
    "There are better, more accurate models, but CAPM has its uses. \n",
    "\n",
    "For example, the **market beta** $\\beta_i$ is a useful output.\n",
    "\n",
    "Here is the formula for calculating the expected excess return:\n",
    "\n",
    "$E[R_i] - R_f  = \\beta_i ( E[R_m] - R_f )$\n",
    "\n",
    "where:\n",
    "\n",
    "* $E[R_i]$: expected return of stock $i$\n",
    "* $R_f$: risk-free rate\n",
    "* $\\beta_i$: market beta of the stock\n",
    "* $E[R_m] - R_f$: market risk premium\n",
    "\n",
    "**Review the instructions below to complete the requested tasks.**\n",
    "\n",
    "**TOTAL POINTS: 10**"
   ]
  },
  {
   "cell_type": "markdown",
   "metadata": {},
   "source": [
    "# Setting Up"
   ]
  },
  {
   "cell_type": "markdown",
   "metadata": {},
   "source": [
    "Import [NumPy](https://numpy.org/doc/stable/)"
   ]
  },
  {
   "cell_type": "code",
   "execution_count": 1,
   "metadata": {},
   "outputs": [],
   "source": [
    "import numpy as np"
   ]
  },
  {
   "cell_type": "markdown",
   "metadata": {},
   "source": [
    "Define Risk-free Treasury rate. You will use this constant below."
   ]
  },
  {
   "cell_type": "code",
   "execution_count": 2,
   "metadata": {},
   "outputs": [],
   "source": [
    "R_f = 0.0175 / 252"
   ]
  },
  {
   "cell_type": "code",
   "execution_count": 3,
   "metadata": {},
   "outputs": [
    {
     "data": {
      "text/plain": [
       "6.944444444444444e-05"
      ]
     },
     "execution_count": 3,
     "metadata": {},
     "output_type": "execute_result"
    }
   ],
   "source": [
    "R_f"
   ]
  },
  {
   "cell_type": "markdown",
   "metadata": {
    "tags": []
   },
   "source": [
    "# Prepare the Data\n",
    "\n",
    "We import the data and convert it into usable Numby arrays."
   ]
  },
  {
   "cell_type": "markdown",
   "metadata": {},
   "source": [
    "**Read in the market data**\n",
    "\n",
    "The values are closing prices, adjusted for splits and dividends.\n",
    "\n",
    "The prefixes of the second two columns are based on the following codes:\n",
    "* SPY is an ETF for the S&P 500 (i.e. the stock market as whole)\n",
    "* AAPL stands for Apple  "
   ]
  },
  {
   "cell_type": "code",
   "execution_count": 4,
   "metadata": {},
   "outputs": [],
   "source": [
    "data_file = \"capm_market_data-2.csv\""
   ]
  },
  {
   "cell_type": "code",
   "execution_count": 5,
   "metadata": {},
   "outputs": [],
   "source": [
    "data_2D = np.array([row.strip().split(',') for row in open(data_file, 'r').readlines()])"
   ]
  },
  {
   "cell_type": "code",
   "execution_count": 6,
   "metadata": {
    "tags": []
   },
   "outputs": [
    {
     "data": {
      "text/plain": [
       "(136, 3)"
      ]
     },
     "execution_count": 6,
     "metadata": {},
     "output_type": "execute_result"
    }
   ],
   "source": [
    "data_2D.shape"
   ]
  },
  {
   "cell_type": "code",
   "execution_count": 7,
   "metadata": {},
   "outputs": [
    {
     "data": {
      "text/plain": [
       "array([['date', 'spy_adj_close', 'aapl_adj_close'],\n",
       "       ['2020-01-02', '321.555786132812', '298.829956054687'],\n",
       "       ['2020-01-03', '319.120910644531', '295.924713134766'],\n",
       "       ['2020-01-06', '320.33837890625', '298.28271484375'],\n",
       "       ['2020-01-07', '319.437652587891', '296.8798828125']], dtype='<U16')"
      ]
     },
     "execution_count": 7,
     "metadata": {},
     "output_type": "execute_result"
    }
   ],
   "source": [
    "data_2D[:5]"
   ]
  },
  {
   "cell_type": "markdown",
   "metadata": {},
   "source": [
    "**Separete columns from the data** "
   ]
  },
  {
   "cell_type": "code",
   "execution_count": 8,
   "metadata": {
    "tags": []
   },
   "outputs": [],
   "source": [
    "COLS = data_2D[0]"
   ]
  },
  {
   "cell_type": "code",
   "execution_count": 9,
   "metadata": {},
   "outputs": [],
   "source": [
    "# COLS = np.str_(data_2D[0])"
   ]
  },
  {
   "cell_type": "code",
   "execution_count": 10,
   "metadata": {
    "tags": []
   },
   "outputs": [
    {
     "data": {
      "text/plain": [
       "'date'"
      ]
     },
     "execution_count": 10,
     "metadata": {},
     "output_type": "execute_result"
    }
   ],
   "source": [
    "COLS[0]"
   ]
  },
  {
   "cell_type": "markdown",
   "metadata": {},
   "source": [
    "**Separate columns by data types**\n",
    "\n",
    "Numpy wants everything to in a data structure to be of the same type."
   ]
  },
  {
   "cell_type": "code",
   "execution_count": 11,
   "metadata": {},
   "outputs": [],
   "source": [
    "DATES = data_2D[1:, 0]"
   ]
  },
  {
   "cell_type": "code",
   "execution_count": 12,
   "metadata": {
    "tags": []
   },
   "outputs": [],
   "source": [
    "# DATES"
   ]
  },
  {
   "cell_type": "markdown",
   "metadata": {},
   "source": [
    "NOTE: This should be `PRICES`, not `RETURNS`"
   ]
  },
  {
   "cell_type": "code",
   "execution_count": 13,
   "metadata": {},
   "outputs": [],
   "source": [
    "RETURNS = data_2D[1:, 1:].astype('float')"
   ]
  },
  {
   "cell_type": "code",
   "execution_count": 14,
   "metadata": {
    "tags": []
   },
   "outputs": [],
   "source": [
    "# RETURNS"
   ]
  },
  {
   "cell_type": "markdown",
   "metadata": {},
   "source": [
    "# Task 1 \n",
    "\n",
    "(1 PT) \n",
    "\n",
    "Print the first 5 rows of the `RETURNS` table."
   ]
  },
  {
   "cell_type": "code",
   "execution_count": 15,
   "metadata": {},
   "outputs": [],
   "source": [
    "# PRINT ROWS"
   ]
  },
  {
   "cell_type": "code",
   "execution_count": 16,
   "metadata": {
    "tags": []
   },
   "outputs": [
    {
     "data": {
      "text/plain": [
       "array([[321.55578613, 298.82995605],\n",
       "       [319.12091064, 295.92471313],\n",
       "       [320.33837891, 298.28271484],\n",
       "       [319.43765259, 296.87988281],\n",
       "       [321.1401062 , 301.6555481 ]])"
      ]
     },
     "execution_count": 16,
     "metadata": {},
     "output_type": "execute_result"
    }
   ],
   "source": [
    "RETURNS[:5]"
   ]
  },
  {
   "cell_type": "markdown",
   "metadata": {},
   "source": [
    "# Task 2 \n",
    "\n",
    "(1 PT) \n",
    "\n",
    "Print the first five values from the SPY column in `RETURNS`.\n",
    "\n",
    "Then do the same for the AAPL column.\n",
    "\n",
    "Use one cell for each operation."
   ]
  },
  {
   "cell_type": "code",
   "execution_count": 17,
   "metadata": {},
   "outputs": [],
   "source": [
    "# PRINT VALUES FOR SPY"
   ]
  },
  {
   "cell_type": "code",
   "execution_count": 18,
   "metadata": {
    "tags": []
   },
   "outputs": [],
   "source": [
    "# RETURNS"
   ]
  },
  {
   "cell_type": "code",
   "execution_count": 19,
   "metadata": {},
   "outputs": [
    {
     "data": {
      "text/plain": [
       "array([321.55578613, 319.12091064, 320.33837891, 319.43765259,\n",
       "       321.1401062 ])"
      ]
     },
     "execution_count": 19,
     "metadata": {},
     "output_type": "execute_result"
    }
   ],
   "source": [
    "RETURNS[:5, 0]"
   ]
  },
  {
   "cell_type": "code",
   "execution_count": 20,
   "metadata": {},
   "outputs": [],
   "source": [
    "# PRINT VALUES FOR AAPL"
   ]
  },
  {
   "cell_type": "code",
   "execution_count": 21,
   "metadata": {},
   "outputs": [
    {
     "data": {
      "text/plain": [
       "array([298.82995605, 295.92471313, 298.28271484, 296.87988281,\n",
       "       301.6555481 ])"
      ]
     },
     "execution_count": 21,
     "metadata": {},
     "output_type": "execute_result"
    }
   ],
   "source": [
    "RETURNS[:5, 1]"
   ]
  },
  {
   "cell_type": "markdown",
   "metadata": {
    "tags": []
   },
   "source": [
    "# Task 3 \n",
    "\n",
    "(1 PT)\n",
    "\n",
    "Compute the excess returns by subtracting the constant `R_f` from `RETURNS`.\n",
    "\n",
    "Save the result as numpy 2D array (i.e. a table) named `EXCESS`.\n",
    "\n",
    "Print the LAST five rows from the new table."
   ]
  },
  {
   "cell_type": "code",
   "execution_count": 22,
   "metadata": {},
   "outputs": [],
   "source": [
    "# COMPUTE EXCESS"
   ]
  },
  {
   "cell_type": "code",
   "execution_count": 23,
   "metadata": {},
   "outputs": [],
   "source": [
    "# RETURNS - R_f "
   ]
  },
  {
   "cell_type": "code",
   "execution_count": 24,
   "metadata": {},
   "outputs": [],
   "source": [
    "# RETURNS - (RETURNS * R_f)"
   ]
  },
  {
   "cell_type": "code",
   "execution_count": 25,
   "metadata": {},
   "outputs": [],
   "source": [
    "EXCESS = RETURNS - R_f"
   ]
  },
  {
   "cell_type": "code",
   "execution_count": 26,
   "metadata": {},
   "outputs": [],
   "source": [
    "# EXCESS = RETURNS - (RETURNS * R_f)"
   ]
  },
  {
   "cell_type": "code",
   "execution_count": 27,
   "metadata": {},
   "outputs": [],
   "source": [
    "# PRINT ROWS"
   ]
  },
  {
   "cell_type": "code",
   "execution_count": 28,
   "metadata": {},
   "outputs": [
    {
     "data": {
      "text/plain": [
       "array([[314.37993544, 383.00994032],\n",
       "       [317.58992689, 383.67992323],\n",
       "       [314.83992689, 381.90993422],\n",
       "       [318.91994398, 388.22994154],\n",
       "       [321.84993666, 390.89992445]])"
      ]
     },
     "execution_count": 28,
     "metadata": {},
     "output_type": "execute_result"
    }
   ],
   "source": [
    "EXCESS[-5:]"
   ]
  },
  {
   "cell_type": "markdown",
   "metadata": {},
   "source": [
    "# Task 4 \n",
    "\n",
    "(1 PT)\n",
    "\n",
    "Make a simple [scatterplot using Matplotlib](https://matplotlib.org/stable/api/_as_gen/matplotlib.pyplot.scatter.html) with SPY excess returns on the x-axis, AAPL excess returns on the y-axis.\n",
    "\n",
    "Hint: Use the following code:\n",
    "\n",
    "```python\n",
    "from matplotlib.pyplot import scatter\n",
    "\n",
    "scatter(<x>, <y>)\n",
    "```\n",
    "Replace `<x>` and `<y>` with the appropriate vectors.\n",
    "\n",
    "You may want to save the vectors for the SPY and AAPL columns as `x` and `y` respectively. This will make it visually easier to perform Task 6."
   ]
  },
  {
   "cell_type": "code",
   "execution_count": 29,
   "metadata": {},
   "outputs": [],
   "source": [
    "# ENTER CODE"
   ]
  },
  {
   "cell_type": "code",
   "execution_count": 30,
   "metadata": {},
   "outputs": [
    {
     "data": {
      "image/png": "[encoded data removed]",
      "text/plain": [
       "<Figure size 640x480 with 1 Axes>"
      ]
     },
     "metadata": {},
     "output_type": "display_data"
    }
   ],
   "source": [
    "from matplotlib.pyplot import scatter\n",
    "\n",
    "x = EXCESS[:, 0]\n",
    "y = EXCESS[:, 1]\n",
    "\n",
    "scatter(x, y);"
   ]
  },
  {
   "cell_type": "markdown",
   "metadata": {},
   "source": [
    "# Taks 5 \n",
    "\n",
    "(3 PTS)\n",
    "\n",
    "Use the **normal equation**, listed below, to compute the Regression Coefficient Estimate of the data plotted above, $\\hat\\beta_i$.\n",
    "\n",
    "Note that $x^T$ denotes the transpose of $x$.\n",
    "\n",
    "$\\begin{aligned} \\hat\\beta_i=(x^Tx)^{−1}x^Ty \\end{aligned}$ \n",
    "\n",
    "Use the Numpy functions for matrix to do this &mdash; multiplication, transpose, and inverse. \n",
    "\n",
    "Note, however, that since $x$ in this case ~~a single column matrix, i.e.~~ a vector, the result of $x^Tx$ will be a scalar,\\\n",
    "which is not invertable. So you can just invert the result by division, i.e. \n",
    "\n",
    "$\\hat\\beta_i = \\large\\frac{1}{x^Tx} \\small(x^Ty)$\n",
    "\n",
    "Be sure to review what these operations do, and how they work, if you're a bit rusty."
   ]
  },
  {
   "cell_type": "markdown",
   "metadata": {},
   "source": [
    "**You should find that $\\hat\\beta_i > 1$.**\n",
    "\n",
    "This means that the risk of AAPL stock, given the data, and according to this particular (flawed) model, is higher relative to the risk of the S&P 500.\n"
   ]
  },
  {
   "cell_type": "code",
   "execution_count": 31,
   "metadata": {
    "tags": []
   },
   "outputs": [],
   "source": [
    "# ENTER CODE"
   ]
  },
  {
   "cell_type": "code",
   "execution_count": 32,
   "metadata": {},
   "outputs": [],
   "source": [
    "# This would work id x were a matrix, but it's a vector, so the result is a scalar, which can't be inverted"
   ]
  },
  {
   "cell_type": "code",
   "execution_count": 33,
   "metadata": {
    "tags": []
   },
   "outputs": [],
   "source": [
    "# RETURNS[:, 0]"
   ]
  },
  {
   "cell_type": "code",
   "execution_count": 34,
   "metadata": {
    "tags": []
   },
   "outputs": [],
   "source": [
    "# RETURNS[:,[0]] "
   ]
  },
  {
   "cell_type": "code",
   "execution_count": 35,
   "metadata": {
    "tags": []
   },
   "outputs": [
    {
     "data": {
      "text/plain": [
       "(135,)"
      ]
     },
     "execution_count": 35,
     "metadata": {},
     "output_type": "execute_result"
    }
   ],
   "source": [
    "x.shape"
   ]
  },
  {
   "cell_type": "code",
   "execution_count": 36,
   "metadata": {},
   "outputs": [],
   "source": [
    "x1 = x.reshape(-1,1)"
   ]
  },
  {
   "cell_type": "code",
   "execution_count": 37,
   "metadata": {
    "tags": []
   },
   "outputs": [
    {
     "data": {
      "text/plain": [
       "(135, 1)"
      ]
     },
     "execution_count": 37,
     "metadata": {},
     "output_type": "execute_result"
    }
   ],
   "source": [
    "x1.shape"
   ]
  },
  {
   "cell_type": "code",
   "execution_count": 38,
   "metadata": {},
   "outputs": [],
   "source": [
    "beta = np.dot(np.linalg.inv(np.dot(x1.T, x1)), np.dot(x1.T, y))[0]"
   ]
  },
  {
   "cell_type": "code",
   "execution_count": 39,
   "metadata": {},
   "outputs": [],
   "source": [
    "# This works in the case where x is a scalar\n",
    "# beta = np.dot(1/(np.dot(x.T, x)), np.dot(x.T, y))"
   ]
  },
  {
   "cell_type": "code",
   "execution_count": 40,
   "metadata": {
    "tags": []
   },
   "outputs": [],
   "source": [
    "# So do this\n",
    "beta = (1 / x.T.dot(x)) * (x.T.dot(y))"
   ]
  },
  {
   "cell_type": "code",
   "execution_count": 41,
   "metadata": {},
   "outputs": [
    {
     "data": {
      "text/plain": [
       "1.03"
      ]
     },
     "execution_count": 41,
     "metadata": {},
     "output_type": "execute_result"
    }
   ],
   "source": [
    "round(beta, 4)"
   ]
  },
  {
   "cell_type": "code",
   "execution_count": 42,
   "metadata": {},
   "outputs": [],
   "source": [
    "# Another way"
   ]
  },
  {
   "cell_type": "code",
   "execution_count": 43,
   "metadata": {},
   "outputs": [],
   "source": [
    "xm = x.reshape((-1,1))\n",
    "beta2 = (np.linalg.inv(xm.T.dot(xm)) * x.T.dot(y))[0, 0]"
   ]
  },
  {
   "cell_type": "code",
   "execution_count": 44,
   "metadata": {},
   "outputs": [
    {
     "data": {
      "text/plain": [
       "1.03"
      ]
     },
     "execution_count": 44,
     "metadata": {},
     "output_type": "execute_result"
    }
   ],
   "source": [
    "round(beta2, 4)"
   ]
  },
  {
   "cell_type": "markdown",
   "metadata": {},
   "source": [
    "Yet another way"
   ]
  },
  {
   "cell_type": "code",
   "execution_count": 45,
   "metadata": {
    "tags": []
   },
   "outputs": [],
   "source": [
    "beta3 = (1/np.matmul(np.transpose(x),x))*np.matmul(np.transpose(x),y)"
   ]
  },
  {
   "cell_type": "code",
   "execution_count": 46,
   "metadata": {
    "tags": []
   },
   "outputs": [
    {
     "data": {
      "text/plain": [
       "1.03"
      ]
     },
     "execution_count": 46,
     "metadata": {},
     "output_type": "execute_result"
    }
   ],
   "source": [
    "round(beta3, 4)"
   ]
  },
  {
   "cell_type": "markdown",
   "metadata": {
    "tags": []
   },
   "source": [
    "# Task 6\n",
    "\n",
    "(3 PTS)\n",
    "\n",
    "**Measuring Beta Sensitivity to Dropping Observations (Jackknifing)**\n",
    "\n",
    "Let's understand how sensitive the beta is to each data point.   \n",
    "We want to drop each data point (one at a time), compute \\\\(\\hat\\beta_i\\\\) using our formula from above, and save each measurement.\n",
    "\n",
    "Write a function called `beta_sensitivity()` with these specs:\n",
    "\n",
    "- Take numpy arrays x and y as inputs.\n",
    "- For each observation i, compute the beta without the current observation. You can use a `lambda` function for this.\n",
    "- Return a list of tuples each containing the observation row dropped and the beta estimate, i.e. something like `(i, beta_est)`, depending how you've named your variables.\n",
    "\n",
    "Hint: `np.delete(x, i)` will delete observation i from array x. "
   ]
  },
  {
   "cell_type": "markdown",
   "metadata": {},
   "source": [
    "Call `beta_sensitivity()` and print the first five tuples of output."
   ]
  },
  {
   "cell_type": "code",
   "execution_count": 47,
   "metadata": {},
   "outputs": [],
   "source": [
    "# ENTER FUNCTION"
   ]
  },
  {
   "cell_type": "code",
   "execution_count": 48,
   "metadata": {},
   "outputs": [],
   "source": [
    "# CALL FUNCTION"
   ]
  },
  {
   "cell_type": "code",
   "execution_count": 49,
   "metadata": {},
   "outputs": [],
   "source": [
    "# READ DATA"
   ]
  },
  {
   "cell_type": "markdown",
   "metadata": {
    "tags": []
   },
   "source": [
    "### Solution 1"
   ]
  },
  {
   "cell_type": "code",
   "execution_count": 50,
   "metadata": {},
   "outputs": [],
   "source": [
    "get_beta = lambda x, y: (1 / x.T.dot(x)) * (x.T.dot(y))"
   ]
  },
  {
   "cell_type": "code",
   "execution_count": 51,
   "metadata": {},
   "outputs": [
    {
     "data": {
      "text/plain": [
       "1.029980294240815"
      ]
     },
     "execution_count": 51,
     "metadata": {},
     "output_type": "execute_result"
    }
   ],
   "source": [
    "get_beta(x, y)"
   ]
  },
  {
   "cell_type": "code",
   "execution_count": 52,
   "metadata": {},
   "outputs": [],
   "source": [
    "# zip?"
   ]
  },
  {
   "cell_type": "code",
   "execution_count": 53,
   "metadata": {},
   "outputs": [],
   "source": [
    "def beta_sensitivity(x, y):\n",
    "    beta_data = []\n",
    "    for i in range(len(x)):\n",
    "        x_tmp = np.delete(x, i)\n",
    "        y_tmp = np.delete(y, i)\n",
    "        beta_data.append((i, get_beta(x_tmp, y_tmp)))\n",
    "    return beta_data"
   ]
  },
  {
   "cell_type": "code",
   "execution_count": 54,
   "metadata": {},
   "outputs": [],
   "source": [
    "# x.shape"
   ]
  },
  {
   "cell_type": "code",
   "execution_count": 55,
   "metadata": {},
   "outputs": [],
   "source": [
    "beta_data = beta_sensitivity(x, y)"
   ]
  },
  {
   "cell_type": "code",
   "execution_count": 56,
   "metadata": {},
   "outputs": [
    {
     "data": {
      "text/plain": [
       "[(0, 1.030847730172396),\n",
       " (1, 1.0308516176393125),\n",
       " (2, 1.0308255236222597),\n",
       " (3, 1.0308357542837523),\n",
       " (4, 1.030759501843587)]"
      ]
     },
     "execution_count": 56,
     "metadata": {},
     "output_type": "execute_result"
    }
   ],
   "source": [
    "beta_data[:5]"
   ]
  },
  {
   "cell_type": "markdown",
   "metadata": {},
   "source": [
    "### Solution 2"
   ]
  },
  {
   "cell_type": "code",
   "execution_count": 57,
   "metadata": {},
   "outputs": [],
   "source": [
    "def beta_sensitivity2(X):\n",
    "    beta_data = []\n",
    "    for i in range(len(X)):\n",
    "        X1 = np.delete(X, i, 0)\n",
    "        beta_data.append((i, get_beta(X1[:, 0], X1[:, 1])))\n",
    "    return beta_data"
   ]
  },
  {
   "cell_type": "code",
   "execution_count": 58,
   "metadata": {},
   "outputs": [],
   "source": [
    "beta_data2 = beta_sensitivity2(EXCESS)"
   ]
  },
  {
   "cell_type": "code",
   "execution_count": 59,
   "metadata": {},
   "outputs": [
    {
     "data": {
      "text/plain": [
       "[(0, 1.030847730172396),\n",
       " (1, 1.0308516176393125),\n",
       " (2, 1.0308255236222599),\n",
       " (3, 1.0308357542837525),\n",
       " (4, 1.030759501843587)]"
      ]
     },
     "execution_count": 59,
     "metadata": {},
     "output_type": "execute_result"
    }
   ],
   "source": [
    "beta_data2[:5]"
   ]
  },
  {
   "cell_type": "markdown",
   "metadata": {
    "tags": []
   },
   "source": [
    "### Solution 3"
   ]
  },
  {
   "cell_type": "code",
   "execution_count": 60,
   "metadata": {},
   "outputs": [],
   "source": [
    "get_beta3 = lambda X: (np.linalg.inv(X[:, :-1].T.dot(X[:, :-1]))) * (X[:, :-1].T.dot(X[:, -1]))\n",
    "beta_sensitivity3 = lambda X: [(i, get_beta3(np.delete(X, i, 0))[0, 0]) for i in range(len(X))]"
   ]
  },
  {
   "cell_type": "code",
   "execution_count": 61,
   "metadata": {},
   "outputs": [],
   "source": [
    "beta_data3 = beta_sensitivity3(EXCESS)"
   ]
  },
  {
   "cell_type": "code",
   "execution_count": 62,
   "metadata": {},
   "outputs": [
    {
     "data": {
      "text/plain": [
       "[(0, 1.030847730172396),\n",
       " (1, 1.0308516176393125),\n",
       " (2, 1.0308255236222599),\n",
       " (3, 1.0308357542837525),\n",
       " (4, 1.030759501843587)]"
      ]
     },
     "execution_count": 62,
     "metadata": {},
     "output_type": "execute_result"
    }
   ],
   "source": [
    "beta_data3[:5]"
   ]
  }
 ],
 "metadata": {
  "kernelspec": {
   "display_name": "Python 3 (ipykernel)",
   "language": "python",
   "name": "python3"
  },
  "language_info": {
   "codemirror_mode": {
    "name": "ipython",
    "version": 3
   },
   "file_extension": ".py",
   "mimetype": "text/x-python",
   "name": "python",
   "nbconvert_exporter": "python",
   "pygments_lexer": "ipython3",
   "version": "3.11.4"
  },
  "vscode": {
   "interpreter": {
    "hash": "c3b963de08c47c3b6758389c5e0978ad73698a111eb508d4e16b558edb8f4cbf"
   }
  },
  "widgets": {
   "application/vnd.jupyter.widget-state+json": {
    "state": {},
    "version_major": 2,
    "version_minor": 0
   }
  }
 },
 "nbformat": 4,
 "nbformat_minor": 4
}
