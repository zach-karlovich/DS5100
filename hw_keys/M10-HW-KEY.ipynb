{
 "cells": [
  {
   "cell_type": "markdown",
   "id": "0fb21e40-782d-4f60-8156-accccb9dbb00",
   "metadata": {},
   "source": [
    "**TOTAL POINTS: 12**"
   ]
  },
  {
   "cell_type": "markdown",
   "id": "e437e169-2ad5-40e4-9413-294eeaa1b2db",
   "metadata": {},
   "source": [
    "# Metadata\n",
    "\n",
    "```yaml\n",
    "Course:  DS 5100\n",
    "Module:  10 R Programming 1\n",
    "Topic:   HW Computing Payoff for a Quota Structure\n",
    "Author:  R.C. Alvarado (adapted)\n",
    "Date:    7 July 2023 (revised)\n",
    "```"
   ]
  },
  {
   "cell_type": "markdown",
   "id": "c9747658-4f1e-4ef7-8099-3fdc3d9999dd",
   "metadata": {},
   "source": [
    "# Instructions\n",
    "\n",
    "In your **private course repo** use this notebook to write code that\n",
    "performs the tasks below.\n",
    "\n",
    "Save your notebook in the `M10` directory.\n",
    "\n",
    "Remember to add and commit these files to your repo.\n",
    "\n",
    "Then push your commits to your repo on GitHib.\n",
    "\n",
    "Be sure to fill out the **Student Info** block above.\n",
    "\n",
    "To submit your homework, save your results as a PDF and upload it to\n",
    "GradeScope.\n",
    "\n",
    "**TOTAL POINTS: 12**"
   ]
  },
  {
   "cell_type": "markdown",
   "id": "99b2d5fb-6c51-4977-84e4-784cd716ea78",
   "metadata": {
    "jp-MarkdownHeadingCollapsed": true
   },
   "source": [
    "# Overview\n",
    "\n",
    "A salesperson at a large tech firm is faced with a new payment structure.\n",
    "\n",
    "This salesperson has a quarterly sales quota $Q$ of $\\$225,000$.\n",
    "\n",
    "The commission received $C$ follows a progressive schedule with four brackets as follows:\n",
    "\n",
    "- **Bracket 1**.  For the first $40\\%$ of $Q$, the salesperson receives $7\\%$ on $Q$ reached.\n",
    "- **Bracket 2**.  For the next $30\\%$ of $Q$, the salesperson receives $10\\%$ on $Q$ reached.\n",
    "- **Bracket 3**.  For the next $20\\%$ of $Q$, the salesperson receives $13\\%$ on $Q$ reached.\n",
    "- **Bracket 4**.  For the final $10\\%$ of $Q$, the salesperson receives $16\\%$ on $Q$ reached.\n",
    "\n",
    "<!-- A summmary formula for computing the amount earned $P$ by the salesperson would be the following:\n",
    "\n",
    "$P = w_1 x_1 + w_2  x_2 + x_3 w_3 + x_4 w_4$\n",
    "\n",
    "where $ w_i \\in [.07, .1, .13, .16]$ and $x_i \\in$ the amounts earned within each bracket $[.4, .3, .2, .1]$\n",
    " -->\n",
    "\n",
    "As an example of how to apply this schedule, consider the case of a salesperson who brings in $50\\%$ of $Q$, or $\\$112,500$ of sales.\\\n",
    "In this situation, the sales land in the second bracket. So we can compute $C$ as follows:\n",
    "\n",
    "-   $a$ = the first $40\\%$ paid out at $7\\%$, or $\\$225,000 \\times 40\\% \\times 7\\% = \\$6,300$.\n",
    "-   $b$ = the next $10\\%$ paid out at $10\\%$, or $\\$225,000 \\times 10\\% \\times 10\\% = \\$2,250$. \n",
    "\n",
    "The total payout $C$ to the salesperson would be $a + b = \\$8,550$.\n",
    "\n",
    "Notice that getting to the second bracket does _not_ mean the payout is $\\$225,000 \\times 50\\% \\times 10\\%$.\n",
    "\n",
    "In another example, a salesperson is at $20\\%$ quota. Their payout would be\n",
    "$\\$225,000 \\times 20\\% \\times 7\\%$.\n",
    "\n",
    "This schedule represents earnings up to $100\\%$ of quota. We ignore sales\n",
    "above $100\\%$ here.\n",
    "\n",
    "Given the above, the salesperson would like to know how much she would earn\n",
    "if she reaches a given percentage of quarterly quota."
   ]
  },
  {
   "cell_type": "markdown",
   "id": "2c0e4be8-0855-443f-9852-4e3fbd32ed8d",
   "metadata": {
    "tags": []
   },
   "source": [
    "# Task 1\n",
    "\n",
    "(2 points)\n",
    "\n",
    "Assign the value of $Q$ to `quota`.\n",
    "\n",
    "Create a dataframe called `df` that encodes the information presented in the question. \n",
    "\n",
    "That is, assume that each row of the dataframe stands for a\n",
    "bracket, and that the columns stand for the features described in the\n",
    "progressive schedule. \n",
    "\n",
    "Initially, the dataframe should have two columns:\n",
    "\n",
    "- `cut` for the percentage value associated with the bracket, i.e. $.4, .3, ...$\n",
    "- `payout_pct` for the percent of $Q$ received for the bracket, i.e. $.07, .1, ...$\n",
    "\n",
    "In both cases, express the percentages as a decimal value between $0$ and $1$.\n"
   ]
  },
  {
   "cell_type": "code",
   "execution_count": 9,
   "id": "57473f71-825c-4143-9265-f1452d0a353f",
   "metadata": {
    "jp-MarkdownHeadingCollapsed": true,
    "tags": []
   },
   "outputs": [],
   "source": [
    "quota <- 225000\n",
    "\n",
    "df <- data.frame(\n",
    "    cut         = c(.4, .3, .2, .1),\n",
    "    payout_pct  = c(.07, .1, .13, .16)\n",
    ")"
   ]
  },
  {
   "attachments": {},
   "cell_type": "markdown",
   "id": "e324b0ba-a07a-4ded-aded-649d988bc9a1",
   "metadata": {
    "tags": []
   },
   "source": [
    "# Task 2\n",
    "\n",
    "(2 points)\n",
    "\n",
    "Augment `df` with derived columns that will be used to compute $C$ for a given amount of sales:\n",
    "\n",
    "- `cut_sum`: The cumulative sum of `cut`, e.g. $.4$, $.7, ...$\n",
    "- `amt`: The earned quota, i.e. product of `cut` and $Q$.\n",
    "- `payout`: The product of `amt` and `payout_cut`.\n",
    "- `payout_sum`: The cumulative sum of `payout`.\n",
    "- `amt_sum`: The cumulative sum of the earned quota `amt`."
   ]
  },
  {
   "cell_type": "code",
   "execution_count": 10,
   "id": "bafdd6ff-754a-4542-bda5-f5870b9c95bf",
   "metadata": {
    "jp-MarkdownHeadingCollapsed": true,
    "tags": []
   },
   "outputs": [],
   "source": [
    "# The combined percentage for \n",
    "df$cut_sum <- cumsum(df$cut)\n",
    "\n",
    "# Amount of quota in each bracket\n",
    "df$amt <- df$cut * quota\n",
    "\n",
    "# The cumulative sum of the earned quota \n",
    "df$amt_sum <- cumsum(df$amt)\n",
    "\n",
    "# The (max) payout for each bracket\n",
    "df$payout <- df$amt * df$payout_pct\n",
    "\n",
    "# The cumulative sum of the payout \n",
    "df$payout_sum <- cumsum(df$payout)"
   ]
  },
  {
   "cell_type": "code",
   "execution_count": 11,
   "id": "dda90b6e-0d53-4005-8009-bef6c94a06f9",
   "metadata": {
    "tags": []
   },
   "outputs": [
    {
     "data": {
      "text/html": [
       "<table class=\"dataframe\">\n",
       "<caption>A data.frame: 4 × 7</caption>\n",
       "<thead>\n",
       "\t<tr><th scope=col>cut</th><th scope=col>payout_pct</th><th scope=col>cut_sum</th><th scope=col>amt</th><th scope=col>amt_sum</th><th scope=col>payout</th><th scope=col>payout_sum</th></tr>\n",
       "\t<tr><th scope=col>&lt;dbl&gt;</th><th scope=col>&lt;dbl&gt;</th><th scope=col>&lt;dbl&gt;</th><th scope=col>&lt;dbl&gt;</th><th scope=col>&lt;dbl&gt;</th><th scope=col>&lt;dbl&gt;</th><th scope=col>&lt;dbl&gt;</th></tr>\n",
       "</thead>\n",
       "<tbody>\n",
       "\t<tr><td>0.4</td><td>0.07</td><td>0.4</td><td>90000</td><td> 90000</td><td>6300</td><td> 6300</td></tr>\n",
       "\t<tr><td>0.3</td><td>0.10</td><td>0.7</td><td>67500</td><td>157500</td><td>6750</td><td>13050</td></tr>\n",
       "\t<tr><td>0.2</td><td>0.13</td><td>0.9</td><td>45000</td><td>202500</td><td>5850</td><td>18900</td></tr>\n",
       "\t<tr><td>0.1</td><td>0.16</td><td>1.0</td><td>22500</td><td>225000</td><td>3600</td><td>22500</td></tr>\n",
       "</tbody>\n",
       "</table>\n"
      ],
      "text/latex": [
       "A data.frame: 4 × 7\n",
       "\\begin{tabular}{lllllll}\n",
       " cut & payout\\_pct & cut\\_sum & amt & amt\\_sum & payout & payout\\_sum\\\\\n",
       " <dbl> & <dbl> & <dbl> & <dbl> & <dbl> & <dbl> & <dbl>\\\\\n",
       "\\hline\n",
       "\t 0.4 & 0.07 & 0.4 & 90000 &  90000 & 6300 &  6300\\\\\n",
       "\t 0.3 & 0.10 & 0.7 & 67500 & 157500 & 6750 & 13050\\\\\n",
       "\t 0.2 & 0.13 & 0.9 & 45000 & 202500 & 5850 & 18900\\\\\n",
       "\t 0.1 & 0.16 & 1.0 & 22500 & 225000 & 3600 & 22500\\\\\n",
       "\\end{tabular}\n"
      ],
      "text/markdown": [
       "\n",
       "A data.frame: 4 × 7\n",
       "\n",
       "| cut &lt;dbl&gt; | payout_pct &lt;dbl&gt; | cut_sum &lt;dbl&gt; | amt &lt;dbl&gt; | amt_sum &lt;dbl&gt; | payout &lt;dbl&gt; | payout_sum &lt;dbl&gt; |\n",
       "|---|---|---|---|---|---|---|\n",
       "| 0.4 | 0.07 | 0.4 | 90000 |  90000 | 6300 |  6300 |\n",
       "| 0.3 | 0.10 | 0.7 | 67500 | 157500 | 6750 | 13050 |\n",
       "| 0.2 | 0.13 | 0.9 | 45000 | 202500 | 5850 | 18900 |\n",
       "| 0.1 | 0.16 | 1.0 | 22500 | 225000 | 3600 | 22500 |\n",
       "\n"
      ],
      "text/plain": [
       "  cut payout_pct cut_sum amt   amt_sum payout payout_sum\n",
       "1 0.4 0.07       0.4     90000  90000  6300    6300     \n",
       "2 0.3 0.10       0.7     67500 157500  6750   13050     \n",
       "3 0.2 0.13       0.9     45000 202500  5850   18900     \n",
       "4 0.1 0.16       1.0     22500 225000  3600   22500     "
      ]
     },
     "metadata": {},
     "output_type": "display_data"
    }
   ],
   "source": [
    "df"
   ]
  },
  {
   "cell_type": "markdown",
   "id": "986109da-0b37-4cea-be7a-798d8a0cc116",
   "metadata": {},
   "source": [
    "# Task 3\n",
    "\n",
    "(2 points)\n",
    "\n",
    "Write a function `get_bracket()` that will return the bracket number $k \\in [1,2,3,4]$ for a given amount of sales $S$, represented as a fraction of $Q$ expressed as a decimal number rounded to one place.\n",
    "\n",
    "For example, if a salesperson makes $50\\%$ of quota, then $S = .5$.\n",
    "\n",
    "The function should use `df` and assume it is global.\n",
    "\n",
    "Hints: \n",
    "\n",
    "This function requires that you match $S$ to a value in the appropriate column of `df`. To do this, you'll need to use a boolean condition comparing $S$ to the column, and then select the index of the column that meets the condition. You can select the index using `which()`.\n",
    "\n",
    "However, sometimes `which()` will return a vector with more than one value, so you will need to select either the `min()` or `max()` of the returned vector, depending on the condition.\n",
    "\n",
    "Finally, to make sure that borderline values, such as $.4$, are matched with the correct bracket (e.g. $.4$ belongs to bracket 1 not 2), you should round both values in the boolean expression using `round()`."
   ]
  },
  {
   "cell_type": "code",
   "execution_count": 17,
   "id": "c02ad870-368e-4cc7-a9e8-1868732ab626",
   "metadata": {},
   "outputs": [],
   "source": [
    "get_bracket <- function(qq_frac) {\n",
    "    bracket <- min(which(round(qq_frac, 1) <= round(df$cut_sum, 1)))\n",
    "    return(bracket)\n",
    "}"
   ]
  },
  {
   "cell_type": "code",
   "execution_count": 23,
   "id": "9e93b0e9-27f3-4f65-9dee-6e5f3b98d77a",
   "metadata": {},
   "outputs": [
    {
     "data": {
      "text/html": [
       "2"
      ],
      "text/latex": [
       "2"
      ],
      "text/markdown": [
       "2"
      ],
      "text/plain": [
       "[1] 2"
      ]
     },
     "metadata": {},
     "output_type": "display_data"
    }
   ],
   "source": [
    "get_bracket(.5)"
   ]
  },
  {
   "cell_type": "markdown",
   "id": "39b78963-b75c-4a96-a625-c9918a8fd660",
   "metadata": {
    "tags": []
   },
   "source": [
    "# Task 4\n",
    "\n",
    "(4 points)\n",
    "\n",
    "Write a function that takes an argument for the fraction of quarterly\n",
    "quota $S$ reached by the salesperson and returns the dollar amount earned $C$.\n",
    "\n",
    "This function must use `df` and `get_bracket()` as globals. \n",
    "\n",
    "Do not use for loops in completing this task or the next. Instead, let\n",
    "your dataframe do the work. In your function, match the amount earned\n",
    "to the appropriate row in your first dataframe to get the information needed to computer the answer.\n",
    "\n",
    "Hints:\n",
    "\n",
    "You can compute the result using only the data for the row associated with the bracket.\n",
    "\n",
    "Try to emulate the formula in the instructions, where $C = a + b$, and $a$ is the commission earned from the lower brackets and $b$ is the commission earned on the quota $Q$ reached in the current bracket. \n",
    "\n",
    "The value of $a$ can be computed by subtracting the payout for the bracket from the cumulative sum of the payout. \n",
    "\n",
    "There are various ways to compute the value of $b$. One way is to figure out how much of the earnings apply to the current bracket and then multiply that by the payout percentage. Another is to emulate the example &mdash; compute the percentage of $S$ that applies to the bracket and multiply this by $Q$ and the payout percentage.\n",
    "\n",
    "Note, finally, that you may need all of the columns in `df` to compute $C$."
   ]
  },
  {
   "cell_type": "code",
   "execution_count": 38,
   "id": "e0bb2887-1884-4427-bbd7-a97f02aab9c8",
   "metadata": {
    "jp-MarkdownHeadingCollapsed": true,
    "tags": []
   },
   "outputs": [],
   "source": [
    "get_payout <- function(qq_frac) {\n",
    "    bracket <- get_bracket(qq_frac)\n",
    "    B <- df[bracket,]\n",
    "    a <- B$payout_sum - B$payout # Same as previous payout_sum\n",
    "    b <- (qq_frac - (B$cut_sum - B$cut)) * quota * B$payout_pct\n",
    "    commission <- a + b\n",
    "    return(commission)\n",
    "}"
   ]
  },
  {
   "cell_type": "code",
   "execution_count": 37,
   "id": "8e4ed489-7ffe-43d9-93c2-69b80b8df251",
   "metadata": {},
   "outputs": [
    {
     "data": {
      "text/html": [
       "6300"
      ],
      "text/latex": [
       "6300"
      ],
      "text/markdown": [
       "6300"
      ],
      "text/plain": [
       "[1] 6300"
      ]
     },
     "metadata": {},
     "output_type": "display_data"
    }
   ],
   "source": [
    "get_payout(.4)"
   ]
  },
  {
   "attachments": {},
   "cell_type": "markdown",
   "id": "d1463c9d-4bd8-46bc-bb94-5605e4668713",
   "metadata": {
    "tags": []
   },
   "source": [
    "# Task 5\n",
    "\n",
    "(2 points)\n",
    "\n",
    "Call the function to get the dollar amount earned in increments of\n",
    "$10\\%$ in a range between $10\\%$ to $100\\%$ earned. Note that you can use\n",
    "`seq()` to generate these increments.\n",
    "\n",
    "Put the results of your function in a second\n",
    "dataframe called `df2` with columns for percent of quota\n",
    "earned $S$ and commission $C$ for that amount.\n",
    "\n",
    "The result should look like this:\n",
    "\n",
    "```\n",
    "     S     C\n",
    "1  0.1  1575\n",
    "2  0.2  3150\n",
    "3  0.3  4725\n",
    "4  0.4  6300\n",
    "5  0.5  8550\n",
    "6  0.6 10800\n",
    "7  0.7 13050\n",
    "8  0.8 15975\n",
    "9  0.9 18900\n",
    "10 1.0 22500\n",
    "```"
   ]
  },
  {
   "cell_type": "code",
   "execution_count": 15,
   "id": "c3079086-4472-40d4-b419-341ffd723144",
   "metadata": {
    "jp-MarkdownHeadingCollapsed": true,
    "tags": []
   },
   "outputs": [],
   "source": [
    "df2 <- data.frame(S = seq(.1, 1, by=.1))\n",
    "df2$C <- apply(df2, 1, get_payout)"
   ]
  },
  {
   "cell_type": "code",
   "execution_count": 16,
   "id": "882194b5-94c4-48fa-9fc7-8e07e09a6b09",
   "metadata": {},
   "outputs": [
    {
     "name": "stdout",
     "output_type": "stream",
     "text": [
      "     S     C\n",
      "1  0.1  1575\n",
      "2  0.2  3150\n",
      "3  0.3  4725\n",
      "4  0.4  6300\n",
      "5  0.5  8550\n",
      "6  0.6 10800\n",
      "7  0.7 13050\n",
      "8  0.8 15975\n",
      "9  0.9 18900\n",
      "10 1.0 22500\n"
     ]
    }
   ],
   "source": [
    "print(df2)"
   ]
  },
  {
   "cell_type": "markdown",
   "id": "bd5e680a-0c8b-4472-aac7-6bd3247fda1f",
   "metadata": {},
   "source": [
    "# Explanations"
   ]
  },
  {
   "cell_type": "code",
   "execution_count": 29,
   "id": "edee493d-f9f2-427a-b306-a69fa2d62d45",
   "metadata": {},
   "outputs": [],
   "source": [
    "qq_frac = .5"
   ]
  },
  {
   "cell_type": "code",
   "execution_count": 30,
   "id": "6f826c5e-fb95-48ae-ad65-2e2a2e1d927a",
   "metadata": {
    "scrolled": true
   },
   "outputs": [
    {
     "data": {
      "text/html": [
       "<style>\n",
       ".list-inline {list-style: none; margin:0; padding: 0}\n",
       ".list-inline>li {display: inline-block}\n",
       ".list-inline>li:not(:last-child)::after {content: \"\\00b7\"; padding: 0 .5ex}\n",
       "</style>\n",
       "<ol class=list-inline><li>FALSE</li><li>TRUE</li><li>TRUE</li><li>TRUE</li></ol>\n"
      ],
      "text/latex": [
       "\\begin{enumerate*}\n",
       "\\item FALSE\n",
       "\\item TRUE\n",
       "\\item TRUE\n",
       "\\item TRUE\n",
       "\\end{enumerate*}\n"
      ],
      "text/markdown": [
       "1. FALSE\n",
       "2. TRUE\n",
       "3. TRUE\n",
       "4. TRUE\n",
       "\n",
       "\n"
      ],
      "text/plain": [
       "[1] FALSE  TRUE  TRUE  TRUE"
      ]
     },
     "metadata": {},
     "output_type": "display_data"
    }
   ],
   "source": [
    "qq_frac <= df$cut_sum"
   ]
  },
  {
   "cell_type": "code",
   "execution_count": 31,
   "id": "0d68a4be-13af-42dc-893e-e96bc3b34950",
   "metadata": {
    "scrolled": true
   },
   "outputs": [
    {
     "data": {
      "text/html": [
       "<style>\n",
       ".list-inline {list-style: none; margin:0; padding: 0}\n",
       ".list-inline>li {display: inline-block}\n",
       ".list-inline>li:not(:last-child)::after {content: \"\\00b7\"; padding: 0 .5ex}\n",
       "</style>\n",
       "<ol class=list-inline><li>FALSE</li><li>TRUE</li><li>TRUE</li><li>TRUE</li></ol>\n"
      ],
      "text/latex": [
       "\\begin{enumerate*}\n",
       "\\item FALSE\n",
       "\\item TRUE\n",
       "\\item TRUE\n",
       "\\item TRUE\n",
       "\\end{enumerate*}\n"
      ],
      "text/markdown": [
       "1. FALSE\n",
       "2. TRUE\n",
       "3. TRUE\n",
       "4. TRUE\n",
       "\n",
       "\n"
      ],
      "text/plain": [
       "[1] FALSE  TRUE  TRUE  TRUE"
      ]
     },
     "metadata": {},
     "output_type": "display_data"
    }
   ],
   "source": [
    "round(qq_frac, 1) <= round(df$cut_sum, 1)"
   ]
  },
  {
   "cell_type": "code",
   "execution_count": 32,
   "id": "347b529d-14b1-4a7a-8ee7-4b5e3c7803e6",
   "metadata": {
    "scrolled": true
   },
   "outputs": [
    {
     "data": {
      "text/html": [
       "<style>\n",
       ".list-inline {list-style: none; margin:0; padding: 0}\n",
       ".list-inline>li {display: inline-block}\n",
       ".list-inline>li:not(:last-child)::after {content: \"\\00b7\"; padding: 0 .5ex}\n",
       "</style>\n",
       "<ol class=list-inline><li>2</li><li>3</li><li>4</li></ol>\n"
      ],
      "text/latex": [
       "\\begin{enumerate*}\n",
       "\\item 2\n",
       "\\item 3\n",
       "\\item 4\n",
       "\\end{enumerate*}\n"
      ],
      "text/markdown": [
       "1. 2\n",
       "2. 3\n",
       "3. 4\n",
       "\n",
       "\n"
      ],
      "text/plain": [
       "[1] 2 3 4"
      ]
     },
     "metadata": {},
     "output_type": "display_data"
    }
   ],
   "source": [
    "which(round(qq_frac, 1) <= round(df$cut_sum, 1))"
   ]
  },
  {
   "cell_type": "code",
   "execution_count": 33,
   "id": "83e9f5bf-ef20-4631-843c-a12fe29c4563",
   "metadata": {},
   "outputs": [
    {
     "data": {
      "text/html": [
       "2"
      ],
      "text/latex": [
       "2"
      ],
      "text/markdown": [
       "2"
      ],
      "text/plain": [
       "[1] 2"
      ]
     },
     "metadata": {},
     "output_type": "display_data"
    }
   ],
   "source": [
    "min(which(round(qq_frac, 1) <= round(df$cut_sum, 1)))"
   ]
  }
 ],
 "metadata": {
  "kernelspec": {
   "display_name": "R Environment",
   "language": "R",
   "name": "r_env"
  },
  "language_info": {
   "codemirror_mode": "r",
   "file_extension": ".r",
   "mimetype": "text/x-r-source",
   "name": "R",
   "pygments_lexer": "r",
   "version": "4.3.1"
  },
  "widgets": {
   "application/vnd.jupyter.widget-state+json": {
    "state": {},
    "version_major": 2,
    "version_minor": 0
   }
  }
 },
 "nbformat": 4,
 "nbformat_minor": 5
}
