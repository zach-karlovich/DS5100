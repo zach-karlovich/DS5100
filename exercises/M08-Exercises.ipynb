{
 "cells": [
  {
   "cell_type": "markdown",
   "id": "3a5a8c36-d0ca-483e-9f75-6f5dabdabd77",
   "metadata": {
    "slideshow": {
     "slide_type": "slide"
    }
   },
   "source": [
    "# M08 Exercises\n",
    "\n",
    "DS 5100 Programming for Data Science"
   ]
  },
  {
   "cell_type": "markdown",
   "id": "5703a871-e449-4727-bf2f-3a9f69afb794",
   "metadata": {
    "slideshow": {
     "slide_type": "slide"
    }
   },
   "source": [
    "# Exercise 8.1\n",
    "\n",
    "Write a `try/except` statement to handle a `ZeroDivisionError` exception. \n",
    "\n",
    "\n",
    "\n",
    "Verify it works properly."
   ]
  },
  {
   "cell_type": "code",
   "execution_count": 1,
   "id": "139e003c-daa3-4d45-ab4d-500017f8532f",
   "metadata": {
    "slideshow": {
     "slide_type": "subslide"
    },
    "tags": []
   },
   "outputs": [
    {
     "name": "stdout",
     "output_type": "stream",
     "text": [
      "Caught an exception! Error message: division by zero\n"
     ]
    }
   ],
   "source": [
    "x = 5\n",
    "y = 0\n",
    "\n",
    "try: \n",
    "    z = x / y\n",
    "    print('z=', z)\n",
    "except ZeroDivisionError as e:\n",
    "    print('Caught an exception! Error message:', e)"
   ]
  },
  {
   "cell_type": "code",
   "execution_count": 2,
   "id": "7c82601d-bb27-4bf5-97ef-bbedb48104db",
   "metadata": {
    "slideshow": {
     "slide_type": "subslide"
    },
    "tags": []
   },
   "outputs": [
    {
     "name": "stdout",
     "output_type": "stream",
     "text": [
      "z= 5.0\n"
     ]
    }
   ],
   "source": [
    "y1 = 1\n",
    "\n",
    "try: \n",
    "    z = x / y1\n",
    "    print('z=', z)\n",
    "except ZeroDivisionError as e:\n",
    "    print('Caught an exception!', e)"
   ]
  },
  {
   "cell_type": "markdown",
   "id": "2bfc7c76-b70e-4048-889e-fb1e5cba1bae",
   "metadata": {
    "slideshow": {
     "slide_type": "slide"
    },
    "tags": []
   },
   "source": [
    "# Exercise 8.2\n",
    "\n",
    "Write two simple boolean expressions, one `True` and one `False`.\n",
    "\n",
    "Assign each to a variabl.\n",
    "\n",
    "Use an `assert` statement to test each variable.  \n",
    "\n",
    "Besure to include an error message."
   ]
  },
  {
   "cell_type": "code",
   "execution_count": 34,
   "id": "1a25725a-bd5b-417d-b90f-c8c1cd730112",
   "metadata": {
    "slideshow": {
     "slide_type": "subslide"
    },
    "tags": []
   },
   "outputs": [],
   "source": [
    "x2 = 2 + 2 == 4\n",
    "assert x2, \"This is not 1984!\""
   ]
  },
  {
   "cell_type": "code",
   "execution_count": 35,
   "id": "8f597be9-8d81-4f18-9323-9b8059e7918c",
   "metadata": {
    "slideshow": {
     "slide_type": "fragment"
    },
    "tags": []
   },
   "outputs": [
    {
     "ename": "AssertionError",
     "evalue": "This is not 1984!",
     "output_type": "error",
     "traceback": [
      "\u001b[0;31m---------------------------------------------------------------------------\u001b[0m",
      "\u001b[0;31mAssertionError\u001b[0m                            Traceback (most recent call last)",
      "Cell \u001b[0;32mIn[35], line 2\u001b[0m\n\u001b[1;32m      1\u001b[0m x3 \u001b[38;5;241m=\u001b[39m \u001b[38;5;241m2\u001b[39m \u001b[38;5;241m+\u001b[39m \u001b[38;5;241m2\u001b[39m \u001b[38;5;241m==\u001b[39m \u001b[38;5;241m5\u001b[39m\n\u001b[0;32m----> 2\u001b[0m \u001b[38;5;28;01massert\u001b[39;00m x3, \u001b[38;5;124m\"\u001b[39m\u001b[38;5;124mThis is not 1984!\u001b[39m\u001b[38;5;124m\"\u001b[39m\n",
      "\u001b[0;31mAssertionError\u001b[0m: This is not 1984!"
     ]
    }
   ],
   "source": [
    "x3 = 2 + 2 == 5\n",
    "assert x3, \"This is not 1984!\""
   ]
  },
  {
   "cell_type": "code",
   "execution_count": 36,
   "id": "b27019c2-10f2-418f-90eb-36965151fa79",
   "metadata": {
    "slideshow": {
     "slide_type": "subslide"
    },
    "tags": []
   },
   "outputs": [],
   "source": [
    "x4 = True\n",
    "assert x4, \"x should be True!\""
   ]
  },
  {
   "cell_type": "code",
   "execution_count": 37,
   "id": "0dd19e24-575b-44bc-9e30-31cff7ec2d67",
   "metadata": {
    "scrolled": true,
    "slideshow": {
     "slide_type": "fragment"
    },
    "tags": []
   },
   "outputs": [
    {
     "ename": "AssertionError",
     "evalue": "x should be True!",
     "output_type": "error",
     "traceback": [
      "\u001b[0;31m---------------------------------------------------------------------------\u001b[0m",
      "\u001b[0;31mAssertionError\u001b[0m                            Traceback (most recent call last)",
      "Cell \u001b[0;32mIn[37], line 2\u001b[0m\n\u001b[1;32m      1\u001b[0m x \u001b[38;5;241m=\u001b[39m \u001b[38;5;28;01mFalse\u001b[39;00m\n\u001b[0;32m----> 2\u001b[0m \u001b[38;5;28;01massert\u001b[39;00m x, \u001b[38;5;124m\"\u001b[39m\u001b[38;5;124mx should be True!\u001b[39m\u001b[38;5;124m\"\u001b[39m\n",
      "\u001b[0;31mAssertionError\u001b[0m: x should be True!"
     ]
    }
   ],
   "source": [
    "x5 = False\n",
    "assert x5, \"x should be True!\""
   ]
  },
  {
   "cell_type": "markdown",
   "id": "890eadb0",
   "metadata": {
    "slideshow": {
     "slide_type": "slide"
    }
   },
   "source": [
    "# Exercise 8.3\n",
    "\n",
    "Write a function `area()` that s accepts the argument `radius` and returns the area of a circle. \n",
    "\n",
    "Then write three tests using `assert` statements for the following conditions:\n",
    "\n",
    "* Assert that `area(1)` returns a float\n",
    "* Assert that `area(0)` returns a value of $0$\n",
    "* Assert that `area(5)` is approximately equal to $78.5$\n",
    "\n",
    "Hint: Use `math.isclose(..., abs_tol = 0.1)`.\n",
    "\n",
    "You can use also the `math` module to get `pi`."
   ]
  },
  {
   "cell_type": "code",
   "execution_count": 7,
   "id": "7a622ede",
   "metadata": {
    "slideshow": {
     "slide_type": "subslide"
    },
    "tags": []
   },
   "outputs": [],
   "source": [
    "import math\n",
    "from math import pi as π\n",
    "\n",
    "def area(radius):\n",
    "    \"\"\"Calculate the area of a circle based on the given radius.\"\"\"\n",
    "    return π * radius**2"
   ]
  },
  {
   "cell_type": "code",
   "execution_count": 8,
   "id": "2e7eec87",
   "metadata": {
    "slideshow": {
     "slide_type": "fragment"
    },
    "tags": []
   },
   "outputs": [],
   "source": [
    "assert isinstance(area(1), float), 'Test 1 failed!'\n",
    "assert area(0) == 0, 'Test 2 failed!'\n",
    "assert math.isclose(area(5), 78.5, abs_tol = 0.1), 'Test 3 failed!'"
   ]
  },
  {
   "cell_type": "markdown",
   "id": "132006d2-7af4-47bf-9a07-dd36d153dd9f",
   "metadata": {
    "slideshow": {
     "slide_type": "slide"
    },
    "tags": []
   },
   "source": [
    "# Exercise 8.4\n",
    "\n",
    "Copy the file `student.py` from the course repo to your private repo.\n",
    "\n",
    "Add a new method to `student.py` called `unenroll_in_course()`.\n",
    "\n",
    "The method should raise an exception if the student is not enrolled in the course."
   ]
  },
  {
   "cell_type": "markdown",
   "id": "93b1ff25-49de-454a-bc36-ff3ba2b475d7",
   "metadata": {
    "slideshow": {
     "slide_type": "subslide"
    },
    "tags": []
   },
   "source": [
    "```python\n",
    "class Student:\n",
    "    \n",
    "    def __init__(self, name, courses=None):\n",
    "        self.name = name # string type\n",
    "        self.courses = [] if courses is None else courses # list of strings\n",
    "        self.num_courses = len(self.courses)\n",
    "        \n",
    "    def enroll_in_course(self, course_name):\n",
    "        \"Enrolls the student in a course.\"\n",
    "        self.courses.append(course_name)\n",
    "        self.num_courses += 1 # increment the number of courses\n",
    "    \n",
    "    def unenroll_in_course(self, course_name):\n",
    "        \"Unenrolls the student from a course.\"\n",
    "        if course_name in self.courses:\n",
    "            self.courses.remove(course_name)\n",
    "            self.num_courses -= 1 # decrememt the number of courses\n",
    "        else:\n",
    "            # print(\"Student was not enrolled in that course\")\n",
    "            # raise Exception(\"Student was not enrolled in that course\")\n",
    "            raise ValueError(\"Date provided can't be in the past\")\n",
    "\n",
    "```"
   ]
  },
  {
   "cell_type": "markdown",
   "id": "88ef3148-d689-4ab5-86cd-22b93f660cab",
   "metadata": {
    "slideshow": {
     "slide_type": "slide"
    },
    "tags": []
   },
   "source": [
    "# Exercise 8.5 \n",
    "\n",
    "Then write a unit test file `student_test.py` with unittest methods that do the following:\n",
    "\n",
    "- `test_01` tests if the incrementer works.\n",
    "- `test_02` tests if a course is actually removed with the new method.\n",
    "- `test_03` tests if the new method does not increment courses if the student was not enrolled in the course to begin with.\n",
    "\n",
    "Note that we are using `num_courses` as a counter when we could have used `len(set(self.courses))` to get the number of courses. This is just for demonstration purposes.\n",
    "\n",
    "Run the test script and see your results."
   ]
  },
  {
   "cell_type": "markdown",
   "id": "da434ac7-44b2-48d2-8a67-e9c7f9025786",
   "metadata": {
    "slideshow": {
     "slide_type": "subslide"
    }
   },
   "source": [
    "```python\n",
    "from student import Student\n",
    "import unittest\n",
    "\n",
    "class EnrollInTestCase(unittest.TestCase): \n",
    "    \n",
    "    def test_01_is_numCoursincremented_correctly(self):\n",
    "        student1 = Student('Katherine', ['DS 5100']) # Initialize\n",
    "        student1.enroll_in_course(\"CS 5050\")         # Add a course\n",
    "        student1.enroll_in_course(\"CS 5777\")         # Add another course \n",
    "        actual = student1.num_courses                # Get actual course count\n",
    "        expected = 3                                 # Define true course count \n",
    "        self.assertEqual(actual, expected)           # Values should be equal\n",
    "        \n",
    "    def test_02_is_course_removed(self):\n",
    "        student1 = Student('Katherine', ['DS 5100']) # Initialize\n",
    "        course = \"CS 5050\"                           # Define a course name\n",
    "        student1.enroll_in_course(course)            # Add the course\n",
    "        student1.unenroll_in_course(course)          # Remove the course\n",
    "        self.assertFalse(course in student1.courses) # Course should not be in list\n",
    "\n",
    "    def test_03_is_course_not_added(self):\n",
    "        student1 = Student('Katherine', ['DS 5100']) # Initialize\n",
    "        expected = len(student1.courses)             # Get number of courses\n",
    "        course = \"CS 5050\"                           # Define a course name that is not in the list\n",
    "        student1.unenroll_in_course(course)          # Remove that new course -- should fail\n",
    "        actual = len(student1.courses)               # Get number of courses after this operation\n",
    "        self.assertEqual(actual, expected)           # There should be no change in the number\n",
    "        \n",
    "        \n",
    "if __name__ == '__main__':\n",
    "    unittest.main(verbosity=2)\n",
    "```"
   ]
  },
  {
   "cell_type": "code",
   "execution_count": 9,
   "id": "c46760a0-1464-46d3-a86f-011ff94ca6c1",
   "metadata": {
    "slideshow": {
     "slide_type": "subslide"
    },
    "tags": []
   },
   "outputs": [
    {
     "name": "stdout",
     "output_type": "stream",
     "text": [
      "Hey, I'm the main file!\r\n"
     ]
    }
   ],
   "source": [
    "!python student2.py"
   ]
  },
  {
   "cell_type": "code",
   "execution_count": 10,
   "id": "9cffb8e6-dc6a-4a7c-9f04-4c84b9590ee0",
   "metadata": {
    "slideshow": {
     "slide_type": "fragment"
    },
    "tags": []
   },
   "outputs": [
    {
     "name": "stdout",
     "output_type": "stream",
     "text": [
      "test_01_is_numCoursincremented_correctly (__main__.EnrollInTestCase.test_01_is_numCoursincremented_correctly) ... ['DS 5100', 'CS 5050', 'CS 5777']\r\n",
      "3\r\n",
      "ok\r\n",
      "test_02_is_course_removed (__main__.EnrollInTestCase.test_02_is_course_removed) ... ok\r\n",
      "test_03_is_course_not_added (__main__.EnrollInTestCase.test_03_is_course_not_added) ... Student was not enrolled in that course.\r\n",
      "ok\r\n",
      "\r\n",
      "----------------------------------------------------------------------\r\n",
      "Ran 3 tests in 0.000s\r\n",
      "\r\n",
      "OK\r\n"
     ]
    }
   ],
   "source": [
    "!python student2_test.py "
   ]
  },
  {
   "cell_type": "code",
   "execution_count": 11,
   "id": "66a29b72",
   "metadata": {
    "slideshow": {
     "slide_type": "subslide"
    },
    "tags": []
   },
   "outputs": [
    {
     "name": "stdout",
     "output_type": "stream",
     "text": [
      "['DS 5100', 'CS 5050', 'CS 5777']\r\n",
      "3\r\n",
      "Student was not enrolled in that course\r\n"
     ]
    }
   ],
   "source": [
    "!python student_test.py 2> test-results.txt"
   ]
  },
  {
   "cell_type": "code",
   "execution_count": 12,
   "id": "12712411",
   "metadata": {
    "scrolled": true,
    "slideshow": {
     "slide_type": "fragment"
    },
    "tags": []
   },
   "outputs": [
    {
     "name": "stdout",
     "output_type": "stream",
     "text": [
      "test_01_is_numCoursincremented_correctly (__main__.EnrollInTestCase.test_01_is_n\r\n",
      "umCoursincremented_correctly) ... ok\r\n",
      "test_02_is_course_added (__main__.EnrollInTestCase.test_02_is_course_added) ... \r\n",
      "ok\r\n",
      "test_03_is_course_not_added (__main__.EnrollInTestCase.test_03_is_course_not_add\r\n",
      "ed) ... ok\r\n",
      "\r\n",
      "----------------------------------------------------------------------\r\n",
      "Ran 3 tests in 0.000s\r\n",
      "\r\n",
      "OK\r\n"
     ]
    }
   ],
   "source": [
    "!more test-results.txt"
   ]
  },
  {
   "cell_type": "markdown",
   "id": "0d6aeddf-090f-461a-84c7-26787cb27653",
   "metadata": {
    "slideshow": {
     "slide_type": "slide"
    },
    "tags": []
   },
   "source": [
    "# Exercise 8.6\n",
    "\n",
    "Create a class called `Car` with the following attributes and methods:\n",
    "\n",
    "- `body_type` which takes the values `suv`, `crossover`, `sedan`, `hatchback`, `sport`\n",
    "- `engine_type`: which takes the values `electric`, `gas`, `diesel`, `hybrid`\n",
    "- `__init__()`: which takes values for the two attributes\n",
    "- `describe_car()`: which returns a string with the body and engine types as `f\"{engine_type} {body_type}\"`\n",
    "\n",
    "The object should raise a `ValueError` **exception** if either of the values passed to the attributes are not in the specified lists of values."
   ]
  },
  {
   "cell_type": "code",
   "execution_count": 56,
   "id": "99aef24a-900e-4365-bdfd-ece9090145b7",
   "metadata": {
    "slideshow": {
     "slide_type": "subslide"
    },
    "tags": []
   },
   "outputs": [],
   "source": [
    "class Car:\n",
    "    \n",
    "    _body_types = [\"suv\", \"crossover\", \"sedan\", \"hatchback\", \"sport\"]\n",
    "    _engine_types = [\"electric\", \"gas\", \"diesel\", \"hybrid\"]\n",
    "    \n",
    "    def __init__(self, body_type, engine_type):\n",
    "        if body_type not in self._body_types:\n",
    "            raise ValueError(\"Invalid body type. Must be one of: \" + ', '.join(self._body_types))\n",
    "        if engine_type not in self._engine_types:\n",
    "            raise ValueError(\"Invalid engine type. Must be one of: \" + ', '.join(self._engine_types))\n",
    "        self.body_type = body_type\n",
    "        self.engine_type = engine_type\n",
    "        \n",
    "    def describe_car(self):\n",
    "        return f\"{self.engine_type} {self.body_type}\"\n",
    "        "
   ]
  },
  {
   "cell_type": "code",
   "execution_count": 57,
   "id": "11c13b40",
   "metadata": {
    "slideshow": {
     "slide_type": "subslide"
    }
   },
   "outputs": [
    {
     "ename": "ValueError",
     "evalue": "Invalid body type. Must be one of: suv, crossover, sedan, hatchback, sport",
     "output_type": "error",
     "traceback": [
      "\u001b[0;31m---------------------------------------------------------------------------\u001b[0m",
      "\u001b[0;31mValueError\u001b[0m                                Traceback (most recent call last)",
      "Cell \u001b[0;32mIn[57], line 1\u001b[0m\n\u001b[0;32m----> 1\u001b[0m my_car \u001b[38;5;241m=\u001b[39m \u001b[43mCar\u001b[49m\u001b[43m(\u001b[49m\u001b[38;5;124;43m'\u001b[39;49m\u001b[38;5;124;43mtruck\u001b[39;49m\u001b[38;5;124;43m'\u001b[39;49m\u001b[43m,\u001b[49m\u001b[43m \u001b[49m\u001b[38;5;124;43m'\u001b[39;49m\u001b[38;5;124;43mtwo-stoke\u001b[39;49m\u001b[38;5;124;43m'\u001b[39;49m\u001b[43m)\u001b[49m\n",
      "Cell \u001b[0;32mIn[56], line 8\u001b[0m, in \u001b[0;36mCar.__init__\u001b[0;34m(self, body_type, engine_type)\u001b[0m\n\u001b[1;32m      6\u001b[0m \u001b[38;5;28;01mdef\u001b[39;00m\u001b[38;5;250m \u001b[39m\u001b[38;5;21m__init__\u001b[39m(\u001b[38;5;28mself\u001b[39m, body_type, engine_type):\n\u001b[1;32m      7\u001b[0m     \u001b[38;5;28;01mif\u001b[39;00m body_type \u001b[38;5;129;01mnot\u001b[39;00m \u001b[38;5;129;01min\u001b[39;00m \u001b[38;5;28mself\u001b[39m\u001b[38;5;241m.\u001b[39m_body_types:\n\u001b[0;32m----> 8\u001b[0m         \u001b[38;5;28;01mraise\u001b[39;00m \u001b[38;5;167;01mValueError\u001b[39;00m(\u001b[38;5;124m\"\u001b[39m\u001b[38;5;124mInvalid body type. Must be one of: \u001b[39m\u001b[38;5;124m\"\u001b[39m \u001b[38;5;241m+\u001b[39m \u001b[38;5;124m'\u001b[39m\u001b[38;5;124m, \u001b[39m\u001b[38;5;124m'\u001b[39m\u001b[38;5;241m.\u001b[39mjoin(\u001b[38;5;28mself\u001b[39m\u001b[38;5;241m.\u001b[39m_body_types))\n\u001b[1;32m      9\u001b[0m     \u001b[38;5;28;01mif\u001b[39;00m engine_type \u001b[38;5;129;01mnot\u001b[39;00m \u001b[38;5;129;01min\u001b[39;00m \u001b[38;5;28mself\u001b[39m\u001b[38;5;241m.\u001b[39m_engine_types:\n\u001b[1;32m     10\u001b[0m         \u001b[38;5;28;01mraise\u001b[39;00m \u001b[38;5;167;01mValueError\u001b[39;00m(\u001b[38;5;124m\"\u001b[39m\u001b[38;5;124mInvalid engine type. Must be one of: \u001b[39m\u001b[38;5;124m\"\u001b[39m \u001b[38;5;241m+\u001b[39m \u001b[38;5;124m'\u001b[39m\u001b[38;5;124m, \u001b[39m\u001b[38;5;124m'\u001b[39m\u001b[38;5;241m.\u001b[39mjoin(\u001b[38;5;28mself\u001b[39m\u001b[38;5;241m.\u001b[39m_engine_types))\n",
      "\u001b[0;31mValueError\u001b[0m: Invalid body type. Must be one of: suv, crossover, sedan, hatchback, sport"
     ]
    }
   ],
   "source": [
    "my_car = Car('truck', 'two-stoke')"
   ]
  },
  {
   "cell_type": "code",
   "execution_count": 58,
   "id": "5dd3f7e5",
   "metadata": {
    "slideshow": {
     "slide_type": "subslide"
    }
   },
   "outputs": [
    {
     "ename": "ValueError",
     "evalue": "Invalid engine type. Must be one of: electric, gas, diesel, hybrid",
     "output_type": "error",
     "traceback": [
      "\u001b[0;31m---------------------------------------------------------------------------\u001b[0m",
      "\u001b[0;31mValueError\u001b[0m                                Traceback (most recent call last)",
      "Cell \u001b[0;32mIn[58], line 1\u001b[0m\n\u001b[0;32m----> 1\u001b[0m my_car \u001b[38;5;241m=\u001b[39m \u001b[43mCar\u001b[49m\u001b[43m(\u001b[49m\u001b[38;5;124;43m'\u001b[39;49m\u001b[38;5;124;43msuv\u001b[39;49m\u001b[38;5;124;43m'\u001b[39;49m\u001b[43m,\u001b[49m\u001b[43m \u001b[49m\u001b[38;5;124;43m'\u001b[39;49m\u001b[38;5;124;43mtwo-stoke\u001b[39;49m\u001b[38;5;124;43m'\u001b[39;49m\u001b[43m)\u001b[49m\n",
      "Cell \u001b[0;32mIn[56], line 10\u001b[0m, in \u001b[0;36mCar.__init__\u001b[0;34m(self, body_type, engine_type)\u001b[0m\n\u001b[1;32m      8\u001b[0m     \u001b[38;5;28;01mraise\u001b[39;00m \u001b[38;5;167;01mValueError\u001b[39;00m(\u001b[38;5;124m\"\u001b[39m\u001b[38;5;124mInvalid body type. Must be one of: \u001b[39m\u001b[38;5;124m\"\u001b[39m \u001b[38;5;241m+\u001b[39m \u001b[38;5;124m'\u001b[39m\u001b[38;5;124m, \u001b[39m\u001b[38;5;124m'\u001b[39m\u001b[38;5;241m.\u001b[39mjoin(\u001b[38;5;28mself\u001b[39m\u001b[38;5;241m.\u001b[39m_body_types))\n\u001b[1;32m      9\u001b[0m \u001b[38;5;28;01mif\u001b[39;00m engine_type \u001b[38;5;129;01mnot\u001b[39;00m \u001b[38;5;129;01min\u001b[39;00m \u001b[38;5;28mself\u001b[39m\u001b[38;5;241m.\u001b[39m_engine_types:\n\u001b[0;32m---> 10\u001b[0m     \u001b[38;5;28;01mraise\u001b[39;00m \u001b[38;5;167;01mValueError\u001b[39;00m(\u001b[38;5;124m\"\u001b[39m\u001b[38;5;124mInvalid engine type. Must be one of: \u001b[39m\u001b[38;5;124m\"\u001b[39m \u001b[38;5;241m+\u001b[39m \u001b[38;5;124m'\u001b[39m\u001b[38;5;124m, \u001b[39m\u001b[38;5;124m'\u001b[39m\u001b[38;5;241m.\u001b[39mjoin(\u001b[38;5;28mself\u001b[39m\u001b[38;5;241m.\u001b[39m_engine_types))\n\u001b[1;32m     11\u001b[0m \u001b[38;5;28mself\u001b[39m\u001b[38;5;241m.\u001b[39mbody_type \u001b[38;5;241m=\u001b[39m body_type\n\u001b[1;32m     12\u001b[0m \u001b[38;5;28mself\u001b[39m\u001b[38;5;241m.\u001b[39mengine_type \u001b[38;5;241m=\u001b[39m engine_type\n",
      "\u001b[0;31mValueError\u001b[0m: Invalid engine type. Must be one of: electric, gas, diesel, hybrid"
     ]
    }
   ],
   "source": [
    "my_car = Car('suv', 'two-stoke')"
   ]
  },
  {
   "cell_type": "code",
   "execution_count": 59,
   "id": "29cc90b9",
   "metadata": {
    "slideshow": {
     "slide_type": "subslide"
    }
   },
   "outputs": [],
   "source": [
    "my_car = Car('suv', 'gas')"
   ]
  },
  {
   "cell_type": "markdown",
   "id": "0d62711f-d072-447c-9cb2-edf1cc51762a",
   "metadata": {
    "slideshow": {
     "slide_type": "slide"
    }
   },
   "source": [
    "# Exercise 8.7\n",
    "\n",
    "Create a class that inherits from `Car` called `Subaru` with the following:\n",
    "\n",
    "- `year`: the four-number year of manufacture, e.g. $2023$\n",
    "- `model`: the specific model of the car, e.g. \"outback\" \n",
    "- `trim`: the special trim of the car, e.g. \"sport\"\n",
    "- `__init__()`: which takes values for the previous attributes and the `Car` attributes.\n",
    "- `describe()`: which returns a string with the year, model, and trim, and with the `Car` description in parentheses.\n",
    "\n",
    "The object should raise a `ValueError` **exception** if the model is an `outback` but year is not between $1994$ and $2025$.\n",
    "\n",
    "Hints: \n",
    "\n",
    "- To inherit, just write: `Class Subaru(Car):`\n",
    "- To initalize the parent class `Car`, put this inside the initializer method for `Subaru`: \n",
    "  -  `Car.__init__(self, body_type, engine_type)`"
   ]
  },
  {
   "cell_type": "code",
   "execution_count": 60,
   "id": "80d02a86-8125-42a5-8420-43d2c99b455e",
   "metadata": {
    "slideshow": {
     "slide_type": "subslide"
    },
    "tags": []
   },
   "outputs": [],
   "source": [
    "class Subaru(Car):\n",
    "    \n",
    "    def __init__(self, body_type, engine_type, year, model, trim=None):\n",
    "        \n",
    "        if model == 'outback' and int(year) not in range(1994, 2026):\n",
    "            raise ValueError(\"Invalid year.\")\n",
    "\n",
    "        self.year = year\n",
    "        self.model = model\n",
    "        self.trim = trim\n",
    "    \n",
    "        Car.__init__(self, body_type, engine_type)\n",
    "        # super().__init__(body_type, engine_type) # Another option\n",
    "\n",
    "    def describe(self):\n",
    "        return f\"{self.year} {self.model} {self.trim} ({self.describe_car()})\""
   ]
  },
  {
   "cell_type": "markdown",
   "id": "0c469e0d-a1d3-4e38-98c6-6974abf68913",
   "metadata": {
    "slideshow": {
     "slide_type": "slide"
    }
   },
   "source": [
    "# Exercise 8.8\n",
    "\n",
    "Now create a new `Subaru` object and initialize it with the following values:\n",
    "\n",
    "- `body_type = 'crossover'`\n",
    "- `engine_type = 'gas'`\n",
    "- `year = '2022'`\n",
    "- `model = 'outback'`\n",
    "- `trim = 'sport'`\n",
    "\n",
    "Then call the describe method."
   ]
  },
  {
   "cell_type": "code",
   "execution_count": 41,
   "id": "b767a3ee",
   "metadata": {
    "slideshow": {
     "slide_type": "subslide"
    },
    "tags": []
   },
   "outputs": [],
   "source": [
    "my_args = dict(\n",
    "    body_type = 'crossover',\n",
    "    engine_type = 'gas',\n",
    "    year = '2022',\n",
    "    model = 'outback',\n",
    "    trim = 'sport'\n",
    ")\n",
    "my_car = Subaru(**my_args)"
   ]
  },
  {
   "cell_type": "code",
   "execution_count": 42,
   "id": "a46026bd",
   "metadata": {
    "slideshow": {
     "slide_type": "fragment"
    },
    "tags": []
   },
   "outputs": [
    {
     "data": {
      "text/plain": [
       "'2022 outback sport (gas crossover)'"
      ]
     },
     "execution_count": 42,
     "metadata": {},
     "output_type": "execute_result"
    }
   ],
   "source": [
    "my_car.describe()"
   ]
  },
  {
   "cell_type": "markdown",
   "id": "632369c5-5b79-4843-a569-d68eab7ebb3b",
   "metadata": {
    "slideshow": {
     "slide_type": "subslide"
    },
    "tags": []
   },
   "source": [
    "Now create an instance with the year $1990$."
   ]
  },
  {
   "cell_type": "code",
   "execution_count": 61,
   "id": "d81d14bf-f914-4435-9f5a-6de9f7d3a06f",
   "metadata": {
    "slideshow": {
     "slide_type": "fragment"
    },
    "tags": []
   },
   "outputs": [],
   "source": [
    "my_bad_args = my_args.copy() # Dictionaries also do shallow copying\n",
    "my_bad_args['year'] = '1990'"
   ]
  },
  {
   "cell_type": "code",
   "execution_count": 62,
   "id": "06a0ea06-0f19-48a3-8107-9cdbb52db91b",
   "metadata": {
    "slideshow": {
     "slide_type": "fragment"
    },
    "tags": []
   },
   "outputs": [
    {
     "ename": "ValueError",
     "evalue": "Invalid year.",
     "output_type": "error",
     "traceback": [
      "\u001b[0;31m---------------------------------------------------------------------------\u001b[0m",
      "\u001b[0;31mValueError\u001b[0m                                Traceback (most recent call last)",
      "Cell \u001b[0;32mIn[62], line 1\u001b[0m\n\u001b[0;32m----> 1\u001b[0m my_bad_car \u001b[38;5;241m=\u001b[39m \u001b[43mSubaru\u001b[49m\u001b[43m(\u001b[49m\u001b[38;5;241;43m*\u001b[39;49m\u001b[38;5;241;43m*\u001b[39;49m\u001b[43mmy_bad_args\u001b[49m\u001b[43m)\u001b[49m\n",
      "Cell \u001b[0;32mIn[60], line 6\u001b[0m, in \u001b[0;36mSubaru.__init__\u001b[0;34m(self, body_type, engine_type, year, model, trim)\u001b[0m\n\u001b[1;32m      3\u001b[0m \u001b[38;5;28;01mdef\u001b[39;00m\u001b[38;5;250m \u001b[39m\u001b[38;5;21m__init__\u001b[39m(\u001b[38;5;28mself\u001b[39m, body_type, engine_type, year, model, trim\u001b[38;5;241m=\u001b[39m\u001b[38;5;28;01mNone\u001b[39;00m):\n\u001b[1;32m      5\u001b[0m     \u001b[38;5;28;01mif\u001b[39;00m model \u001b[38;5;241m==\u001b[39m \u001b[38;5;124m'\u001b[39m\u001b[38;5;124moutback\u001b[39m\u001b[38;5;124m'\u001b[39m \u001b[38;5;129;01mand\u001b[39;00m \u001b[38;5;28mint\u001b[39m(year) \u001b[38;5;129;01mnot\u001b[39;00m \u001b[38;5;129;01min\u001b[39;00m \u001b[38;5;28mrange\u001b[39m(\u001b[38;5;241m1994\u001b[39m, \u001b[38;5;241m2026\u001b[39m):\n\u001b[0;32m----> 6\u001b[0m         \u001b[38;5;28;01mraise\u001b[39;00m \u001b[38;5;167;01mValueError\u001b[39;00m(\u001b[38;5;124m\"\u001b[39m\u001b[38;5;124mInvalid year.\u001b[39m\u001b[38;5;124m\"\u001b[39m)\n\u001b[1;32m      8\u001b[0m     \u001b[38;5;28mself\u001b[39m\u001b[38;5;241m.\u001b[39myear \u001b[38;5;241m=\u001b[39m year\n\u001b[1;32m      9\u001b[0m     \u001b[38;5;28mself\u001b[39m\u001b[38;5;241m.\u001b[39mmodel \u001b[38;5;241m=\u001b[39m model\n",
      "\u001b[0;31mValueError\u001b[0m: Invalid year."
     ]
    }
   ],
   "source": [
    "my_bad_car = Subaru(**my_bad_args)"
   ]
  },
  {
   "cell_type": "markdown",
   "id": "cb26f211-7152-4e6e-bc2d-7ee431b6cc17",
   "metadata": {
    "slideshow": {
     "slide_type": "slide"
    },
    "tags": []
   },
   "source": [
    "# Exercise 8.9\n",
    "\n",
    "Rewrite `Subaru` as `Subaru2` with an error handler that uses `cars.csv`.\n",
    "\n",
    "Instantiate a car with a good year and one with a bad year.\n",
    "\n",
    "Note that these data have Subaru Outbacks starting in the year $2000$."
   ]
  },
  {
   "cell_type": "code",
   "execution_count": 63,
   "id": "207d5e9e-7e03-4bed-b2d7-d882ccff8e21",
   "metadata": {
    "slideshow": {
     "slide_type": "subslide"
    },
    "tags": []
   },
   "outputs": [],
   "source": [
    "import pandas as pd\n",
    "\n",
    "class Subaru2(Car):\n",
    "    \n",
    "    CARS = pd.read_csv(\"cars.csv\").set_index([\"make\",\"model\"])\n",
    "    \n",
    "    def __init__(self, body_type, engine_type, year, model, trim=None):\n",
    "        \n",
    "        print(model, year)\n",
    "        \n",
    "        try:\n",
    "            self.CARS.loc[('subaru', model), year]\n",
    "        except KeyError as e:\n",
    "            raise ValueError(f\"{e} is not a good year\")\n",
    "\n",
    "        self.year = year\n",
    "        self.model = model\n",
    "        self.trim = trim\n",
    "    \n",
    "        Car.__init__(self, body_type, engine_type)\n",
    "        # super().__init__(body_type, engine_type) # Another option\n",
    "\n",
    "    def describe(self):\n",
    "        return f\"{self.year} {self.model} {self.trim} ({self.describe_car()})\""
   ]
  },
  {
   "cell_type": "code",
   "execution_count": 64,
   "id": "42ba7cc5-280e-411f-88f7-5d65ac2dccd7",
   "metadata": {
    "slideshow": {
     "slide_type": "fragment"
    },
    "tags": []
   },
   "outputs": [
    {
     "data": {
      "text/plain": [
       "{'body_type': 'crossover',\n",
       " 'engine_type': 'gas',\n",
       " 'year': '2022',\n",
       " 'model': 'outback',\n",
       " 'trim': 'sport'}"
      ]
     },
     "execution_count": 64,
     "metadata": {},
     "output_type": "execute_result"
    }
   ],
   "source": [
    "my_args"
   ]
  },
  {
   "cell_type": "code",
   "execution_count": 65,
   "id": "17309ac0-9f78-4948-a07a-50b83ece965a",
   "metadata": {
    "slideshow": {
     "slide_type": "fragment"
    },
    "tags": []
   },
   "outputs": [
    {
     "name": "stdout",
     "output_type": "stream",
     "text": [
      "outback 2022\n"
     ]
    }
   ],
   "source": [
    "my_outback = Subaru2(**my_args)"
   ]
  },
  {
   "cell_type": "code",
   "execution_count": 66,
   "id": "2cf220b4-5067-42f3-ab7c-6d5645c41724",
   "metadata": {
    "slideshow": {
     "slide_type": "fragment"
    },
    "tags": []
   },
   "outputs": [
    {
     "name": "stdout",
     "output_type": "stream",
     "text": [
      "outback 1990\n"
     ]
    },
    {
     "ename": "ValueError",
     "evalue": "'1990' is not a good year",
     "output_type": "error",
     "traceback": [
      "\u001b[0;31m---------------------------------------------------------------------------\u001b[0m",
      "\u001b[0;31mKeyError\u001b[0m                                  Traceback (most recent call last)",
      "File \u001b[0;32m~/.local/lib/python3.11/site-packages/pandas/core/indexes/base.py:3802\u001b[0m, in \u001b[0;36mIndex.get_loc\u001b[0;34m(self, key, method, tolerance)\u001b[0m\n\u001b[1;32m   3801\u001b[0m \u001b[38;5;28;01mtry\u001b[39;00m:\n\u001b[0;32m-> 3802\u001b[0m     \u001b[38;5;28;01mreturn\u001b[39;00m \u001b[38;5;28;43mself\u001b[39;49m\u001b[38;5;241;43m.\u001b[39;49m\u001b[43m_engine\u001b[49m\u001b[38;5;241;43m.\u001b[39;49m\u001b[43mget_loc\u001b[49m\u001b[43m(\u001b[49m\u001b[43mcasted_key\u001b[49m\u001b[43m)\u001b[49m\n\u001b[1;32m   3803\u001b[0m \u001b[38;5;28;01mexcept\u001b[39;00m \u001b[38;5;167;01mKeyError\u001b[39;00m \u001b[38;5;28;01mas\u001b[39;00m err:\n",
      "File \u001b[0;32m~/.local/lib/python3.11/site-packages/pandas/_libs/index.pyx:138\u001b[0m, in \u001b[0;36mpandas._libs.index.IndexEngine.get_loc\u001b[0;34m()\u001b[0m\n",
      "File \u001b[0;32m~/.local/lib/python3.11/site-packages/pandas/_libs/index.pyx:165\u001b[0m, in \u001b[0;36mpandas._libs.index.IndexEngine.get_loc\u001b[0;34m()\u001b[0m\n",
      "File \u001b[0;32mpandas/_libs/hashtable_class_helper.pxi:5745\u001b[0m, in \u001b[0;36mpandas._libs.hashtable.PyObjectHashTable.get_item\u001b[0;34m()\u001b[0m\n",
      "File \u001b[0;32mpandas/_libs/hashtable_class_helper.pxi:5753\u001b[0m, in \u001b[0;36mpandas._libs.hashtable.PyObjectHashTable.get_item\u001b[0;34m()\u001b[0m\n",
      "\u001b[0;31mKeyError\u001b[0m: '1990'",
      "\nThe above exception was the direct cause of the following exception:\n",
      "\u001b[0;31mKeyError\u001b[0m                                  Traceback (most recent call last)",
      "Cell \u001b[0;32mIn[63], line 12\u001b[0m, in \u001b[0;36mSubaru2.__init__\u001b[0;34m(self, body_type, engine_type, year, model, trim)\u001b[0m\n\u001b[1;32m     11\u001b[0m \u001b[38;5;28;01mtry\u001b[39;00m:\n\u001b[0;32m---> 12\u001b[0m     \u001b[38;5;28;43mself\u001b[39;49m\u001b[38;5;241;43m.\u001b[39;49m\u001b[43mCARS\u001b[49m\u001b[38;5;241;43m.\u001b[39;49m\u001b[43mloc\u001b[49m\u001b[43m[\u001b[49m\u001b[43m(\u001b[49m\u001b[38;5;124;43m'\u001b[39;49m\u001b[38;5;124;43msubaru\u001b[39;49m\u001b[38;5;124;43m'\u001b[39;49m\u001b[43m,\u001b[49m\u001b[43m \u001b[49m\u001b[43mmodel\u001b[49m\u001b[43m)\u001b[49m\u001b[43m,\u001b[49m\u001b[43m \u001b[49m\u001b[43myear\u001b[49m\u001b[43m]\u001b[49m\n\u001b[1;32m     13\u001b[0m \u001b[38;5;28;01mexcept\u001b[39;00m \u001b[38;5;167;01mKeyError\u001b[39;00m \u001b[38;5;28;01mas\u001b[39;00m e:\n",
      "File \u001b[0;32m~/.local/lib/python3.11/site-packages/pandas/core/indexing.py:1067\u001b[0m, in \u001b[0;36m_LocationIndexer.__getitem__\u001b[0;34m(self, key)\u001b[0m\n\u001b[1;32m   1066\u001b[0m         \u001b[38;5;28;01mreturn\u001b[39;00m \u001b[38;5;28mself\u001b[39m\u001b[38;5;241m.\u001b[39mobj\u001b[38;5;241m.\u001b[39m_get_value(\u001b[38;5;241m*\u001b[39mkey, takeable\u001b[38;5;241m=\u001b[39m\u001b[38;5;28mself\u001b[39m\u001b[38;5;241m.\u001b[39m_takeable)\n\u001b[0;32m-> 1067\u001b[0m     \u001b[38;5;28;01mreturn\u001b[39;00m \u001b[38;5;28;43mself\u001b[39;49m\u001b[38;5;241;43m.\u001b[39;49m\u001b[43m_getitem_tuple\u001b[49m\u001b[43m(\u001b[49m\u001b[43mkey\u001b[49m\u001b[43m)\u001b[49m\n\u001b[1;32m   1068\u001b[0m \u001b[38;5;28;01melse\u001b[39;00m:\n\u001b[1;32m   1069\u001b[0m     \u001b[38;5;66;03m# we by definition only have the 0th axis\u001b[39;00m\n",
      "File \u001b[0;32m~/.local/lib/python3.11/site-packages/pandas/core/indexing.py:1247\u001b[0m, in \u001b[0;36m_LocIndexer._getitem_tuple\u001b[0;34m(self, tup)\u001b[0m\n\u001b[1;32m   1246\u001b[0m     tup \u001b[38;5;241m=\u001b[39m \u001b[38;5;28mself\u001b[39m\u001b[38;5;241m.\u001b[39m_expand_ellipsis(tup)\n\u001b[0;32m-> 1247\u001b[0m     \u001b[38;5;28;01mreturn\u001b[39;00m \u001b[38;5;28;43mself\u001b[39;49m\u001b[38;5;241;43m.\u001b[39;49m\u001b[43m_getitem_lowerdim\u001b[49m\u001b[43m(\u001b[49m\u001b[43mtup\u001b[49m\u001b[43m)\u001b[49m\n\u001b[1;32m   1249\u001b[0m \u001b[38;5;66;03m# no multi-index, so validate all of the indexers\u001b[39;00m\n",
      "File \u001b[0;32m~/.local/lib/python3.11/site-packages/pandas/core/indexing.py:941\u001b[0m, in \u001b[0;36m_LocationIndexer._getitem_lowerdim\u001b[0;34m(self, tup)\u001b[0m\n\u001b[1;32m    940\u001b[0m \u001b[38;5;28;01mif\u001b[39;00m \u001b[38;5;28mself\u001b[39m\u001b[38;5;241m.\u001b[39m_is_nested_tuple_indexer(tup):\n\u001b[0;32m--> 941\u001b[0m     \u001b[38;5;28;01mreturn\u001b[39;00m \u001b[38;5;28;43mself\u001b[39;49m\u001b[38;5;241;43m.\u001b[39;49m\u001b[43m_getitem_nested_tuple\u001b[49m\u001b[43m(\u001b[49m\u001b[43mtup\u001b[49m\u001b[43m)\u001b[49m\n\u001b[1;32m    943\u001b[0m \u001b[38;5;66;03m# we maybe be using a tuple to represent multiple dimensions here\u001b[39;00m\n",
      "File \u001b[0;32m~/.local/lib/python3.11/site-packages/pandas/core/indexing.py:1047\u001b[0m, in \u001b[0;36m_LocationIndexer._getitem_nested_tuple\u001b[0;34m(self, tup)\u001b[0m\n\u001b[1;32m   1045\u001b[0m     \u001b[38;5;28;01mcontinue\u001b[39;00m\n\u001b[0;32m-> 1047\u001b[0m obj \u001b[38;5;241m=\u001b[39m \u001b[38;5;28;43mgetattr\u001b[39;49m\u001b[43m(\u001b[49m\u001b[43mobj\u001b[49m\u001b[43m,\u001b[49m\u001b[43m \u001b[49m\u001b[38;5;28;43mself\u001b[39;49m\u001b[38;5;241;43m.\u001b[39;49m\u001b[43mname\u001b[49m\u001b[43m)\u001b[49m\u001b[38;5;241;43m.\u001b[39;49m\u001b[43m_getitem_axis\u001b[49m\u001b[43m(\u001b[49m\u001b[43mkey\u001b[49m\u001b[43m,\u001b[49m\u001b[43m \u001b[49m\u001b[43maxis\u001b[49m\u001b[38;5;241;43m=\u001b[39;49m\u001b[43maxis\u001b[49m\u001b[43m)\u001b[49m\n\u001b[1;32m   1048\u001b[0m axis \u001b[38;5;241m-\u001b[39m\u001b[38;5;241m=\u001b[39m \u001b[38;5;241m1\u001b[39m\n",
      "File \u001b[0;32m~/.local/lib/python3.11/site-packages/pandas/core/indexing.py:1312\u001b[0m, in \u001b[0;36m_LocIndexer._getitem_axis\u001b[0;34m(self, key, axis)\u001b[0m\n\u001b[1;32m   1311\u001b[0m \u001b[38;5;28mself\u001b[39m\u001b[38;5;241m.\u001b[39m_validate_key(key, axis)\n\u001b[0;32m-> 1312\u001b[0m \u001b[38;5;28;01mreturn\u001b[39;00m \u001b[38;5;28;43mself\u001b[39;49m\u001b[38;5;241;43m.\u001b[39;49m\u001b[43m_get_label\u001b[49m\u001b[43m(\u001b[49m\u001b[43mkey\u001b[49m\u001b[43m,\u001b[49m\u001b[43m \u001b[49m\u001b[43maxis\u001b[49m\u001b[38;5;241;43m=\u001b[39;49m\u001b[43maxis\u001b[49m\u001b[43m)\u001b[49m\n",
      "File \u001b[0;32m~/.local/lib/python3.11/site-packages/pandas/core/indexing.py:1260\u001b[0m, in \u001b[0;36m_LocIndexer._get_label\u001b[0;34m(self, label, axis)\u001b[0m\n\u001b[1;32m   1258\u001b[0m \u001b[38;5;28;01mdef\u001b[39;00m\u001b[38;5;250m \u001b[39m\u001b[38;5;21m_get_label\u001b[39m(\u001b[38;5;28mself\u001b[39m, label, axis: \u001b[38;5;28mint\u001b[39m):\n\u001b[1;32m   1259\u001b[0m     \u001b[38;5;66;03m# GH#5567 this will fail if the label is not present in the axis.\u001b[39;00m\n\u001b[0;32m-> 1260\u001b[0m     \u001b[38;5;28;01mreturn\u001b[39;00m \u001b[38;5;28;43mself\u001b[39;49m\u001b[38;5;241;43m.\u001b[39;49m\u001b[43mobj\u001b[49m\u001b[38;5;241;43m.\u001b[39;49m\u001b[43mxs\u001b[49m\u001b[43m(\u001b[49m\u001b[43mlabel\u001b[49m\u001b[43m,\u001b[49m\u001b[43m \u001b[49m\u001b[43maxis\u001b[49m\u001b[38;5;241;43m=\u001b[39;49m\u001b[43maxis\u001b[49m\u001b[43m)\u001b[49m\n",
      "File \u001b[0;32m~/.local/lib/python3.11/site-packages/pandas/core/generic.py:4041\u001b[0m, in \u001b[0;36mNDFrame.xs\u001b[0;34m(self, key, axis, level, drop_level)\u001b[0m\n\u001b[1;32m   4040\u001b[0m \u001b[38;5;28;01mif\u001b[39;00m drop_level:\n\u001b[0;32m-> 4041\u001b[0m     \u001b[38;5;28;01mreturn\u001b[39;00m \u001b[38;5;28;43mself\u001b[39;49m\u001b[43m[\u001b[49m\u001b[43mkey\u001b[49m\u001b[43m]\u001b[49m\n\u001b[1;32m   4042\u001b[0m index \u001b[38;5;241m=\u001b[39m \u001b[38;5;28mself\u001b[39m\u001b[38;5;241m.\u001b[39mcolumns\n",
      "File \u001b[0;32m~/.local/lib/python3.11/site-packages/pandas/core/frame.py:3807\u001b[0m, in \u001b[0;36mDataFrame.__getitem__\u001b[0;34m(self, key)\u001b[0m\n\u001b[1;32m   3806\u001b[0m     \u001b[38;5;28;01mreturn\u001b[39;00m \u001b[38;5;28mself\u001b[39m\u001b[38;5;241m.\u001b[39m_getitem_multilevel(key)\n\u001b[0;32m-> 3807\u001b[0m indexer \u001b[38;5;241m=\u001b[39m \u001b[38;5;28;43mself\u001b[39;49m\u001b[38;5;241;43m.\u001b[39;49m\u001b[43mcolumns\u001b[49m\u001b[38;5;241;43m.\u001b[39;49m\u001b[43mget_loc\u001b[49m\u001b[43m(\u001b[49m\u001b[43mkey\u001b[49m\u001b[43m)\u001b[49m\n\u001b[1;32m   3808\u001b[0m \u001b[38;5;28;01mif\u001b[39;00m is_integer(indexer):\n",
      "File \u001b[0;32m~/.local/lib/python3.11/site-packages/pandas/core/indexes/base.py:3804\u001b[0m, in \u001b[0;36mIndex.get_loc\u001b[0;34m(self, key, method, tolerance)\u001b[0m\n\u001b[1;32m   3803\u001b[0m \u001b[38;5;28;01mexcept\u001b[39;00m \u001b[38;5;167;01mKeyError\u001b[39;00m \u001b[38;5;28;01mas\u001b[39;00m err:\n\u001b[0;32m-> 3804\u001b[0m     \u001b[38;5;28;01mraise\u001b[39;00m \u001b[38;5;167;01mKeyError\u001b[39;00m(key) \u001b[38;5;28;01mfrom\u001b[39;00m\u001b[38;5;250m \u001b[39m\u001b[38;5;21;01merr\u001b[39;00m\n\u001b[1;32m   3805\u001b[0m \u001b[38;5;28;01mexcept\u001b[39;00m \u001b[38;5;167;01mTypeError\u001b[39;00m:\n\u001b[1;32m   3806\u001b[0m     \u001b[38;5;66;03m# If we have a listlike key, _check_indexing_error will raise\u001b[39;00m\n\u001b[1;32m   3807\u001b[0m     \u001b[38;5;66;03m#  InvalidIndexError. Otherwise we fall through and re-raise\u001b[39;00m\n\u001b[1;32m   3808\u001b[0m     \u001b[38;5;66;03m#  the TypeError.\u001b[39;00m\n",
      "\u001b[0;31mKeyError\u001b[0m: '1990'",
      "\nDuring handling of the above exception, another exception occurred:\n",
      "\u001b[0;31mValueError\u001b[0m                                Traceback (most recent call last)",
      "Cell \u001b[0;32mIn[66], line 1\u001b[0m\n\u001b[0;32m----> 1\u001b[0m my_outback \u001b[38;5;241m=\u001b[39m \u001b[43mSubaru2\u001b[49m\u001b[43m(\u001b[49m\u001b[38;5;241;43m*\u001b[39;49m\u001b[38;5;241;43m*\u001b[39;49m\u001b[43mmy_bad_args\u001b[49m\u001b[43m)\u001b[49m\n",
      "Cell \u001b[0;32mIn[63], line 14\u001b[0m, in \u001b[0;36mSubaru2.__init__\u001b[0;34m(self, body_type, engine_type, year, model, trim)\u001b[0m\n\u001b[1;32m     12\u001b[0m     \u001b[38;5;28mself\u001b[39m\u001b[38;5;241m.\u001b[39mCARS\u001b[38;5;241m.\u001b[39mloc[(\u001b[38;5;124m'\u001b[39m\u001b[38;5;124msubaru\u001b[39m\u001b[38;5;124m'\u001b[39m, model), year]\n\u001b[1;32m     13\u001b[0m \u001b[38;5;28;01mexcept\u001b[39;00m \u001b[38;5;167;01mKeyError\u001b[39;00m \u001b[38;5;28;01mas\u001b[39;00m e:\n\u001b[0;32m---> 14\u001b[0m     \u001b[38;5;28;01mraise\u001b[39;00m \u001b[38;5;167;01mValueError\u001b[39;00m(\u001b[38;5;124mf\u001b[39m\u001b[38;5;124m\"\u001b[39m\u001b[38;5;132;01m{\u001b[39;00me\u001b[38;5;132;01m}\u001b[39;00m\u001b[38;5;124m is not a good year\u001b[39m\u001b[38;5;124m\"\u001b[39m)\n\u001b[1;32m     16\u001b[0m \u001b[38;5;28mself\u001b[39m\u001b[38;5;241m.\u001b[39myear \u001b[38;5;241m=\u001b[39m year\n\u001b[1;32m     17\u001b[0m \u001b[38;5;28mself\u001b[39m\u001b[38;5;241m.\u001b[39mmodel \u001b[38;5;241m=\u001b[39m model\n",
      "\u001b[0;31mValueError\u001b[0m: '1990' is not a good year"
     ]
    }
   ],
   "source": [
    "my_outback = Subaru2(**my_bad_args)"
   ]
  },
  {
   "cell_type": "code",
   "execution_count": null,
   "id": "7c1a259c-1053-4226-adf0-0e787fa783ac",
   "metadata": {},
   "outputs": [],
   "source": []
  }
 ],
 "metadata": {
  "celltoolbar": "Slideshow",
  "kernelspec": {
   "display_name": "Python 3 (ipykernel)",
   "language": "python",
   "name": "python3"
  },
  "language_info": {
   "codemirror_mode": {
    "name": "ipython",
    "version": 3
   },
   "file_extension": ".py",
   "mimetype": "text/x-python",
   "name": "python",
   "nbconvert_exporter": "python",
   "pygments_lexer": "ipython3",
   "version": "3.11.4"
  },
  "latex_envs": {
   "LaTeX_envs_menu_present": true,
   "autoclose": false,
   "autocomplete": true,
   "bibliofile": "biblio.bib",
   "cite_by": "apalike",
   "current_citInitial": 1,
   "eqLabelWithNumbers": true,
   "eqNumInitial": 1,
   "hotkeys": {
    "equation": "Ctrl-E",
    "itemize": "Ctrl-I"
   },
   "labels_anchors": false,
   "latex_user_defs": false,
   "report_style_numbering": false,
   "user_envs_cfg": false
  },
  "toc": {
   "base_numbering": 1,
   "nav_menu": {},
   "number_sections": false,
   "sideBar": true,
   "skip_h1_title": false,
   "title_cell": "Table of Contents",
   "title_sidebar": "Contents",
   "toc_cell": false,
   "toc_position": {
    "height": "calc(100% - 180px)",
    "left": "10px",
    "top": "150px",
    "width": "165px"
   },
   "toc_section_display": true,
   "toc_window_display": false
  },
  "varInspector": {
   "cols": {
    "lenName": 16,
    "lenType": 16,
    "lenVar": 40
   },
   "kernels_config": {
    "python": {
     "delete_cmd_postfix": "",
     "delete_cmd_prefix": "del ",
     "library": "var_list.py",
     "varRefreshCmd": "print(var_dic_list())"
    },
    "r": {
     "delete_cmd_postfix": ") ",
     "delete_cmd_prefix": "rm(",
     "library": "var_list.r",
     "varRefreshCmd": "cat(var_dic_list()) "
    }
   },
   "types_to_exclude": [
    "module",
    "function",
    "builtin_function_or_method",
    "instance",
    "_Feature"
   ],
   "window_display": false
  },
  "vscode": {
   "interpreter": {
    "hash": "c3b963de08c47c3b6758389c5e0978ad73698a111eb508d4e16b558edb8f4cbf"
   }
  },
  "widgets": {
   "application/vnd.jupyter.widget-state+json": {
    "state": {},
    "version_major": 2,
    "version_minor": 0
   }
  }
 },
 "nbformat": 4,
 "nbformat_minor": 5
}
