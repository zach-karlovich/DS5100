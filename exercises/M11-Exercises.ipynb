{
 "cells": [
  {
   "cell_type": "markdown",
   "id": "5b5b16a9-f12d-4387-b782-130f73bb4df2",
   "metadata": {
    "editable": true,
    "slideshow": {
     "slide_type": "slide"
    },
    "tags": []
   },
   "source": [
    "# M11 Exercises\n",
    "\n",
    "DS 5100 Programming for Data Science"
   ]
  },
  {
   "cell_type": "markdown",
   "id": "d32f2e64-b4df-439b-bae3-0517aa674f23",
   "metadata": {
    "slideshow": {
     "slide_type": "slide"
    }
   },
   "source": [
    "# Exercise 11.1\n",
    "\n",
    "Install Tidyverse"
   ]
  },
  {
   "cell_type": "code",
   "execution_count": 1,
   "id": "999780f6-c755-4015-b6d9-fdcbf59a44b4",
   "metadata": {
    "slideshow": {
     "slide_type": "subslide"
    },
    "tags": [],
    "vscode": {
     "languageId": "r"
    }
   },
   "outputs": [
    {
     "name": "stderr",
     "output_type": "stream",
     "text": [
      "── \u001b[1mAttaching core tidyverse packages\u001b[22m ──────────────────────── tidyverse 2.0.0 ──\n",
      "\u001b[32m✔\u001b[39m \u001b[34mdplyr    \u001b[39m 1.1.3     \u001b[32m✔\u001b[39m \u001b[34mreadr    \u001b[39m 2.1.4\n",
      "\u001b[32m✔\u001b[39m \u001b[34mforcats  \u001b[39m 1.0.0     \u001b[32m✔\u001b[39m \u001b[34mstringr  \u001b[39m 1.5.0\n",
      "\u001b[32m✔\u001b[39m \u001b[34mggplot2  \u001b[39m 3.4.4     \u001b[32m✔\u001b[39m \u001b[34mtibble   \u001b[39m 3.2.1\n",
      "\u001b[32m✔\u001b[39m \u001b[34mlubridate\u001b[39m 1.9.3     \u001b[32m✔\u001b[39m \u001b[34mtidyr    \u001b[39m 1.3.0\n",
      "\u001b[32m✔\u001b[39m \u001b[34mpurrr    \u001b[39m 1.0.2     \n",
      "── \u001b[1mConflicts\u001b[22m ────────────────────────────────────────── tidyverse_conflicts() ──\n",
      "\u001b[31m✖\u001b[39m \u001b[34mdplyr\u001b[39m::\u001b[32mfilter()\u001b[39m masks \u001b[34mstats\u001b[39m::filter()\n",
      "\u001b[31m✖\u001b[39m \u001b[34mdplyr\u001b[39m::\u001b[32mlag()\u001b[39m    masks \u001b[34mstats\u001b[39m::lag()\n",
      "\u001b[36mℹ\u001b[39m Use the conflicted package (\u001b[3m\u001b[34m<http://conflicted.r-lib.org/>\u001b[39m\u001b[23m) to force all conflicts to become errors\n"
     ]
    }
   ],
   "source": [
    "library(tidyverse)"
   ]
  },
  {
   "cell_type": "markdown",
   "id": "30ef5528-7b8e-4c07-9210-d2b451f5b067",
   "metadata": {
    "slideshow": {
     "slide_type": "slide"
    }
   },
   "source": [
    "# Exercise 11.2\n",
    "\n",
    "We create a super simple tibble to use in the exercises.\n",
    "\n",
    "You can find a text file called `exercise-data.txt` in the directory of today's module (`M11`).\n",
    "\n",
    "Just cut and paste it into you code."
   ]
  },
  {
   "cell_type": "code",
   "execution_count": 2,
   "id": "d221c8f5-6481-4ff3-ad6c-cc9a54a398b0",
   "metadata": {
    "slideshow": {
     "slide_type": "subslide"
    },
    "tags": [],
    "vscode": {
     "languageId": "r"
    }
   },
   "outputs": [],
   "source": [
    "scores <- \n",
    "  tibble(\n",
    "    name = c(\"mike\", \"carol\", \"greg\", \"marcia\", \"peter\", \"jan\", \"bobby\", \"cindy\", \"alice\"),\n",
    "    school = c(\"south\", \"south\", \"south\", \"south\", \"north\", \"north\", \"north\", \"south\", \"south\"),\n",
    "    teacher = c(\"johnson\", \"johnson\", \"johnson\", \"johnson\",  \"smith\", \"smith\", \"smith\", \"perry\", \"perry\"),\n",
    "    sex = c(\"male\", \"female\", \"male\", \"female\", \"male\", \"female\", \"male\", \"female\", \"female\"),\n",
    "    math_score = c(4, 3, 2, 4, 3, 4, 5, 4, 5),\n",
    "    reading_score = c(1, 5, 2, 4, 5, 4, 1, 5, 4)\n",
    ")"
   ]
  },
  {
   "cell_type": "code",
   "execution_count": 68,
   "id": "fa039318-2814-48eb-95d7-0ab3ce7e4cd0",
   "metadata": {},
   "outputs": [
    {
     "data": {
      "text/html": [
       "<table class=\"dataframe\">\n",
       "<caption>A tibble: 9 × 5</caption>\n",
       "<thead>\n",
       "\t<tr><th scope=col>name</th><th scope=col>school</th><th scope=col>teacher</th><th scope=col>math_score</th><th scope=col>reading_score</th></tr>\n",
       "\t<tr><th scope=col>&lt;chr&gt;</th><th scope=col>&lt;chr&gt;</th><th scope=col>&lt;chr&gt;</th><th scope=col>&lt;dbl&gt;</th><th scope=col>&lt;dbl&gt;</th></tr>\n",
       "</thead>\n",
       "<tbody>\n",
       "\t<tr><td>mike  </td><td>south</td><td>johnson</td><td>4</td><td>1</td></tr>\n",
       "\t<tr><td>carol </td><td>south</td><td>johnson</td><td>3</td><td>5</td></tr>\n",
       "\t<tr><td>greg  </td><td>south</td><td>johnson</td><td>2</td><td>2</td></tr>\n",
       "\t<tr><td>marcia</td><td>south</td><td>johnson</td><td>4</td><td>4</td></tr>\n",
       "\t<tr><td>peter </td><td>north</td><td>smith  </td><td>3</td><td>5</td></tr>\n",
       "\t<tr><td>jan   </td><td>north</td><td>smith  </td><td>4</td><td>4</td></tr>\n",
       "\t<tr><td>bobby </td><td>north</td><td>smith  </td><td>5</td><td>1</td></tr>\n",
       "\t<tr><td>cindy </td><td>south</td><td>perry  </td><td>4</td><td>5</td></tr>\n",
       "\t<tr><td>alice </td><td>south</td><td>perry  </td><td>5</td><td>4</td></tr>\n",
       "</tbody>\n",
       "</table>\n"
      ],
      "text/latex": [
       "A tibble: 9 × 5\n",
       "\\begin{tabular}{lllll}\n",
       " name & school & teacher & math\\_score & reading\\_score\\\\\n",
       " <chr> & <chr> & <chr> & <dbl> & <dbl>\\\\\n",
       "\\hline\n",
       "\t mike   & south & johnson & 4 & 1\\\\\n",
       "\t carol  & south & johnson & 3 & 5\\\\\n",
       "\t greg   & south & johnson & 2 & 2\\\\\n",
       "\t marcia & south & johnson & 4 & 4\\\\\n",
       "\t peter  & north & smith   & 3 & 5\\\\\n",
       "\t jan    & north & smith   & 4 & 4\\\\\n",
       "\t bobby  & north & smith   & 5 & 1\\\\\n",
       "\t cindy  & south & perry   & 4 & 5\\\\\n",
       "\t alice  & south & perry   & 5 & 4\\\\\n",
       "\\end{tabular}\n"
      ],
      "text/markdown": [
       "\n",
       "A tibble: 9 × 5\n",
       "\n",
       "| name &lt;chr&gt; | school &lt;chr&gt; | teacher &lt;chr&gt; | math_score &lt;dbl&gt; | reading_score &lt;dbl&gt; |\n",
       "|---|---|---|---|---|\n",
       "| mike   | south | johnson | 4 | 1 |\n",
       "| carol  | south | johnson | 3 | 5 |\n",
       "| greg   | south | johnson | 2 | 2 |\n",
       "| marcia | south | johnson | 4 | 4 |\n",
       "| peter  | north | smith   | 3 | 5 |\n",
       "| jan    | north | smith   | 4 | 4 |\n",
       "| bobby  | north | smith   | 5 | 1 |\n",
       "| cindy  | south | perry   | 4 | 5 |\n",
       "| alice  | south | perry   | 5 | 4 |\n",
       "\n"
      ],
      "text/plain": [
       "  name   school teacher math_score reading_score\n",
       "1 mike   south  johnson 4          1            \n",
       "2 carol  south  johnson 3          5            \n",
       "3 greg   south  johnson 2          2            \n",
       "4 marcia south  johnson 4          4            \n",
       "5 peter  north  smith   3          5            \n",
       "6 jan    north  smith   4          4            \n",
       "7 bobby  north  smith   5          1            \n",
       "8 cindy  south  perry   4          5            \n",
       "9 alice  south  perry   5          4            "
      ]
     },
     "metadata": {},
     "output_type": "display_data"
    }
   ],
   "source": [
    "scores %>% \n",
    "  select(!sex)"
   ]
  },
  {
   "cell_type": "markdown",
   "id": "9d4021e0-fc81-4e36-a0f0-ee40129fb5ee",
   "metadata": {
    "slideshow": {
     "slide_type": "slide"
    }
   },
   "source": [
    "# Exercise 11.3\n",
    "\n",
    "View the tibble."
   ]
  },
  {
   "cell_type": "code",
   "execution_count": 3,
   "id": "dac4ebfe-32e2-4bad-ab82-50a7c74ba4fc",
   "metadata": {
    "slideshow": {
     "slide_type": "subslide"
    },
    "tags": [],
    "vscode": {
     "languageId": "r"
    }
   },
   "outputs": [
    {
     "data": {
      "text/html": [
       "<table class=\"dataframe\">\n",
       "<caption>A tibble: 9 × 6</caption>\n",
       "<thead>\n",
       "\t<tr><th scope=col>name</th><th scope=col>school</th><th scope=col>teacher</th><th scope=col>sex</th><th scope=col>math_score</th><th scope=col>reading_score</th></tr>\n",
       "\t<tr><th scope=col>&lt;chr&gt;</th><th scope=col>&lt;chr&gt;</th><th scope=col>&lt;chr&gt;</th><th scope=col>&lt;chr&gt;</th><th scope=col>&lt;dbl&gt;</th><th scope=col>&lt;dbl&gt;</th></tr>\n",
       "</thead>\n",
       "<tbody>\n",
       "\t<tr><td>mike  </td><td>south</td><td>johnson</td><td>male  </td><td>4</td><td>1</td></tr>\n",
       "\t<tr><td>carol </td><td>south</td><td>johnson</td><td>female</td><td>3</td><td>5</td></tr>\n",
       "\t<tr><td>greg  </td><td>south</td><td>johnson</td><td>male  </td><td>2</td><td>2</td></tr>\n",
       "\t<tr><td>marcia</td><td>south</td><td>johnson</td><td>female</td><td>4</td><td>4</td></tr>\n",
       "\t<tr><td>peter </td><td>north</td><td>smith  </td><td>male  </td><td>3</td><td>5</td></tr>\n",
       "\t<tr><td>jan   </td><td>north</td><td>smith  </td><td>female</td><td>4</td><td>4</td></tr>\n",
       "\t<tr><td>bobby </td><td>north</td><td>smith  </td><td>male  </td><td>5</td><td>1</td></tr>\n",
       "\t<tr><td>cindy </td><td>south</td><td>perry  </td><td>female</td><td>4</td><td>5</td></tr>\n",
       "\t<tr><td>alice </td><td>south</td><td>perry  </td><td>female</td><td>5</td><td>4</td></tr>\n",
       "</tbody>\n",
       "</table>\n"
      ],
      "text/latex": [
       "A tibble: 9 × 6\n",
       "\\begin{tabular}{llllll}\n",
       " name & school & teacher & sex & math\\_score & reading\\_score\\\\\n",
       " <chr> & <chr> & <chr> & <chr> & <dbl> & <dbl>\\\\\n",
       "\\hline\n",
       "\t mike   & south & johnson & male   & 4 & 1\\\\\n",
       "\t carol  & south & johnson & female & 3 & 5\\\\\n",
       "\t greg   & south & johnson & male   & 2 & 2\\\\\n",
       "\t marcia & south & johnson & female & 4 & 4\\\\\n",
       "\t peter  & north & smith   & male   & 3 & 5\\\\\n",
       "\t jan    & north & smith   & female & 4 & 4\\\\\n",
       "\t bobby  & north & smith   & male   & 5 & 1\\\\\n",
       "\t cindy  & south & perry   & female & 4 & 5\\\\\n",
       "\t alice  & south & perry   & female & 5 & 4\\\\\n",
       "\\end{tabular}\n"
      ],
      "text/markdown": [
       "\n",
       "A tibble: 9 × 6\n",
       "\n",
       "| name &lt;chr&gt; | school &lt;chr&gt; | teacher &lt;chr&gt; | sex &lt;chr&gt; | math_score &lt;dbl&gt; | reading_score &lt;dbl&gt; |\n",
       "|---|---|---|---|---|---|\n",
       "| mike   | south | johnson | male   | 4 | 1 |\n",
       "| carol  | south | johnson | female | 3 | 5 |\n",
       "| greg   | south | johnson | male   | 2 | 2 |\n",
       "| marcia | south | johnson | female | 4 | 4 |\n",
       "| peter  | north | smith   | male   | 3 | 5 |\n",
       "| jan    | north | smith   | female | 4 | 4 |\n",
       "| bobby  | north | smith   | male   | 5 | 1 |\n",
       "| cindy  | south | perry   | female | 4 | 5 |\n",
       "| alice  | south | perry   | female | 5 | 4 |\n",
       "\n"
      ],
      "text/plain": [
       "  name   school teacher sex    math_score reading_score\n",
       "1 mike   south  johnson male   4          1            \n",
       "2 carol  south  johnson female 3          5            \n",
       "3 greg   south  johnson male   2          2            \n",
       "4 marcia south  johnson female 4          4            \n",
       "5 peter  north  smith   male   3          5            \n",
       "6 jan    north  smith   female 4          4            \n",
       "7 bobby  north  smith   male   5          1            \n",
       "8 cindy  south  perry   female 4          5            \n",
       "9 alice  south  perry   female 5          4            "
      ]
     },
     "metadata": {},
     "output_type": "display_data"
    }
   ],
   "source": [
    "scores"
   ]
  },
  {
   "cell_type": "code",
   "execution_count": 4,
   "id": "7d12cda7-7043-4e41-8f70-a40baa684acb",
   "metadata": {
    "slideshow": {
     "slide_type": "subslide"
    },
    "tags": []
   },
   "outputs": [
    {
     "name": "stdout",
     "output_type": "stream",
     "text": [
      "\u001b[90m# A tibble: 9 × 6\u001b[39m\n",
      "  name   school teacher sex    math_score reading_score\n",
      "  \u001b[3m\u001b[90m<chr>\u001b[39m\u001b[23m  \u001b[3m\u001b[90m<chr>\u001b[39m\u001b[23m  \u001b[3m\u001b[90m<chr>\u001b[39m\u001b[23m   \u001b[3m\u001b[90m<chr>\u001b[39m\u001b[23m       \u001b[3m\u001b[90m<dbl>\u001b[39m\u001b[23m         \u001b[3m\u001b[90m<dbl>\u001b[39m\u001b[23m\n",
      "\u001b[90m1\u001b[39m mike   south  johnson male            4             1\n",
      "\u001b[90m2\u001b[39m carol  south  johnson female          3             5\n",
      "\u001b[90m3\u001b[39m greg   south  johnson male            2             2\n",
      "\u001b[90m4\u001b[39m marcia south  johnson female          4             4\n",
      "\u001b[90m5\u001b[39m peter  north  smith   male            3             5\n",
      "\u001b[90m6\u001b[39m jan    north  smith   female          4             4\n",
      "\u001b[90m7\u001b[39m bobby  north  smith   male            5             1\n",
      "\u001b[90m8\u001b[39m cindy  south  perry   female          4             5\n",
      "\u001b[90m9\u001b[39m alice  south  perry   female          5             4\n"
     ]
    }
   ],
   "source": [
    "print(scores)"
   ]
  },
  {
   "cell_type": "markdown",
   "id": "cb6896f3-0ab9-4e7d-a33d-e2d45eb5a29c",
   "metadata": {
    "slideshow": {
     "slide_type": "slide"
    }
   },
   "source": [
    "# Exercise 11.4\n",
    "\n",
    "Make sure you understand the difference between \n",
    "\n",
    "- doing something and assigning it to a variable \n",
    "- and just doing it without assigning it \n",
    "\n",
    "when using `%>%`.\n",
    "\n",
    "First, just get the first three rows (using `slice()`).\n",
    "\n",
    "Then, assign the first three rows to a variable."
   ]
  },
  {
   "cell_type": "code",
   "execution_count": 5,
   "id": "83f83cfc-3da9-4ac9-a3a3-aa1607b8dc3e",
   "metadata": {
    "slideshow": {
     "slide_type": "subslide"
    },
    "tags": [],
    "vscode": {
     "languageId": "r"
    }
   },
   "outputs": [
    {
     "data": {
      "text/html": [
       "<table class=\"dataframe\">\n",
       "<caption>A tibble: 3 × 6</caption>\n",
       "<thead>\n",
       "\t<tr><th scope=col>name</th><th scope=col>school</th><th scope=col>teacher</th><th scope=col>sex</th><th scope=col>math_score</th><th scope=col>reading_score</th></tr>\n",
       "\t<tr><th scope=col>&lt;chr&gt;</th><th scope=col>&lt;chr&gt;</th><th scope=col>&lt;chr&gt;</th><th scope=col>&lt;chr&gt;</th><th scope=col>&lt;dbl&gt;</th><th scope=col>&lt;dbl&gt;</th></tr>\n",
       "</thead>\n",
       "<tbody>\n",
       "\t<tr><td>mike </td><td>south</td><td>johnson</td><td>male  </td><td>4</td><td>1</td></tr>\n",
       "\t<tr><td>carol</td><td>south</td><td>johnson</td><td>female</td><td>3</td><td>5</td></tr>\n",
       "\t<tr><td>greg </td><td>south</td><td>johnson</td><td>male  </td><td>2</td><td>2</td></tr>\n",
       "</tbody>\n",
       "</table>\n"
      ],
      "text/latex": [
       "A tibble: 3 × 6\n",
       "\\begin{tabular}{llllll}\n",
       " name & school & teacher & sex & math\\_score & reading\\_score\\\\\n",
       " <chr> & <chr> & <chr> & <chr> & <dbl> & <dbl>\\\\\n",
       "\\hline\n",
       "\t mike  & south & johnson & male   & 4 & 1\\\\\n",
       "\t carol & south & johnson & female & 3 & 5\\\\\n",
       "\t greg  & south & johnson & male   & 2 & 2\\\\\n",
       "\\end{tabular}\n"
      ],
      "text/markdown": [
       "\n",
       "A tibble: 3 × 6\n",
       "\n",
       "| name &lt;chr&gt; | school &lt;chr&gt; | teacher &lt;chr&gt; | sex &lt;chr&gt; | math_score &lt;dbl&gt; | reading_score &lt;dbl&gt; |\n",
       "|---|---|---|---|---|---|\n",
       "| mike  | south | johnson | male   | 4 | 1 |\n",
       "| carol | south | johnson | female | 3 | 5 |\n",
       "| greg  | south | johnson | male   | 2 | 2 |\n",
       "\n"
      ],
      "text/plain": [
       "  name  school teacher sex    math_score reading_score\n",
       "1 mike  south  johnson male   4          1            \n",
       "2 carol south  johnson female 3          5            \n",
       "3 greg  south  johnson male   2          2            "
      ]
     },
     "metadata": {},
     "output_type": "display_data"
    }
   ],
   "source": [
    "scores %>% \n",
    "  slice(1:3)"
   ]
  },
  {
   "cell_type": "markdown",
   "id": "3c689960-9f9a-4d63-b9f3-6e04257db265",
   "metadata": {
    "jp-MarkdownHeadingCollapsed": true,
    "slideshow": {
     "slide_type": "subslide"
    },
    "tags": []
   },
   "source": [
    "Get the first 3 rows, and assign it to a new name `scores_small`."
   ]
  },
  {
   "cell_type": "code",
   "execution_count": 6,
   "id": "9bdf4726-d841-4d33-beef-63a0fff7d8f0",
   "metadata": {
    "tags": [],
    "vscode": {
     "languageId": "r"
    }
   },
   "outputs": [],
   "source": [
    "scores_small <- scores %>% \n",
    "  slice(1:3)"
   ]
  },
  {
   "cell_type": "markdown",
   "id": "d86656be-c3d2-4d86-b4dc-d9f615a9e680",
   "metadata": {},
   "source": [
    "See what's in `scores_small`."
   ]
  },
  {
   "cell_type": "code",
   "execution_count": 7,
   "id": "ff9bfa80-c17d-44d5-a63b-1100f9a6135b",
   "metadata": {
    "tags": [],
    "vscode": {
     "languageId": "r"
    }
   },
   "outputs": [
    {
     "data": {
      "text/html": [
       "<table class=\"dataframe\">\n",
       "<caption>A tibble: 3 × 6</caption>\n",
       "<thead>\n",
       "\t<tr><th scope=col>name</th><th scope=col>school</th><th scope=col>teacher</th><th scope=col>sex</th><th scope=col>math_score</th><th scope=col>reading_score</th></tr>\n",
       "\t<tr><th scope=col>&lt;chr&gt;</th><th scope=col>&lt;chr&gt;</th><th scope=col>&lt;chr&gt;</th><th scope=col>&lt;chr&gt;</th><th scope=col>&lt;dbl&gt;</th><th scope=col>&lt;dbl&gt;</th></tr>\n",
       "</thead>\n",
       "<tbody>\n",
       "\t<tr><td>mike </td><td>south</td><td>johnson</td><td>male  </td><td>4</td><td>1</td></tr>\n",
       "\t<tr><td>carol</td><td>south</td><td>johnson</td><td>female</td><td>3</td><td>5</td></tr>\n",
       "\t<tr><td>greg </td><td>south</td><td>johnson</td><td>male  </td><td>2</td><td>2</td></tr>\n",
       "</tbody>\n",
       "</table>\n"
      ],
      "text/latex": [
       "A tibble: 3 × 6\n",
       "\\begin{tabular}{llllll}\n",
       " name & school & teacher & sex & math\\_score & reading\\_score\\\\\n",
       " <chr> & <chr> & <chr> & <chr> & <dbl> & <dbl>\\\\\n",
       "\\hline\n",
       "\t mike  & south & johnson & male   & 4 & 1\\\\\n",
       "\t carol & south & johnson & female & 3 & 5\\\\\n",
       "\t greg  & south & johnson & male   & 2 & 2\\\\\n",
       "\\end{tabular}\n"
      ],
      "text/markdown": [
       "\n",
       "A tibble: 3 × 6\n",
       "\n",
       "| name &lt;chr&gt; | school &lt;chr&gt; | teacher &lt;chr&gt; | sex &lt;chr&gt; | math_score &lt;dbl&gt; | reading_score &lt;dbl&gt; |\n",
       "|---|---|---|---|---|---|\n",
       "| mike  | south | johnson | male   | 4 | 1 |\n",
       "| carol | south | johnson | female | 3 | 5 |\n",
       "| greg  | south | johnson | male   | 2 | 2 |\n",
       "\n"
      ],
      "text/plain": [
       "  name  school teacher sex    math_score reading_score\n",
       "1 mike  south  johnson male   4          1            \n",
       "2 carol south  johnson female 3          5            \n",
       "3 greg  south  johnson male   2          2            "
      ]
     },
     "metadata": {},
     "output_type": "display_data"
    }
   ],
   "source": [
    "scores_small"
   ]
  },
  {
   "cell_type": "markdown",
   "id": "27a3a5ae-5101-458a-ac18-e4d93244c5ed",
   "metadata": {
    "slideshow": {
     "slide_type": "subslide"
    },
    "tags": []
   },
   "source": [
    "Another option:"
   ]
  },
  {
   "cell_type": "code",
   "execution_count": 8,
   "id": "df7af4e4-d62a-448e-b34e-c80d5dec8855",
   "metadata": {
    "tags": []
   },
   "outputs": [
    {
     "data": {
      "text/html": [
       "<table class=\"dataframe\">\n",
       "<caption>A tibble: 3 × 6</caption>\n",
       "<thead>\n",
       "\t<tr><th scope=col>name</th><th scope=col>school</th><th scope=col>teacher</th><th scope=col>sex</th><th scope=col>math_score</th><th scope=col>reading_score</th></tr>\n",
       "\t<tr><th scope=col>&lt;chr&gt;</th><th scope=col>&lt;chr&gt;</th><th scope=col>&lt;chr&gt;</th><th scope=col>&lt;chr&gt;</th><th scope=col>&lt;dbl&gt;</th><th scope=col>&lt;dbl&gt;</th></tr>\n",
       "</thead>\n",
       "<tbody>\n",
       "\t<tr><td>mike </td><td>south</td><td>johnson</td><td>male  </td><td>4</td><td>1</td></tr>\n",
       "\t<tr><td>carol</td><td>south</td><td>johnson</td><td>female</td><td>3</td><td>5</td></tr>\n",
       "\t<tr><td>greg </td><td>south</td><td>johnson</td><td>male  </td><td>2</td><td>2</td></tr>\n",
       "</tbody>\n",
       "</table>\n"
      ],
      "text/latex": [
       "A tibble: 3 × 6\n",
       "\\begin{tabular}{llllll}\n",
       " name & school & teacher & sex & math\\_score & reading\\_score\\\\\n",
       " <chr> & <chr> & <chr> & <chr> & <dbl> & <dbl>\\\\\n",
       "\\hline\n",
       "\t mike  & south & johnson & male   & 4 & 1\\\\\n",
       "\t carol & south & johnson & female & 3 & 5\\\\\n",
       "\t greg  & south & johnson & male   & 2 & 2\\\\\n",
       "\\end{tabular}\n"
      ],
      "text/markdown": [
       "\n",
       "A tibble: 3 × 6\n",
       "\n",
       "| name &lt;chr&gt; | school &lt;chr&gt; | teacher &lt;chr&gt; | sex &lt;chr&gt; | math_score &lt;dbl&gt; | reading_score &lt;dbl&gt; |\n",
       "|---|---|---|---|---|---|\n",
       "| mike  | south | johnson | male   | 4 | 1 |\n",
       "| carol | south | johnson | female | 3 | 5 |\n",
       "| greg  | south | johnson | male   | 2 | 2 |\n",
       "\n"
      ],
      "text/plain": [
       "  name  school teacher sex    math_score reading_score\n",
       "1 mike  south  johnson male   4          1            \n",
       "2 carol south  johnson female 3          5            \n",
       "3 greg  south  johnson male   2          2            "
      ]
     },
     "metadata": {},
     "output_type": "display_data"
    }
   ],
   "source": [
    "scores %>% head(3)"
   ]
  },
  {
   "cell_type": "markdown",
   "id": "a9922f77-9b23-4d82-916b-f24f60fa6ebe",
   "metadata": {
    "slideshow": {
     "slide_type": "subslide"
    },
    "tags": []
   },
   "source": [
    "And the old way:"
   ]
  },
  {
   "cell_type": "code",
   "execution_count": 9,
   "id": "53757d2d-df34-46e6-8709-91ae15467996",
   "metadata": {
    "tags": []
   },
   "outputs": [
    {
     "data": {
      "text/html": [
       "<table class=\"dataframe\">\n",
       "<caption>A tibble: 3 × 6</caption>\n",
       "<thead>\n",
       "\t<tr><th scope=col>name</th><th scope=col>school</th><th scope=col>teacher</th><th scope=col>sex</th><th scope=col>math_score</th><th scope=col>reading_score</th></tr>\n",
       "\t<tr><th scope=col>&lt;chr&gt;</th><th scope=col>&lt;chr&gt;</th><th scope=col>&lt;chr&gt;</th><th scope=col>&lt;chr&gt;</th><th scope=col>&lt;dbl&gt;</th><th scope=col>&lt;dbl&gt;</th></tr>\n",
       "</thead>\n",
       "<tbody>\n",
       "\t<tr><td>mike </td><td>south</td><td>johnson</td><td>male  </td><td>4</td><td>1</td></tr>\n",
       "\t<tr><td>carol</td><td>south</td><td>johnson</td><td>female</td><td>3</td><td>5</td></tr>\n",
       "\t<tr><td>greg </td><td>south</td><td>johnson</td><td>male  </td><td>2</td><td>2</td></tr>\n",
       "</tbody>\n",
       "</table>\n"
      ],
      "text/latex": [
       "A tibble: 3 × 6\n",
       "\\begin{tabular}{llllll}\n",
       " name & school & teacher & sex & math\\_score & reading\\_score\\\\\n",
       " <chr> & <chr> & <chr> & <chr> & <dbl> & <dbl>\\\\\n",
       "\\hline\n",
       "\t mike  & south & johnson & male   & 4 & 1\\\\\n",
       "\t carol & south & johnson & female & 3 & 5\\\\\n",
       "\t greg  & south & johnson & male   & 2 & 2\\\\\n",
       "\\end{tabular}\n"
      ],
      "text/markdown": [
       "\n",
       "A tibble: 3 × 6\n",
       "\n",
       "| name &lt;chr&gt; | school &lt;chr&gt; | teacher &lt;chr&gt; | sex &lt;chr&gt; | math_score &lt;dbl&gt; | reading_score &lt;dbl&gt; |\n",
       "|---|---|---|---|---|---|\n",
       "| mike  | south | johnson | male   | 4 | 1 |\n",
       "| carol | south | johnson | female | 3 | 5 |\n",
       "| greg  | south | johnson | male   | 2 | 2 |\n",
       "\n"
      ],
      "text/plain": [
       "  name  school teacher sex    math_score reading_score\n",
       "1 mike  south  johnson male   4          1            \n",
       "2 carol south  johnson female 3          5            \n",
       "3 greg  south  johnson male   2          2            "
      ]
     },
     "metadata": {},
     "output_type": "display_data"
    }
   ],
   "source": [
    "scores[1:3,]"
   ]
  },
  {
   "cell_type": "markdown",
   "id": "85bfaa91-a862-48ee-9305-869c7acb4bb4",
   "metadata": {
    "slideshow": {
     "slide_type": "slide"
    },
    "tags": []
   },
   "source": [
    "# Part 1: Arrange"
   ]
  },
  {
   "cell_type": "markdown",
   "id": "a568a69f-5abe-4513-b4e0-0f977291e1dd",
   "metadata": {
    "slideshow": {
     "slide_type": "slide"
    }
   },
   "source": [
    "# Exercise 11.5\n",
    "\n",
    "Sort the data by `math_score` from high to low. \n",
    "\n",
    "Who had the best math score?"
   ]
  },
  {
   "cell_type": "code",
   "execution_count": 10,
   "id": "75fe4620-ed43-4f24-8395-ee0ce54329d6",
   "metadata": {
    "slideshow": {
     "slide_type": "subslide"
    },
    "tags": [],
    "vscode": {
     "languageId": "r"
    }
   },
   "outputs": [
    {
     "data": {
      "text/html": [
       "<table class=\"dataframe\">\n",
       "<caption>A tibble: 9 × 6</caption>\n",
       "<thead>\n",
       "\t<tr><th scope=col>name</th><th scope=col>school</th><th scope=col>teacher</th><th scope=col>sex</th><th scope=col>math_score</th><th scope=col>reading_score</th></tr>\n",
       "\t<tr><th scope=col>&lt;chr&gt;</th><th scope=col>&lt;chr&gt;</th><th scope=col>&lt;chr&gt;</th><th scope=col>&lt;chr&gt;</th><th scope=col>&lt;dbl&gt;</th><th scope=col>&lt;dbl&gt;</th></tr>\n",
       "</thead>\n",
       "<tbody>\n",
       "\t<tr><td>bobby </td><td>north</td><td>smith  </td><td>male  </td><td>5</td><td>1</td></tr>\n",
       "\t<tr><td>alice </td><td>south</td><td>perry  </td><td>female</td><td>5</td><td>4</td></tr>\n",
       "\t<tr><td>mike  </td><td>south</td><td>johnson</td><td>male  </td><td>4</td><td>1</td></tr>\n",
       "\t<tr><td>marcia</td><td>south</td><td>johnson</td><td>female</td><td>4</td><td>4</td></tr>\n",
       "\t<tr><td>jan   </td><td>north</td><td>smith  </td><td>female</td><td>4</td><td>4</td></tr>\n",
       "\t<tr><td>cindy </td><td>south</td><td>perry  </td><td>female</td><td>4</td><td>5</td></tr>\n",
       "\t<tr><td>carol </td><td>south</td><td>johnson</td><td>female</td><td>3</td><td>5</td></tr>\n",
       "\t<tr><td>peter </td><td>north</td><td>smith  </td><td>male  </td><td>3</td><td>5</td></tr>\n",
       "\t<tr><td>greg  </td><td>south</td><td>johnson</td><td>male  </td><td>2</td><td>2</td></tr>\n",
       "</tbody>\n",
       "</table>\n"
      ],
      "text/latex": [
       "A tibble: 9 × 6\n",
       "\\begin{tabular}{llllll}\n",
       " name & school & teacher & sex & math\\_score & reading\\_score\\\\\n",
       " <chr> & <chr> & <chr> & <chr> & <dbl> & <dbl>\\\\\n",
       "\\hline\n",
       "\t bobby  & north & smith   & male   & 5 & 1\\\\\n",
       "\t alice  & south & perry   & female & 5 & 4\\\\\n",
       "\t mike   & south & johnson & male   & 4 & 1\\\\\n",
       "\t marcia & south & johnson & female & 4 & 4\\\\\n",
       "\t jan    & north & smith   & female & 4 & 4\\\\\n",
       "\t cindy  & south & perry   & female & 4 & 5\\\\\n",
       "\t carol  & south & johnson & female & 3 & 5\\\\\n",
       "\t peter  & north & smith   & male   & 3 & 5\\\\\n",
       "\t greg   & south & johnson & male   & 2 & 2\\\\\n",
       "\\end{tabular}\n"
      ],
      "text/markdown": [
       "\n",
       "A tibble: 9 × 6\n",
       "\n",
       "| name &lt;chr&gt; | school &lt;chr&gt; | teacher &lt;chr&gt; | sex &lt;chr&gt; | math_score &lt;dbl&gt; | reading_score &lt;dbl&gt; |\n",
       "|---|---|---|---|---|---|\n",
       "| bobby  | north | smith   | male   | 5 | 1 |\n",
       "| alice  | south | perry   | female | 5 | 4 |\n",
       "| mike   | south | johnson | male   | 4 | 1 |\n",
       "| marcia | south | johnson | female | 4 | 4 |\n",
       "| jan    | north | smith   | female | 4 | 4 |\n",
       "| cindy  | south | perry   | female | 4 | 5 |\n",
       "| carol  | south | johnson | female | 3 | 5 |\n",
       "| peter  | north | smith   | male   | 3 | 5 |\n",
       "| greg   | south | johnson | male   | 2 | 2 |\n",
       "\n"
      ],
      "text/plain": [
       "  name   school teacher sex    math_score reading_score\n",
       "1 bobby  north  smith   male   5          1            \n",
       "2 alice  south  perry   female 5          4            \n",
       "3 mike   south  johnson male   4          1            \n",
       "4 marcia south  johnson female 4          4            \n",
       "5 jan    north  smith   female 4          4            \n",
       "6 cindy  south  perry   female 4          5            \n",
       "7 carol  south  johnson female 3          5            \n",
       "8 peter  north  smith   male   3          5            \n",
       "9 greg   south  johnson male   2          2            "
      ]
     },
     "metadata": {},
     "output_type": "display_data"
    }
   ],
   "source": [
    "scores %>% \n",
    "  arrange(desc(math_score))"
   ]
  },
  {
   "cell_type": "markdown",
   "id": "a0014853-68f3-47e1-8fac-cdd060fb5847",
   "metadata": {
    "slideshow": {
     "slide_type": "-"
    }
   },
   "source": [
    "**Answer:** Bobby and Alice both tied for the highest math score"
   ]
  },
  {
   "cell_type": "markdown",
   "id": "c9acd882-de0c-4c38-86ed-9a4cbc76c244",
   "metadata": {
    "slideshow": {
     "slide_type": "slide"
    },
    "tags": []
   },
   "source": [
    "# Exercise 11.6\n",
    "\n",
    "Sort the data by `name` in alphabetical order."
   ]
  },
  {
   "cell_type": "code",
   "execution_count": 11,
   "id": "0fbdcb31-2283-47ad-9ce4-bd691b2173eb",
   "metadata": {
    "slideshow": {
     "slide_type": "subslide"
    },
    "tags": [],
    "vscode": {
     "languageId": "r"
    }
   },
   "outputs": [
    {
     "data": {
      "text/html": [
       "<table class=\"dataframe\">\n",
       "<caption>A tibble: 9 × 6</caption>\n",
       "<thead>\n",
       "\t<tr><th scope=col>name</th><th scope=col>school</th><th scope=col>teacher</th><th scope=col>sex</th><th scope=col>math_score</th><th scope=col>reading_score</th></tr>\n",
       "\t<tr><th scope=col>&lt;chr&gt;</th><th scope=col>&lt;chr&gt;</th><th scope=col>&lt;chr&gt;</th><th scope=col>&lt;chr&gt;</th><th scope=col>&lt;dbl&gt;</th><th scope=col>&lt;dbl&gt;</th></tr>\n",
       "</thead>\n",
       "<tbody>\n",
       "\t<tr><td>alice </td><td>south</td><td>perry  </td><td>female</td><td>5</td><td>4</td></tr>\n",
       "\t<tr><td>bobby </td><td>north</td><td>smith  </td><td>male  </td><td>5</td><td>1</td></tr>\n",
       "\t<tr><td>carol </td><td>south</td><td>johnson</td><td>female</td><td>3</td><td>5</td></tr>\n",
       "\t<tr><td>cindy </td><td>south</td><td>perry  </td><td>female</td><td>4</td><td>5</td></tr>\n",
       "\t<tr><td>greg  </td><td>south</td><td>johnson</td><td>male  </td><td>2</td><td>2</td></tr>\n",
       "\t<tr><td>jan   </td><td>north</td><td>smith  </td><td>female</td><td>4</td><td>4</td></tr>\n",
       "\t<tr><td>marcia</td><td>south</td><td>johnson</td><td>female</td><td>4</td><td>4</td></tr>\n",
       "\t<tr><td>mike  </td><td>south</td><td>johnson</td><td>male  </td><td>4</td><td>1</td></tr>\n",
       "\t<tr><td>peter </td><td>north</td><td>smith  </td><td>male  </td><td>3</td><td>5</td></tr>\n",
       "</tbody>\n",
       "</table>\n"
      ],
      "text/latex": [
       "A tibble: 9 × 6\n",
       "\\begin{tabular}{llllll}\n",
       " name & school & teacher & sex & math\\_score & reading\\_score\\\\\n",
       " <chr> & <chr> & <chr> & <chr> & <dbl> & <dbl>\\\\\n",
       "\\hline\n",
       "\t alice  & south & perry   & female & 5 & 4\\\\\n",
       "\t bobby  & north & smith   & male   & 5 & 1\\\\\n",
       "\t carol  & south & johnson & female & 3 & 5\\\\\n",
       "\t cindy  & south & perry   & female & 4 & 5\\\\\n",
       "\t greg   & south & johnson & male   & 2 & 2\\\\\n",
       "\t jan    & north & smith   & female & 4 & 4\\\\\n",
       "\t marcia & south & johnson & female & 4 & 4\\\\\n",
       "\t mike   & south & johnson & male   & 4 & 1\\\\\n",
       "\t peter  & north & smith   & male   & 3 & 5\\\\\n",
       "\\end{tabular}\n"
      ],
      "text/markdown": [
       "\n",
       "A tibble: 9 × 6\n",
       "\n",
       "| name &lt;chr&gt; | school &lt;chr&gt; | teacher &lt;chr&gt; | sex &lt;chr&gt; | math_score &lt;dbl&gt; | reading_score &lt;dbl&gt; |\n",
       "|---|---|---|---|---|---|\n",
       "| alice  | south | perry   | female | 5 | 4 |\n",
       "| bobby  | north | smith   | male   | 5 | 1 |\n",
       "| carol  | south | johnson | female | 3 | 5 |\n",
       "| cindy  | south | perry   | female | 4 | 5 |\n",
       "| greg   | south | johnson | male   | 2 | 2 |\n",
       "| jan    | north | smith   | female | 4 | 4 |\n",
       "| marcia | south | johnson | female | 4 | 4 |\n",
       "| mike   | south | johnson | male   | 4 | 1 |\n",
       "| peter  | north | smith   | male   | 3 | 5 |\n",
       "\n"
      ],
      "text/plain": [
       "  name   school teacher sex    math_score reading_score\n",
       "1 alice  south  perry   female 5          4            \n",
       "2 bobby  north  smith   male   5          1            \n",
       "3 carol  south  johnson female 3          5            \n",
       "4 cindy  south  perry   female 4          5            \n",
       "5 greg   south  johnson male   2          2            \n",
       "6 jan    north  smith   female 4          4            \n",
       "7 marcia south  johnson female 4          4            \n",
       "8 mike   south  johnson male   4          1            \n",
       "9 peter  north  smith   male   3          5            "
      ]
     },
     "metadata": {},
     "output_type": "display_data"
    }
   ],
   "source": [
    "scores %>% \n",
    "  arrange(name)"
   ]
  },
  {
   "cell_type": "markdown",
   "id": "d2bc57b5-7fbc-4e82-a71c-5637af2ac417",
   "metadata": {
    "slideshow": {
     "slide_type": "slide"
    }
   },
   "source": [
    "# Exercise 11.7\n",
    "\n",
    "Sort the data by `sex` so females show up first. "
   ]
  },
  {
   "cell_type": "code",
   "execution_count": 12,
   "id": "c77cdf82-3d70-4f61-8d83-ab64b3bcac20",
   "metadata": {
    "slideshow": {
     "slide_type": "subslide"
    },
    "tags": [],
    "vscode": {
     "languageId": "r"
    }
   },
   "outputs": [
    {
     "data": {
      "text/html": [
       "<table class=\"dataframe\">\n",
       "<caption>A tibble: 9 × 6</caption>\n",
       "<thead>\n",
       "\t<tr><th scope=col>name</th><th scope=col>school</th><th scope=col>teacher</th><th scope=col>sex</th><th scope=col>math_score</th><th scope=col>reading_score</th></tr>\n",
       "\t<tr><th scope=col>&lt;chr&gt;</th><th scope=col>&lt;chr&gt;</th><th scope=col>&lt;chr&gt;</th><th scope=col>&lt;chr&gt;</th><th scope=col>&lt;dbl&gt;</th><th scope=col>&lt;dbl&gt;</th></tr>\n",
       "</thead>\n",
       "<tbody>\n",
       "\t<tr><td>carol </td><td>south</td><td>johnson</td><td>female</td><td>3</td><td>5</td></tr>\n",
       "\t<tr><td>marcia</td><td>south</td><td>johnson</td><td>female</td><td>4</td><td>4</td></tr>\n",
       "\t<tr><td>jan   </td><td>north</td><td>smith  </td><td>female</td><td>4</td><td>4</td></tr>\n",
       "\t<tr><td>cindy </td><td>south</td><td>perry  </td><td>female</td><td>4</td><td>5</td></tr>\n",
       "\t<tr><td>alice </td><td>south</td><td>perry  </td><td>female</td><td>5</td><td>4</td></tr>\n",
       "\t<tr><td>mike  </td><td>south</td><td>johnson</td><td>male  </td><td>4</td><td>1</td></tr>\n",
       "\t<tr><td>greg  </td><td>south</td><td>johnson</td><td>male  </td><td>2</td><td>2</td></tr>\n",
       "\t<tr><td>peter </td><td>north</td><td>smith  </td><td>male  </td><td>3</td><td>5</td></tr>\n",
       "\t<tr><td>bobby </td><td>north</td><td>smith  </td><td>male  </td><td>5</td><td>1</td></tr>\n",
       "</tbody>\n",
       "</table>\n"
      ],
      "text/latex": [
       "A tibble: 9 × 6\n",
       "\\begin{tabular}{llllll}\n",
       " name & school & teacher & sex & math\\_score & reading\\_score\\\\\n",
       " <chr> & <chr> & <chr> & <chr> & <dbl> & <dbl>\\\\\n",
       "\\hline\n",
       "\t carol  & south & johnson & female & 3 & 5\\\\\n",
       "\t marcia & south & johnson & female & 4 & 4\\\\\n",
       "\t jan    & north & smith   & female & 4 & 4\\\\\n",
       "\t cindy  & south & perry   & female & 4 & 5\\\\\n",
       "\t alice  & south & perry   & female & 5 & 4\\\\\n",
       "\t mike   & south & johnson & male   & 4 & 1\\\\\n",
       "\t greg   & south & johnson & male   & 2 & 2\\\\\n",
       "\t peter  & north & smith   & male   & 3 & 5\\\\\n",
       "\t bobby  & north & smith   & male   & 5 & 1\\\\\n",
       "\\end{tabular}\n"
      ],
      "text/markdown": [
       "\n",
       "A tibble: 9 × 6\n",
       "\n",
       "| name &lt;chr&gt; | school &lt;chr&gt; | teacher &lt;chr&gt; | sex &lt;chr&gt; | math_score &lt;dbl&gt; | reading_score &lt;dbl&gt; |\n",
       "|---|---|---|---|---|---|\n",
       "| carol  | south | johnson | female | 3 | 5 |\n",
       "| marcia | south | johnson | female | 4 | 4 |\n",
       "| jan    | north | smith   | female | 4 | 4 |\n",
       "| cindy  | south | perry   | female | 4 | 5 |\n",
       "| alice  | south | perry   | female | 5 | 4 |\n",
       "| mike   | south | johnson | male   | 4 | 1 |\n",
       "| greg   | south | johnson | male   | 2 | 2 |\n",
       "| peter  | north | smith   | male   | 3 | 5 |\n",
       "| bobby  | north | smith   | male   | 5 | 1 |\n",
       "\n"
      ],
      "text/plain": [
       "  name   school teacher sex    math_score reading_score\n",
       "1 carol  south  johnson female 3          5            \n",
       "2 marcia south  johnson female 4          4            \n",
       "3 jan    north  smith   female 4          4            \n",
       "4 cindy  south  perry   female 4          5            \n",
       "5 alice  south  perry   female 5          4            \n",
       "6 mike   south  johnson male   4          1            \n",
       "7 greg   south  johnson male   2          2            \n",
       "8 peter  north  smith   male   3          5            \n",
       "9 bobby  north  smith   male   5          1            "
      ]
     },
     "metadata": {},
     "output_type": "display_data"
    }
   ],
   "source": [
    "scores %>% \n",
    "  arrange(sex)"
   ]
  },
  {
   "cell_type": "markdown",
   "id": "bb01d134-1772-4161-89a8-bfc9a572e482",
   "metadata": {
    "slideshow": {
     "slide_type": "slide"
    },
    "tags": []
   },
   "source": [
    "# Exercise 11.8\n",
    "\n",
    "Sort the data by `school`, `teacher`, `sex`, `math_score`, and `reading_score`."
   ]
  },
  {
   "cell_type": "code",
   "execution_count": 13,
   "id": "f746d989-02c8-41c3-92df-1cb53442dfaf",
   "metadata": {
    "slideshow": {
     "slide_type": "subslide"
    },
    "tags": [],
    "vscode": {
     "languageId": "r"
    }
   },
   "outputs": [
    {
     "data": {
      "text/html": [
       "<table class=\"dataframe\">\n",
       "<caption>A tibble: 9 × 6</caption>\n",
       "<thead>\n",
       "\t<tr><th scope=col>name</th><th scope=col>school</th><th scope=col>teacher</th><th scope=col>sex</th><th scope=col>math_score</th><th scope=col>reading_score</th></tr>\n",
       "\t<tr><th scope=col>&lt;chr&gt;</th><th scope=col>&lt;chr&gt;</th><th scope=col>&lt;chr&gt;</th><th scope=col>&lt;chr&gt;</th><th scope=col>&lt;dbl&gt;</th><th scope=col>&lt;dbl&gt;</th></tr>\n",
       "</thead>\n",
       "<tbody>\n",
       "\t<tr><td>jan   </td><td>north</td><td>smith  </td><td>female</td><td>4</td><td>4</td></tr>\n",
       "\t<tr><td>peter </td><td>north</td><td>smith  </td><td>male  </td><td>3</td><td>5</td></tr>\n",
       "\t<tr><td>bobby </td><td>north</td><td>smith  </td><td>male  </td><td>5</td><td>1</td></tr>\n",
       "\t<tr><td>carol </td><td>south</td><td>johnson</td><td>female</td><td>3</td><td>5</td></tr>\n",
       "\t<tr><td>marcia</td><td>south</td><td>johnson</td><td>female</td><td>4</td><td>4</td></tr>\n",
       "\t<tr><td>greg  </td><td>south</td><td>johnson</td><td>male  </td><td>2</td><td>2</td></tr>\n",
       "\t<tr><td>mike  </td><td>south</td><td>johnson</td><td>male  </td><td>4</td><td>1</td></tr>\n",
       "\t<tr><td>cindy </td><td>south</td><td>perry  </td><td>female</td><td>4</td><td>5</td></tr>\n",
       "\t<tr><td>alice </td><td>south</td><td>perry  </td><td>female</td><td>5</td><td>4</td></tr>\n",
       "</tbody>\n",
       "</table>\n"
      ],
      "text/latex": [
       "A tibble: 9 × 6\n",
       "\\begin{tabular}{llllll}\n",
       " name & school & teacher & sex & math\\_score & reading\\_score\\\\\n",
       " <chr> & <chr> & <chr> & <chr> & <dbl> & <dbl>\\\\\n",
       "\\hline\n",
       "\t jan    & north & smith   & female & 4 & 4\\\\\n",
       "\t peter  & north & smith   & male   & 3 & 5\\\\\n",
       "\t bobby  & north & smith   & male   & 5 & 1\\\\\n",
       "\t carol  & south & johnson & female & 3 & 5\\\\\n",
       "\t marcia & south & johnson & female & 4 & 4\\\\\n",
       "\t greg   & south & johnson & male   & 2 & 2\\\\\n",
       "\t mike   & south & johnson & male   & 4 & 1\\\\\n",
       "\t cindy  & south & perry   & female & 4 & 5\\\\\n",
       "\t alice  & south & perry   & female & 5 & 4\\\\\n",
       "\\end{tabular}\n"
      ],
      "text/markdown": [
       "\n",
       "A tibble: 9 × 6\n",
       "\n",
       "| name &lt;chr&gt; | school &lt;chr&gt; | teacher &lt;chr&gt; | sex &lt;chr&gt; | math_score &lt;dbl&gt; | reading_score &lt;dbl&gt; |\n",
       "|---|---|---|---|---|---|\n",
       "| jan    | north | smith   | female | 4 | 4 |\n",
       "| peter  | north | smith   | male   | 3 | 5 |\n",
       "| bobby  | north | smith   | male   | 5 | 1 |\n",
       "| carol  | south | johnson | female | 3 | 5 |\n",
       "| marcia | south | johnson | female | 4 | 4 |\n",
       "| greg   | south | johnson | male   | 2 | 2 |\n",
       "| mike   | south | johnson | male   | 4 | 1 |\n",
       "| cindy  | south | perry   | female | 4 | 5 |\n",
       "| alice  | south | perry   | female | 5 | 4 |\n",
       "\n"
      ],
      "text/plain": [
       "  name   school teacher sex    math_score reading_score\n",
       "1 jan    north  smith   female 4          4            \n",
       "2 peter  north  smith   male   3          5            \n",
       "3 bobby  north  smith   male   5          1            \n",
       "4 carol  south  johnson female 3          5            \n",
       "5 marcia south  johnson female 4          4            \n",
       "6 greg   south  johnson male   2          2            \n",
       "7 mike   south  johnson male   4          1            \n",
       "8 cindy  south  perry   female 4          5            \n",
       "9 alice  south  perry   female 5          4            "
      ]
     },
     "metadata": {},
     "output_type": "display_data"
    }
   ],
   "source": [
    "scores %>%\n",
    "    arrange(school, teacher, sex, math_score, reading_score)"
   ]
  },
  {
   "cell_type": "markdown",
   "id": "af316471-10f7-42f8-8b9b-6e70a15da62a",
   "metadata": {
    "slideshow": {
     "slide_type": "slide"
    }
   },
   "source": [
    "# Part 2: Select"
   ]
  },
  {
   "cell_type": "markdown",
   "id": "b6df6e2f-ce47-4749-b368-60fe4cf23e2d",
   "metadata": {
    "slideshow": {
     "slide_type": "slide"
    },
    "tags": []
   },
   "source": [
    "# Exercise 11.9\n",
    "\n",
    "Select only `name`, `math_score`, and `reading_score`."
   ]
  },
  {
   "cell_type": "code",
   "execution_count": 14,
   "id": "44cb3694-b413-4c4b-b815-e055a0adc046",
   "metadata": {
    "slideshow": {
     "slide_type": "subslide"
    },
    "tags": [],
    "vscode": {
     "languageId": "r"
    }
   },
   "outputs": [
    {
     "data": {
      "text/html": [
       "<table class=\"dataframe\">\n",
       "<caption>A tibble: 9 × 3</caption>\n",
       "<thead>\n",
       "\t<tr><th scope=col>name</th><th scope=col>math_score</th><th scope=col>reading_score</th></tr>\n",
       "\t<tr><th scope=col>&lt;chr&gt;</th><th scope=col>&lt;dbl&gt;</th><th scope=col>&lt;dbl&gt;</th></tr>\n",
       "</thead>\n",
       "<tbody>\n",
       "\t<tr><td>mike  </td><td>4</td><td>1</td></tr>\n",
       "\t<tr><td>carol </td><td>3</td><td>5</td></tr>\n",
       "\t<tr><td>greg  </td><td>2</td><td>2</td></tr>\n",
       "\t<tr><td>marcia</td><td>4</td><td>4</td></tr>\n",
       "\t<tr><td>peter </td><td>3</td><td>5</td></tr>\n",
       "\t<tr><td>jan   </td><td>4</td><td>4</td></tr>\n",
       "\t<tr><td>bobby </td><td>5</td><td>1</td></tr>\n",
       "\t<tr><td>cindy </td><td>4</td><td>5</td></tr>\n",
       "\t<tr><td>alice </td><td>5</td><td>4</td></tr>\n",
       "</tbody>\n",
       "</table>\n"
      ],
      "text/latex": [
       "A tibble: 9 × 3\n",
       "\\begin{tabular}{lll}\n",
       " name & math\\_score & reading\\_score\\\\\n",
       " <chr> & <dbl> & <dbl>\\\\\n",
       "\\hline\n",
       "\t mike   & 4 & 1\\\\\n",
       "\t carol  & 3 & 5\\\\\n",
       "\t greg   & 2 & 2\\\\\n",
       "\t marcia & 4 & 4\\\\\n",
       "\t peter  & 3 & 5\\\\\n",
       "\t jan    & 4 & 4\\\\\n",
       "\t bobby  & 5 & 1\\\\\n",
       "\t cindy  & 4 & 5\\\\\n",
       "\t alice  & 5 & 4\\\\\n",
       "\\end{tabular}\n"
      ],
      "text/markdown": [
       "\n",
       "A tibble: 9 × 3\n",
       "\n",
       "| name &lt;chr&gt; | math_score &lt;dbl&gt; | reading_score &lt;dbl&gt; |\n",
       "|---|---|---|\n",
       "| mike   | 4 | 1 |\n",
       "| carol  | 3 | 5 |\n",
       "| greg   | 2 | 2 |\n",
       "| marcia | 4 | 4 |\n",
       "| peter  | 3 | 5 |\n",
       "| jan    | 4 | 4 |\n",
       "| bobby  | 5 | 1 |\n",
       "| cindy  | 4 | 5 |\n",
       "| alice  | 5 | 4 |\n",
       "\n"
      ],
      "text/plain": [
       "  name   math_score reading_score\n",
       "1 mike   4          1            \n",
       "2 carol  3          5            \n",
       "3 greg   2          2            \n",
       "4 marcia 4          4            \n",
       "5 peter  3          5            \n",
       "6 jan    4          4            \n",
       "7 bobby  5          1            \n",
       "8 cindy  4          5            \n",
       "9 alice  5          4            "
      ]
     },
     "metadata": {},
     "output_type": "display_data"
    }
   ],
   "source": [
    "scores %>% \n",
    "  select(name, math_score, reading_score)"
   ]
  },
  {
   "cell_type": "markdown",
   "id": "d727b312-9306-45d6-923b-72c1a7c44a7e",
   "metadata": {
    "slideshow": {
     "slide_type": "slide"
    },
    "tags": []
   },
   "source": [
    "# Exercise 11.10\n",
    "\n",
    "Select all of the columns except the `sex` column."
   ]
  },
  {
   "cell_type": "code",
   "execution_count": 15,
   "id": "13cca5ac-211b-4266-b098-44c39702a8c2",
   "metadata": {
    "slideshow": {
     "slide_type": "subslide"
    },
    "tags": [],
    "vscode": {
     "languageId": "r"
    }
   },
   "outputs": [
    {
     "data": {
      "text/html": [
       "<table class=\"dataframe\">\n",
       "<caption>A tibble: 9 × 5</caption>\n",
       "<thead>\n",
       "\t<tr><th scope=col>name</th><th scope=col>school</th><th scope=col>teacher</th><th scope=col>math_score</th><th scope=col>reading_score</th></tr>\n",
       "\t<tr><th scope=col>&lt;chr&gt;</th><th scope=col>&lt;chr&gt;</th><th scope=col>&lt;chr&gt;</th><th scope=col>&lt;dbl&gt;</th><th scope=col>&lt;dbl&gt;</th></tr>\n",
       "</thead>\n",
       "<tbody>\n",
       "\t<tr><td>mike  </td><td>south</td><td>johnson</td><td>4</td><td>1</td></tr>\n",
       "\t<tr><td>carol </td><td>south</td><td>johnson</td><td>3</td><td>5</td></tr>\n",
       "\t<tr><td>greg  </td><td>south</td><td>johnson</td><td>2</td><td>2</td></tr>\n",
       "\t<tr><td>marcia</td><td>south</td><td>johnson</td><td>4</td><td>4</td></tr>\n",
       "\t<tr><td>peter </td><td>north</td><td>smith  </td><td>3</td><td>5</td></tr>\n",
       "\t<tr><td>jan   </td><td>north</td><td>smith  </td><td>4</td><td>4</td></tr>\n",
       "\t<tr><td>bobby </td><td>north</td><td>smith  </td><td>5</td><td>1</td></tr>\n",
       "\t<tr><td>cindy </td><td>south</td><td>perry  </td><td>4</td><td>5</td></tr>\n",
       "\t<tr><td>alice </td><td>south</td><td>perry  </td><td>5</td><td>4</td></tr>\n",
       "</tbody>\n",
       "</table>\n"
      ],
      "text/latex": [
       "A tibble: 9 × 5\n",
       "\\begin{tabular}{lllll}\n",
       " name & school & teacher & math\\_score & reading\\_score\\\\\n",
       " <chr> & <chr> & <chr> & <dbl> & <dbl>\\\\\n",
       "\\hline\n",
       "\t mike   & south & johnson & 4 & 1\\\\\n",
       "\t carol  & south & johnson & 3 & 5\\\\\n",
       "\t greg   & south & johnson & 2 & 2\\\\\n",
       "\t marcia & south & johnson & 4 & 4\\\\\n",
       "\t peter  & north & smith   & 3 & 5\\\\\n",
       "\t jan    & north & smith   & 4 & 4\\\\\n",
       "\t bobby  & north & smith   & 5 & 1\\\\\n",
       "\t cindy  & south & perry   & 4 & 5\\\\\n",
       "\t alice  & south & perry   & 5 & 4\\\\\n",
       "\\end{tabular}\n"
      ],
      "text/markdown": [
       "\n",
       "A tibble: 9 × 5\n",
       "\n",
       "| name &lt;chr&gt; | school &lt;chr&gt; | teacher &lt;chr&gt; | math_score &lt;dbl&gt; | reading_score &lt;dbl&gt; |\n",
       "|---|---|---|---|---|\n",
       "| mike   | south | johnson | 4 | 1 |\n",
       "| carol  | south | johnson | 3 | 5 |\n",
       "| greg   | south | johnson | 2 | 2 |\n",
       "| marcia | south | johnson | 4 | 4 |\n",
       "| peter  | north | smith   | 3 | 5 |\n",
       "| jan    | north | smith   | 4 | 4 |\n",
       "| bobby  | north | smith   | 5 | 1 |\n",
       "| cindy  | south | perry   | 4 | 5 |\n",
       "| alice  | south | perry   | 5 | 4 |\n",
       "\n"
      ],
      "text/plain": [
       "  name   school teacher math_score reading_score\n",
       "1 mike   south  johnson 4          1            \n",
       "2 carol  south  johnson 3          5            \n",
       "3 greg   south  johnson 2          2            \n",
       "4 marcia south  johnson 4          4            \n",
       "5 peter  north  smith   3          5            \n",
       "6 jan    north  smith   4          4            \n",
       "7 bobby  north  smith   5          1            \n",
       "8 cindy  south  perry   4          5            \n",
       "9 alice  south  perry   5          4            "
      ]
     },
     "metadata": {},
     "output_type": "display_data"
    }
   ],
   "source": [
    "scores %>% \n",
    "  select(-sex)"
   ]
  },
  {
   "cell_type": "markdown",
   "id": "7cf2dd92-83b7-4bc8-8c7d-66dcb4d2032a",
   "metadata": {
    "editable": true,
    "slideshow": {
     "slide_type": "slide"
    },
    "tags": []
   },
   "source": [
    "# Exercise 11.11\n",
    "\n",
    "Select all of the columns except the `math_score` and\n",
    "`reading_score columns`."
   ]
  },
  {
   "cell_type": "code",
   "execution_count": 16,
   "id": "3d9f0d18-5c35-4aa8-a4ea-e70f72de88ba",
   "metadata": {
    "slideshow": {
     "slide_type": "subslide"
    },
    "tags": [],
    "vscode": {
     "languageId": "r"
    }
   },
   "outputs": [
    {
     "data": {
      "text/html": [
       "<table class=\"dataframe\">\n",
       "<caption>A tibble: 9 × 4</caption>\n",
       "<thead>\n",
       "\t<tr><th scope=col>name</th><th scope=col>school</th><th scope=col>teacher</th><th scope=col>math_score</th></tr>\n",
       "\t<tr><th scope=col>&lt;chr&gt;</th><th scope=col>&lt;chr&gt;</th><th scope=col>&lt;chr&gt;</th><th scope=col>&lt;dbl&gt;</th></tr>\n",
       "</thead>\n",
       "<tbody>\n",
       "\t<tr><td>mike  </td><td>south</td><td>johnson</td><td>4</td></tr>\n",
       "\t<tr><td>carol </td><td>south</td><td>johnson</td><td>3</td></tr>\n",
       "\t<tr><td>greg  </td><td>south</td><td>johnson</td><td>2</td></tr>\n",
       "\t<tr><td>marcia</td><td>south</td><td>johnson</td><td>4</td></tr>\n",
       "\t<tr><td>peter </td><td>north</td><td>smith  </td><td>3</td></tr>\n",
       "\t<tr><td>jan   </td><td>north</td><td>smith  </td><td>4</td></tr>\n",
       "\t<tr><td>bobby </td><td>north</td><td>smith  </td><td>5</td></tr>\n",
       "\t<tr><td>cindy </td><td>south</td><td>perry  </td><td>4</td></tr>\n",
       "\t<tr><td>alice </td><td>south</td><td>perry  </td><td>5</td></tr>\n",
       "</tbody>\n",
       "</table>\n"
      ],
      "text/latex": [
       "A tibble: 9 × 4\n",
       "\\begin{tabular}{llll}\n",
       " name & school & teacher & math\\_score\\\\\n",
       " <chr> & <chr> & <chr> & <dbl>\\\\\n",
       "\\hline\n",
       "\t mike   & south & johnson & 4\\\\\n",
       "\t carol  & south & johnson & 3\\\\\n",
       "\t greg   & south & johnson & 2\\\\\n",
       "\t marcia & south & johnson & 4\\\\\n",
       "\t peter  & north & smith   & 3\\\\\n",
       "\t jan    & north & smith   & 4\\\\\n",
       "\t bobby  & north & smith   & 5\\\\\n",
       "\t cindy  & south & perry   & 4\\\\\n",
       "\t alice  & south & perry   & 5\\\\\n",
       "\\end{tabular}\n"
      ],
      "text/markdown": [
       "\n",
       "A tibble: 9 × 4\n",
       "\n",
       "| name &lt;chr&gt; | school &lt;chr&gt; | teacher &lt;chr&gt; | math_score &lt;dbl&gt; |\n",
       "|---|---|---|---|\n",
       "| mike   | south | johnson | 4 |\n",
       "| carol  | south | johnson | 3 |\n",
       "| greg   | south | johnson | 2 |\n",
       "| marcia | south | johnson | 4 |\n",
       "| peter  | north | smith   | 3 |\n",
       "| jan    | north | smith   | 4 |\n",
       "| bobby  | north | smith   | 5 |\n",
       "| cindy  | south | perry   | 4 |\n",
       "| alice  | south | perry   | 5 |\n",
       "\n"
      ],
      "text/plain": [
       "  name   school teacher math_score\n",
       "1 mike   south  johnson 4         \n",
       "2 carol  south  johnson 3         \n",
       "3 greg   south  johnson 2         \n",
       "4 marcia south  johnson 4         \n",
       "5 peter  north  smith   3         \n",
       "6 jan    north  smith   4         \n",
       "7 bobby  north  smith   5         \n",
       "8 cindy  south  perry   4         \n",
       "9 alice  south  perry   5         "
      ]
     },
     "metadata": {},
     "output_type": "display_data"
    }
   ],
   "source": [
    "scores %>% \n",
    "  select(-sex, -reading_score)"
   ]
  },
  {
   "cell_type": "markdown",
   "id": "9f3423e5-0175-4aba-bdea-ab23c7e60732",
   "metadata": {
    "slideshow": {
     "slide_type": "slide"
    },
    "tags": []
   },
   "source": [
    "# Exercise 11.12\n",
    "\n",
    "Keep all of the columns but rearrange them so that `sex` is the\n",
    "first column."
   ]
  },
  {
   "cell_type": "code",
   "execution_count": 17,
   "id": "88648bf3-63dd-4ee7-957e-efcdf47ce9b6",
   "metadata": {
    "slideshow": {
     "slide_type": "subslide"
    },
    "tags": [],
    "vscode": {
     "languageId": "r"
    }
   },
   "outputs": [
    {
     "data": {
      "text/html": [
       "<table class=\"dataframe\">\n",
       "<caption>A tibble: 9 × 6</caption>\n",
       "<thead>\n",
       "\t<tr><th scope=col>sex</th><th scope=col>name</th><th scope=col>school</th><th scope=col>teacher</th><th scope=col>math_score</th><th scope=col>reading_score</th></tr>\n",
       "\t<tr><th scope=col>&lt;chr&gt;</th><th scope=col>&lt;chr&gt;</th><th scope=col>&lt;chr&gt;</th><th scope=col>&lt;chr&gt;</th><th scope=col>&lt;dbl&gt;</th><th scope=col>&lt;dbl&gt;</th></tr>\n",
       "</thead>\n",
       "<tbody>\n",
       "\t<tr><td>male  </td><td>mike  </td><td>south</td><td>johnson</td><td>4</td><td>1</td></tr>\n",
       "\t<tr><td>female</td><td>carol </td><td>south</td><td>johnson</td><td>3</td><td>5</td></tr>\n",
       "\t<tr><td>male  </td><td>greg  </td><td>south</td><td>johnson</td><td>2</td><td>2</td></tr>\n",
       "\t<tr><td>female</td><td>marcia</td><td>south</td><td>johnson</td><td>4</td><td>4</td></tr>\n",
       "\t<tr><td>male  </td><td>peter </td><td>north</td><td>smith  </td><td>3</td><td>5</td></tr>\n",
       "\t<tr><td>female</td><td>jan   </td><td>north</td><td>smith  </td><td>4</td><td>4</td></tr>\n",
       "\t<tr><td>male  </td><td>bobby </td><td>north</td><td>smith  </td><td>5</td><td>1</td></tr>\n",
       "\t<tr><td>female</td><td>cindy </td><td>south</td><td>perry  </td><td>4</td><td>5</td></tr>\n",
       "\t<tr><td>female</td><td>alice </td><td>south</td><td>perry  </td><td>5</td><td>4</td></tr>\n",
       "</tbody>\n",
       "</table>\n"
      ],
      "text/latex": [
       "A tibble: 9 × 6\n",
       "\\begin{tabular}{llllll}\n",
       " sex & name & school & teacher & math\\_score & reading\\_score\\\\\n",
       " <chr> & <chr> & <chr> & <chr> & <dbl> & <dbl>\\\\\n",
       "\\hline\n",
       "\t male   & mike   & south & johnson & 4 & 1\\\\\n",
       "\t female & carol  & south & johnson & 3 & 5\\\\\n",
       "\t male   & greg   & south & johnson & 2 & 2\\\\\n",
       "\t female & marcia & south & johnson & 4 & 4\\\\\n",
       "\t male   & peter  & north & smith   & 3 & 5\\\\\n",
       "\t female & jan    & north & smith   & 4 & 4\\\\\n",
       "\t male   & bobby  & north & smith   & 5 & 1\\\\\n",
       "\t female & cindy  & south & perry   & 4 & 5\\\\\n",
       "\t female & alice  & south & perry   & 5 & 4\\\\\n",
       "\\end{tabular}\n"
      ],
      "text/markdown": [
       "\n",
       "A tibble: 9 × 6\n",
       "\n",
       "| sex &lt;chr&gt; | name &lt;chr&gt; | school &lt;chr&gt; | teacher &lt;chr&gt; | math_score &lt;dbl&gt; | reading_score &lt;dbl&gt; |\n",
       "|---|---|---|---|---|---|\n",
       "| male   | mike   | south | johnson | 4 | 1 |\n",
       "| female | carol  | south | johnson | 3 | 5 |\n",
       "| male   | greg   | south | johnson | 2 | 2 |\n",
       "| female | marcia | south | johnson | 4 | 4 |\n",
       "| male   | peter  | north | smith   | 3 | 5 |\n",
       "| female | jan    | north | smith   | 4 | 4 |\n",
       "| male   | bobby  | north | smith   | 5 | 1 |\n",
       "| female | cindy  | south | perry   | 4 | 5 |\n",
       "| female | alice  | south | perry   | 5 | 4 |\n",
       "\n"
      ],
      "text/plain": [
       "  sex    name   school teacher math_score reading_score\n",
       "1 male   mike   south  johnson 4          1            \n",
       "2 female carol  south  johnson 3          5            \n",
       "3 male   greg   south  johnson 2          2            \n",
       "4 female marcia south  johnson 4          4            \n",
       "5 male   peter  north  smith   3          5            \n",
       "6 female jan    north  smith   4          4            \n",
       "7 male   bobby  north  smith   5          1            \n",
       "8 female cindy  south  perry   4          5            \n",
       "9 female alice  south  perry   5          4            "
      ]
     },
     "metadata": {},
     "output_type": "display_data"
    }
   ],
   "source": [
    "scores %>% \n",
    "  select(sex, everything())"
   ]
  },
  {
   "cell_type": "markdown",
   "id": "5c774d8e-435e-40ab-a282-f51f1e99843a",
   "metadata": {
    "slideshow": {
     "slide_type": "slide"
    },
    "tags": []
   },
   "source": [
    "# Part 3: Filter"
   ]
  },
  {
   "cell_type": "markdown",
   "id": "51a21a92-2c03-4a19-8950-058c84502f39",
   "metadata": {
    "slideshow": {
     "slide_type": "slide"
    },
    "tags": []
   },
   "source": [
    "# Exercise 11.13\n",
    "\n",
    "Filter by students who are `male` and went to `south`."
   ]
  },
  {
   "cell_type": "markdown",
   "id": "91510664-35a9-4f4b-adf1-63d0184e73a1",
   "metadata": {
    "slideshow": {
     "slide_type": "subslide"
    },
    "tags": []
   },
   "source": [
    "**Option 1**"
   ]
  },
  {
   "cell_type": "code",
   "execution_count": 18,
   "id": "e9dd98a3-282f-4fb7-820e-9e3a4d8a00dd",
   "metadata": {
    "jp-MarkdownHeadingCollapsed": true,
    "slideshow": {
     "slide_type": "-"
    },
    "tags": [],
    "vscode": {
     "languageId": "r"
    }
   },
   "outputs": [
    {
     "data": {
      "text/html": [
       "<table class=\"dataframe\">\n",
       "<caption>A tibble: 2 × 6</caption>\n",
       "<thead>\n",
       "\t<tr><th scope=col>name</th><th scope=col>school</th><th scope=col>teacher</th><th scope=col>sex</th><th scope=col>math_score</th><th scope=col>reading_score</th></tr>\n",
       "\t<tr><th scope=col>&lt;chr&gt;</th><th scope=col>&lt;chr&gt;</th><th scope=col>&lt;chr&gt;</th><th scope=col>&lt;chr&gt;</th><th scope=col>&lt;dbl&gt;</th><th scope=col>&lt;dbl&gt;</th></tr>\n",
       "</thead>\n",
       "<tbody>\n",
       "\t<tr><td>mike</td><td>south</td><td>johnson</td><td>male</td><td>4</td><td>1</td></tr>\n",
       "\t<tr><td>greg</td><td>south</td><td>johnson</td><td>male</td><td>2</td><td>2</td></tr>\n",
       "</tbody>\n",
       "</table>\n"
      ],
      "text/latex": [
       "A tibble: 2 × 6\n",
       "\\begin{tabular}{llllll}\n",
       " name & school & teacher & sex & math\\_score & reading\\_score\\\\\n",
       " <chr> & <chr> & <chr> & <chr> & <dbl> & <dbl>\\\\\n",
       "\\hline\n",
       "\t mike & south & johnson & male & 4 & 1\\\\\n",
       "\t greg & south & johnson & male & 2 & 2\\\\\n",
       "\\end{tabular}\n"
      ],
      "text/markdown": [
       "\n",
       "A tibble: 2 × 6\n",
       "\n",
       "| name &lt;chr&gt; | school &lt;chr&gt; | teacher &lt;chr&gt; | sex &lt;chr&gt; | math_score &lt;dbl&gt; | reading_score &lt;dbl&gt; |\n",
       "|---|---|---|---|---|---|\n",
       "| mike | south | johnson | male | 4 | 1 |\n",
       "| greg | south | johnson | male | 2 | 2 |\n",
       "\n"
      ],
      "text/plain": [
       "  name school teacher sex  math_score reading_score\n",
       "1 mike south  johnson male 4          1            \n",
       "2 greg south  johnson male 2          2            "
      ]
     },
     "metadata": {},
     "output_type": "display_data"
    }
   ],
   "source": [
    "scores %>% \n",
    "  filter(sex == \"male\" & school == \"south\")"
   ]
  },
  {
   "cell_type": "markdown",
   "id": "b2498cf4-5105-4a76-9f55-b0696fe66504",
   "metadata": {
    "slideshow": {
     "slide_type": "subslide"
    },
    "tags": []
   },
   "source": [
    "**Option 2**\n",
    "\n",
    "Using a comma `,` instead of `&`."
   ]
  },
  {
   "cell_type": "code",
   "execution_count": 19,
   "id": "3c692575-43bd-4710-b973-b6e638321b19",
   "metadata": {
    "jp-MarkdownHeadingCollapsed": true,
    "slideshow": {
     "slide_type": "-"
    },
    "tags": [],
    "vscode": {
     "languageId": "r"
    }
   },
   "outputs": [
    {
     "data": {
      "text/html": [
       "<table class=\"dataframe\">\n",
       "<caption>A tibble: 2 × 6</caption>\n",
       "<thead>\n",
       "\t<tr><th scope=col>name</th><th scope=col>school</th><th scope=col>teacher</th><th scope=col>sex</th><th scope=col>math_score</th><th scope=col>reading_score</th></tr>\n",
       "\t<tr><th scope=col>&lt;chr&gt;</th><th scope=col>&lt;chr&gt;</th><th scope=col>&lt;chr&gt;</th><th scope=col>&lt;chr&gt;</th><th scope=col>&lt;dbl&gt;</th><th scope=col>&lt;dbl&gt;</th></tr>\n",
       "</thead>\n",
       "<tbody>\n",
       "\t<tr><td>mike</td><td>south</td><td>johnson</td><td>male</td><td>4</td><td>1</td></tr>\n",
       "\t<tr><td>greg</td><td>south</td><td>johnson</td><td>male</td><td>2</td><td>2</td></tr>\n",
       "</tbody>\n",
       "</table>\n"
      ],
      "text/latex": [
       "A tibble: 2 × 6\n",
       "\\begin{tabular}{llllll}\n",
       " name & school & teacher & sex & math\\_score & reading\\_score\\\\\n",
       " <chr> & <chr> & <chr> & <chr> & <dbl> & <dbl>\\\\\n",
       "\\hline\n",
       "\t mike & south & johnson & male & 4 & 1\\\\\n",
       "\t greg & south & johnson & male & 2 & 2\\\\\n",
       "\\end{tabular}\n"
      ],
      "text/markdown": [
       "\n",
       "A tibble: 2 × 6\n",
       "\n",
       "| name &lt;chr&gt; | school &lt;chr&gt; | teacher &lt;chr&gt; | sex &lt;chr&gt; | math_score &lt;dbl&gt; | reading_score &lt;dbl&gt; |\n",
       "|---|---|---|---|---|---|\n",
       "| mike | south | johnson | male | 4 | 1 |\n",
       "| greg | south | johnson | male | 2 | 2 |\n",
       "\n"
      ],
      "text/plain": [
       "  name school teacher sex  math_score reading_score\n",
       "1 mike south  johnson male 4          1            \n",
       "2 greg south  johnson male 2          2            "
      ]
     },
     "metadata": {},
     "output_type": "display_data"
    }
   ],
   "source": [
    "scores %>% \n",
    "  filter(sex == \"male\", school == \"south\")"
   ]
  },
  {
   "cell_type": "markdown",
   "id": "7629b622-09d7-4657-9c72-ebb2ddbb6cac",
   "metadata": {
    "slideshow": {
     "slide_type": "slide"
    },
    "tags": []
   },
   "source": [
    "# Exercise 11.14\n",
    "\n",
    "Filter by students who did above average in math."
   ]
  },
  {
   "cell_type": "code",
   "execution_count": 20,
   "id": "b11a13f5-54b2-47c3-8c85-203f5f242bf0",
   "metadata": {
    "slideshow": {
     "slide_type": "subslide"
    },
    "tags": [],
    "vscode": {
     "languageId": "r"
    }
   },
   "outputs": [
    {
     "data": {
      "text/html": [
       "<table class=\"dataframe\">\n",
       "<caption>A tibble: 6 × 6</caption>\n",
       "<thead>\n",
       "\t<tr><th scope=col>name</th><th scope=col>school</th><th scope=col>teacher</th><th scope=col>sex</th><th scope=col>math_score</th><th scope=col>reading_score</th></tr>\n",
       "\t<tr><th scope=col>&lt;chr&gt;</th><th scope=col>&lt;chr&gt;</th><th scope=col>&lt;chr&gt;</th><th scope=col>&lt;chr&gt;</th><th scope=col>&lt;dbl&gt;</th><th scope=col>&lt;dbl&gt;</th></tr>\n",
       "</thead>\n",
       "<tbody>\n",
       "\t<tr><td>mike  </td><td>south</td><td>johnson</td><td>male  </td><td>4</td><td>1</td></tr>\n",
       "\t<tr><td>marcia</td><td>south</td><td>johnson</td><td>female</td><td>4</td><td>4</td></tr>\n",
       "\t<tr><td>jan   </td><td>north</td><td>smith  </td><td>female</td><td>4</td><td>4</td></tr>\n",
       "\t<tr><td>bobby </td><td>north</td><td>smith  </td><td>male  </td><td>5</td><td>1</td></tr>\n",
       "\t<tr><td>cindy </td><td>south</td><td>perry  </td><td>female</td><td>4</td><td>5</td></tr>\n",
       "\t<tr><td>alice </td><td>south</td><td>perry  </td><td>female</td><td>5</td><td>4</td></tr>\n",
       "</tbody>\n",
       "</table>\n"
      ],
      "text/latex": [
       "A tibble: 6 × 6\n",
       "\\begin{tabular}{llllll}\n",
       " name & school & teacher & sex & math\\_score & reading\\_score\\\\\n",
       " <chr> & <chr> & <chr> & <chr> & <dbl> & <dbl>\\\\\n",
       "\\hline\n",
       "\t mike   & south & johnson & male   & 4 & 1\\\\\n",
       "\t marcia & south & johnson & female & 4 & 4\\\\\n",
       "\t jan    & north & smith   & female & 4 & 4\\\\\n",
       "\t bobby  & north & smith   & male   & 5 & 1\\\\\n",
       "\t cindy  & south & perry   & female & 4 & 5\\\\\n",
       "\t alice  & south & perry   & female & 5 & 4\\\\\n",
       "\\end{tabular}\n"
      ],
      "text/markdown": [
       "\n",
       "A tibble: 6 × 6\n",
       "\n",
       "| name &lt;chr&gt; | school &lt;chr&gt; | teacher &lt;chr&gt; | sex &lt;chr&gt; | math_score &lt;dbl&gt; | reading_score &lt;dbl&gt; |\n",
       "|---|---|---|---|---|---|\n",
       "| mike   | south | johnson | male   | 4 | 1 |\n",
       "| marcia | south | johnson | female | 4 | 4 |\n",
       "| jan    | north | smith   | female | 4 | 4 |\n",
       "| bobby  | north | smith   | male   | 5 | 1 |\n",
       "| cindy  | south | perry   | female | 4 | 5 |\n",
       "| alice  | south | perry   | female | 5 | 4 |\n",
       "\n"
      ],
      "text/plain": [
       "  name   school teacher sex    math_score reading_score\n",
       "1 mike   south  johnson male   4          1            \n",
       "2 marcia south  johnson female 4          4            \n",
       "3 jan    north  smith   female 4          4            \n",
       "4 bobby  north  smith   male   5          1            \n",
       "5 cindy  south  perry   female 4          5            \n",
       "6 alice  south  perry   female 5          4            "
      ]
     },
     "metadata": {},
     "output_type": "display_data"
    }
   ],
   "source": [
    "scores %>%\n",
    "    filter(math_score > mean(math_score))"
   ]
  },
  {
   "cell_type": "markdown",
   "id": "43c3d3db-a153-4296-a5f0-7684ec86758e",
   "metadata": {
    "slideshow": {
     "slide_type": "slide"
    },
    "tags": []
   },
   "source": [
    "# Exercise 11.15\n",
    "\n",
    "Use `filter()` to figure out how many students had a math\n",
    "score of $4$ or more and a reading score of $3$ or more."
   ]
  },
  {
   "cell_type": "code",
   "execution_count": 21,
   "id": "e97e345f-69c2-4f0c-a32d-519bcdc312ee",
   "metadata": {
    "slideshow": {
     "slide_type": "subslide"
    },
    "tags": [],
    "vscode": {
     "languageId": "r"
    }
   },
   "outputs": [
    {
     "data": {
      "text/html": [
       "<table class=\"dataframe\">\n",
       "<caption>A tibble: 4 × 6</caption>\n",
       "<thead>\n",
       "\t<tr><th scope=col>name</th><th scope=col>school</th><th scope=col>teacher</th><th scope=col>sex</th><th scope=col>math_score</th><th scope=col>reading_score</th></tr>\n",
       "\t<tr><th scope=col>&lt;chr&gt;</th><th scope=col>&lt;chr&gt;</th><th scope=col>&lt;chr&gt;</th><th scope=col>&lt;chr&gt;</th><th scope=col>&lt;dbl&gt;</th><th scope=col>&lt;dbl&gt;</th></tr>\n",
       "</thead>\n",
       "<tbody>\n",
       "\t<tr><td>marcia</td><td>south</td><td>johnson</td><td>female</td><td>4</td><td>4</td></tr>\n",
       "\t<tr><td>jan   </td><td>north</td><td>smith  </td><td>female</td><td>4</td><td>4</td></tr>\n",
       "\t<tr><td>cindy </td><td>south</td><td>perry  </td><td>female</td><td>4</td><td>5</td></tr>\n",
       "\t<tr><td>alice </td><td>south</td><td>perry  </td><td>female</td><td>5</td><td>4</td></tr>\n",
       "</tbody>\n",
       "</table>\n"
      ],
      "text/latex": [
       "A tibble: 4 × 6\n",
       "\\begin{tabular}{llllll}\n",
       " name & school & teacher & sex & math\\_score & reading\\_score\\\\\n",
       " <chr> & <chr> & <chr> & <chr> & <dbl> & <dbl>\\\\\n",
       "\\hline\n",
       "\t marcia & south & johnson & female & 4 & 4\\\\\n",
       "\t jan    & north & smith   & female & 4 & 4\\\\\n",
       "\t cindy  & south & perry   & female & 4 & 5\\\\\n",
       "\t alice  & south & perry   & female & 5 & 4\\\\\n",
       "\\end{tabular}\n"
      ],
      "text/markdown": [
       "\n",
       "A tibble: 4 × 6\n",
       "\n",
       "| name &lt;chr&gt; | school &lt;chr&gt; | teacher &lt;chr&gt; | sex &lt;chr&gt; | math_score &lt;dbl&gt; | reading_score &lt;dbl&gt; |\n",
       "|---|---|---|---|---|---|\n",
       "| marcia | south | johnson | female | 4 | 4 |\n",
       "| jan    | north | smith   | female | 4 | 4 |\n",
       "| cindy  | south | perry   | female | 4 | 5 |\n",
       "| alice  | south | perry   | female | 5 | 4 |\n",
       "\n"
      ],
      "text/plain": [
       "  name   school teacher sex    math_score reading_score\n",
       "1 marcia south  johnson female 4          4            \n",
       "2 jan    north  smith   female 4          4            \n",
       "3 cindy  south  perry   female 4          5            \n",
       "4 alice  south  perry   female 5          4            "
      ]
     },
     "metadata": {},
     "output_type": "display_data"
    }
   ],
   "source": [
    "scores %>%\n",
    "    filter(math_score >= 4 & reading_score >= 3)"
   ]
  },
  {
   "cell_type": "markdown",
   "id": "c2009075-386e-46ba-9096-e0310d00b093",
   "metadata": {
    "slideshow": {
     "slide_type": "slide"
    },
    "tags": []
   },
   "source": [
    "# Exercise 11.16\n",
    "\n",
    "Filter by students who got a $3$ or worse in either math or reading."
   ]
  },
  {
   "cell_type": "code",
   "execution_count": 22,
   "id": "3ff33aea-0f18-4873-bef0-833845f9728e",
   "metadata": {
    "slideshow": {
     "slide_type": "subslide"
    },
    "tags": [],
    "vscode": {
     "languageId": "r"
    }
   },
   "outputs": [
    {
     "data": {
      "text/html": [
       "<table class=\"dataframe\">\n",
       "<caption>A tibble: 5 × 6</caption>\n",
       "<thead>\n",
       "\t<tr><th scope=col>name</th><th scope=col>school</th><th scope=col>teacher</th><th scope=col>sex</th><th scope=col>math_score</th><th scope=col>reading_score</th></tr>\n",
       "\t<tr><th scope=col>&lt;chr&gt;</th><th scope=col>&lt;chr&gt;</th><th scope=col>&lt;chr&gt;</th><th scope=col>&lt;chr&gt;</th><th scope=col>&lt;dbl&gt;</th><th scope=col>&lt;dbl&gt;</th></tr>\n",
       "</thead>\n",
       "<tbody>\n",
       "\t<tr><td>mike </td><td>south</td><td>johnson</td><td>male  </td><td>4</td><td>1</td></tr>\n",
       "\t<tr><td>carol</td><td>south</td><td>johnson</td><td>female</td><td>3</td><td>5</td></tr>\n",
       "\t<tr><td>greg </td><td>south</td><td>johnson</td><td>male  </td><td>2</td><td>2</td></tr>\n",
       "\t<tr><td>peter</td><td>north</td><td>smith  </td><td>male  </td><td>3</td><td>5</td></tr>\n",
       "\t<tr><td>bobby</td><td>north</td><td>smith  </td><td>male  </td><td>5</td><td>1</td></tr>\n",
       "</tbody>\n",
       "</table>\n"
      ],
      "text/latex": [
       "A tibble: 5 × 6\n",
       "\\begin{tabular}{llllll}\n",
       " name & school & teacher & sex & math\\_score & reading\\_score\\\\\n",
       " <chr> & <chr> & <chr> & <chr> & <dbl> & <dbl>\\\\\n",
       "\\hline\n",
       "\t mike  & south & johnson & male   & 4 & 1\\\\\n",
       "\t carol & south & johnson & female & 3 & 5\\\\\n",
       "\t greg  & south & johnson & male   & 2 & 2\\\\\n",
       "\t peter & north & smith   & male   & 3 & 5\\\\\n",
       "\t bobby & north & smith   & male   & 5 & 1\\\\\n",
       "\\end{tabular}\n"
      ],
      "text/markdown": [
       "\n",
       "A tibble: 5 × 6\n",
       "\n",
       "| name &lt;chr&gt; | school &lt;chr&gt; | teacher &lt;chr&gt; | sex &lt;chr&gt; | math_score &lt;dbl&gt; | reading_score &lt;dbl&gt; |\n",
       "|---|---|---|---|---|---|\n",
       "| mike  | south | johnson | male   | 4 | 1 |\n",
       "| carol | south | johnson | female | 3 | 5 |\n",
       "| greg  | south | johnson | male   | 2 | 2 |\n",
       "| peter | north | smith   | male   | 3 | 5 |\n",
       "| bobby | north | smith   | male   | 5 | 1 |\n",
       "\n"
      ],
      "text/plain": [
       "  name  school teacher sex    math_score reading_score\n",
       "1 mike  south  johnson male   4          1            \n",
       "2 carol south  johnson female 3          5            \n",
       "3 greg  south  johnson male   2          2            \n",
       "4 peter north  smith   male   3          5            \n",
       "5 bobby north  smith   male   5          1            "
      ]
     },
     "metadata": {},
     "output_type": "display_data"
    }
   ],
   "source": [
    "scores %>%\n",
    "    filter(math_score <= 3 | reading_score <= 3)"
   ]
  },
  {
   "cell_type": "markdown",
   "id": "e3e82fc9-16ff-417e-b6da-33965f588655",
   "metadata": {
    "slideshow": {
     "slide_type": "slide"
    },
    "tags": []
   },
   "source": [
    "# Exercise 11.17\n",
    "\n",
    "Filter by students who got a reading score of $2$, $3$, or $4$."
   ]
  },
  {
   "cell_type": "code",
   "execution_count": 23,
   "id": "f2677678-2760-45cd-9723-a0737b500ef9",
   "metadata": {
    "slideshow": {
     "slide_type": "subslide"
    },
    "tags": [],
    "vscode": {
     "languageId": "r"
    }
   },
   "outputs": [
    {
     "data": {
      "text/html": [
       "<table class=\"dataframe\">\n",
       "<caption>A tibble: 4 × 6</caption>\n",
       "<thead>\n",
       "\t<tr><th scope=col>name</th><th scope=col>school</th><th scope=col>teacher</th><th scope=col>sex</th><th scope=col>math_score</th><th scope=col>reading_score</th></tr>\n",
       "\t<tr><th scope=col>&lt;chr&gt;</th><th scope=col>&lt;chr&gt;</th><th scope=col>&lt;chr&gt;</th><th scope=col>&lt;chr&gt;</th><th scope=col>&lt;dbl&gt;</th><th scope=col>&lt;dbl&gt;</th></tr>\n",
       "</thead>\n",
       "<tbody>\n",
       "\t<tr><td>greg  </td><td>south</td><td>johnson</td><td>male  </td><td>2</td><td>2</td></tr>\n",
       "\t<tr><td>marcia</td><td>south</td><td>johnson</td><td>female</td><td>4</td><td>4</td></tr>\n",
       "\t<tr><td>jan   </td><td>north</td><td>smith  </td><td>female</td><td>4</td><td>4</td></tr>\n",
       "\t<tr><td>alice </td><td>south</td><td>perry  </td><td>female</td><td>5</td><td>4</td></tr>\n",
       "</tbody>\n",
       "</table>\n"
      ],
      "text/latex": [
       "A tibble: 4 × 6\n",
       "\\begin{tabular}{llllll}\n",
       " name & school & teacher & sex & math\\_score & reading\\_score\\\\\n",
       " <chr> & <chr> & <chr> & <chr> & <dbl> & <dbl>\\\\\n",
       "\\hline\n",
       "\t greg   & south & johnson & male   & 2 & 2\\\\\n",
       "\t marcia & south & johnson & female & 4 & 4\\\\\n",
       "\t jan    & north & smith   & female & 4 & 4\\\\\n",
       "\t alice  & south & perry   & female & 5 & 4\\\\\n",
       "\\end{tabular}\n"
      ],
      "text/markdown": [
       "\n",
       "A tibble: 4 × 6\n",
       "\n",
       "| name &lt;chr&gt; | school &lt;chr&gt; | teacher &lt;chr&gt; | sex &lt;chr&gt; | math_score &lt;dbl&gt; | reading_score &lt;dbl&gt; |\n",
       "|---|---|---|---|---|---|\n",
       "| greg   | south | johnson | male   | 2 | 2 |\n",
       "| marcia | south | johnson | female | 4 | 4 |\n",
       "| jan    | north | smith   | female | 4 | 4 |\n",
       "| alice  | south | perry   | female | 5 | 4 |\n",
       "\n"
      ],
      "text/plain": [
       "  name   school teacher sex    math_score reading_score\n",
       "1 greg   south  johnson male   2          2            \n",
       "2 marcia south  johnson female 4          4            \n",
       "3 jan    north  smith   female 4          4            \n",
       "4 alice  south  perry   female 5          4            "
      ]
     },
     "metadata": {},
     "output_type": "display_data"
    }
   ],
   "source": [
    "scores %>%\n",
    "    filter(reading_score == 2 | reading_score == 3 | reading_score == 4)"
   ]
  },
  {
   "cell_type": "code",
   "execution_count": 24,
   "id": "5ce6b37f-eef1-43cf-acca-31eb1b1972d8",
   "metadata": {
    "slideshow": {
     "slide_type": "subslide"
    },
    "tags": [],
    "vscode": {
     "languageId": "r"
    }
   },
   "outputs": [
    {
     "data": {
      "text/html": [
       "<table class=\"dataframe\">\n",
       "<caption>A tibble: 4 × 6</caption>\n",
       "<thead>\n",
       "\t<tr><th scope=col>name</th><th scope=col>school</th><th scope=col>teacher</th><th scope=col>sex</th><th scope=col>math_score</th><th scope=col>reading_score</th></tr>\n",
       "\t<tr><th scope=col>&lt;chr&gt;</th><th scope=col>&lt;chr&gt;</th><th scope=col>&lt;chr&gt;</th><th scope=col>&lt;chr&gt;</th><th scope=col>&lt;dbl&gt;</th><th scope=col>&lt;dbl&gt;</th></tr>\n",
       "</thead>\n",
       "<tbody>\n",
       "\t<tr><td>greg  </td><td>south</td><td>johnson</td><td>male  </td><td>2</td><td>2</td></tr>\n",
       "\t<tr><td>marcia</td><td>south</td><td>johnson</td><td>female</td><td>4</td><td>4</td></tr>\n",
       "\t<tr><td>jan   </td><td>north</td><td>smith  </td><td>female</td><td>4</td><td>4</td></tr>\n",
       "\t<tr><td>alice </td><td>south</td><td>perry  </td><td>female</td><td>5</td><td>4</td></tr>\n",
       "</tbody>\n",
       "</table>\n"
      ],
      "text/latex": [
       "A tibble: 4 × 6\n",
       "\\begin{tabular}{llllll}\n",
       " name & school & teacher & sex & math\\_score & reading\\_score\\\\\n",
       " <chr> & <chr> & <chr> & <chr> & <dbl> & <dbl>\\\\\n",
       "\\hline\n",
       "\t greg   & south & johnson & male   & 2 & 2\\\\\n",
       "\t marcia & south & johnson & female & 4 & 4\\\\\n",
       "\t jan    & north & smith   & female & 4 & 4\\\\\n",
       "\t alice  & south & perry   & female & 5 & 4\\\\\n",
       "\\end{tabular}\n"
      ],
      "text/markdown": [
       "\n",
       "A tibble: 4 × 6\n",
       "\n",
       "| name &lt;chr&gt; | school &lt;chr&gt; | teacher &lt;chr&gt; | sex &lt;chr&gt; | math_score &lt;dbl&gt; | reading_score &lt;dbl&gt; |\n",
       "|---|---|---|---|---|---|\n",
       "| greg   | south | johnson | male   | 2 | 2 |\n",
       "| marcia | south | johnson | female | 4 | 4 |\n",
       "| jan    | north | smith   | female | 4 | 4 |\n",
       "| alice  | south | perry   | female | 5 | 4 |\n",
       "\n"
      ],
      "text/plain": [
       "  name   school teacher sex    math_score reading_score\n",
       "1 greg   south  johnson male   2          2            \n",
       "2 marcia south  johnson female 4          4            \n",
       "3 jan    north  smith   female 4          4            \n",
       "4 alice  south  perry   female 5          4            "
      ]
     },
     "metadata": {},
     "output_type": "display_data"
    }
   ],
   "source": [
    "scores %>%\n",
    "    filter(reading_score >= 2 & reading_score <= 4)"
   ]
  },
  {
   "cell_type": "code",
   "execution_count": 25,
   "id": "b514302d-a15b-4d50-b222-787caa2eeb10",
   "metadata": {
    "slideshow": {
     "slide_type": "subslide"
    },
    "tags": [],
    "vscode": {
     "languageId": "r"
    }
   },
   "outputs": [
    {
     "data": {
      "text/html": [
       "<table class=\"dataframe\">\n",
       "<caption>A tibble: 4 × 6</caption>\n",
       "<thead>\n",
       "\t<tr><th scope=col>name</th><th scope=col>school</th><th scope=col>teacher</th><th scope=col>sex</th><th scope=col>math_score</th><th scope=col>reading_score</th></tr>\n",
       "\t<tr><th scope=col>&lt;chr&gt;</th><th scope=col>&lt;chr&gt;</th><th scope=col>&lt;chr&gt;</th><th scope=col>&lt;chr&gt;</th><th scope=col>&lt;dbl&gt;</th><th scope=col>&lt;dbl&gt;</th></tr>\n",
       "</thead>\n",
       "<tbody>\n",
       "\t<tr><td>greg  </td><td>south</td><td>johnson</td><td>male  </td><td>2</td><td>2</td></tr>\n",
       "\t<tr><td>marcia</td><td>south</td><td>johnson</td><td>female</td><td>4</td><td>4</td></tr>\n",
       "\t<tr><td>jan   </td><td>north</td><td>smith  </td><td>female</td><td>4</td><td>4</td></tr>\n",
       "\t<tr><td>alice </td><td>south</td><td>perry  </td><td>female</td><td>5</td><td>4</td></tr>\n",
       "</tbody>\n",
       "</table>\n"
      ],
      "text/latex": [
       "A tibble: 4 × 6\n",
       "\\begin{tabular}{llllll}\n",
       " name & school & teacher & sex & math\\_score & reading\\_score\\\\\n",
       " <chr> & <chr> & <chr> & <chr> & <dbl> & <dbl>\\\\\n",
       "\\hline\n",
       "\t greg   & south & johnson & male   & 2 & 2\\\\\n",
       "\t marcia & south & johnson & female & 4 & 4\\\\\n",
       "\t jan    & north & smith   & female & 4 & 4\\\\\n",
       "\t alice  & south & perry   & female & 5 & 4\\\\\n",
       "\\end{tabular}\n"
      ],
      "text/markdown": [
       "\n",
       "A tibble: 4 × 6\n",
       "\n",
       "| name &lt;chr&gt; | school &lt;chr&gt; | teacher &lt;chr&gt; | sex &lt;chr&gt; | math_score &lt;dbl&gt; | reading_score &lt;dbl&gt; |\n",
       "|---|---|---|---|---|---|\n",
       "| greg   | south | johnson | male   | 2 | 2 |\n",
       "| marcia | south | johnson | female | 4 | 4 |\n",
       "| jan    | north | smith   | female | 4 | 4 |\n",
       "| alice  | south | perry   | female | 5 | 4 |\n",
       "\n"
      ],
      "text/plain": [
       "  name   school teacher sex    math_score reading_score\n",
       "1 greg   south  johnson male   2          2            \n",
       "2 marcia south  johnson female 4          4            \n",
       "3 jan    north  smith   female 4          4            \n",
       "4 alice  south  perry   female 5          4            "
      ]
     },
     "metadata": {},
     "output_type": "display_data"
    }
   ],
   "source": [
    "scores %>%\n",
    "    filter(reading_score %in% 2:4)"
   ]
  },
  {
   "cell_type": "markdown",
   "id": "90b0802f-ab81-4223-92a7-00fd462de73c",
   "metadata": {
    "slideshow": {
     "slide_type": "slide"
    },
    "tags": []
   },
   "source": [
    "# Exercise 11.18\n",
    "\n",
    "Filter by students who have a name that starts with `'m'`. \n",
    "\n",
    "Hint: type `?substr` in the console and then scroll to the bottom\n",
    "of the help file to see useful examples."
   ]
  },
  {
   "cell_type": "code",
   "execution_count": 26,
   "id": "1c329dc6-fcfb-4945-bc27-858320f5ffea",
   "metadata": {
    "slideshow": {
     "slide_type": "subslide"
    },
    "tags": [],
    "vscode": {
     "languageId": "r"
    }
   },
   "outputs": [],
   "source": [
    "# ?substr"
   ]
  },
  {
   "cell_type": "code",
   "execution_count": 27,
   "id": "29cd1501-36fd-46b1-80d0-dcee98464bbe",
   "metadata": {
    "slideshow": {
     "slide_type": "subslide"
    },
    "tags": [],
    "vscode": {
     "languageId": "r"
    }
   },
   "outputs": [
    {
     "data": {
      "text/html": [
       "<table class=\"dataframe\">\n",
       "<caption>A tibble: 2 × 6</caption>\n",
       "<thead>\n",
       "\t<tr><th scope=col>name</th><th scope=col>school</th><th scope=col>teacher</th><th scope=col>sex</th><th scope=col>math_score</th><th scope=col>reading_score</th></tr>\n",
       "\t<tr><th scope=col>&lt;chr&gt;</th><th scope=col>&lt;chr&gt;</th><th scope=col>&lt;chr&gt;</th><th scope=col>&lt;chr&gt;</th><th scope=col>&lt;dbl&gt;</th><th scope=col>&lt;dbl&gt;</th></tr>\n",
       "</thead>\n",
       "<tbody>\n",
       "\t<tr><td>mike  </td><td>south</td><td>johnson</td><td>male  </td><td>4</td><td>1</td></tr>\n",
       "\t<tr><td>marcia</td><td>south</td><td>johnson</td><td>female</td><td>4</td><td>4</td></tr>\n",
       "</tbody>\n",
       "</table>\n"
      ],
      "text/latex": [
       "A tibble: 2 × 6\n",
       "\\begin{tabular}{llllll}\n",
       " name & school & teacher & sex & math\\_score & reading\\_score\\\\\n",
       " <chr> & <chr> & <chr> & <chr> & <dbl> & <dbl>\\\\\n",
       "\\hline\n",
       "\t mike   & south & johnson & male   & 4 & 1\\\\\n",
       "\t marcia & south & johnson & female & 4 & 4\\\\\n",
       "\\end{tabular}\n"
      ],
      "text/markdown": [
       "\n",
       "A tibble: 2 × 6\n",
       "\n",
       "| name &lt;chr&gt; | school &lt;chr&gt; | teacher &lt;chr&gt; | sex &lt;chr&gt; | math_score &lt;dbl&gt; | reading_score &lt;dbl&gt; |\n",
       "|---|---|---|---|---|---|\n",
       "| mike   | south | johnson | male   | 4 | 1 |\n",
       "| marcia | south | johnson | female | 4 | 4 |\n",
       "\n"
      ],
      "text/plain": [
       "  name   school teacher sex    math_score reading_score\n",
       "1 mike   south  johnson male   4          1            \n",
       "2 marcia south  johnson female 4          4            "
      ]
     },
     "metadata": {},
     "output_type": "display_data"
    }
   ],
   "source": [
    "scores %>%\n",
    "    filter(substr(name, 1, 1) == 'm')"
   ]
  },
  {
   "cell_type": "markdown",
   "id": "4da78105-5807-4e67-a8b6-bc87462ef76f",
   "metadata": {
    "slideshow": {
     "slide_type": "slide"
    },
    "tags": []
   },
   "source": [
    "# Part 4: Filter with groups"
   ]
  },
  {
   "cell_type": "markdown",
   "id": "dd72dd87-a1b7-4e9d-b9e6-82771df2d535",
   "metadata": {
    "slideshow": {
     "slide_type": "slide"
    },
    "tags": []
   },
   "source": [
    "# Exercise 11.19\n",
    "\n",
    "Filter to teachers whose best math student got a score of $5$."
   ]
  },
  {
   "cell_type": "code",
   "execution_count": 28,
   "id": "e276c13f",
   "metadata": {
    "slideshow": {
     "slide_type": "subslide"
    },
    "tags": []
   },
   "outputs": [
    {
     "data": {
      "text/html": [
       "<table class=\"dataframe\">\n",
       "<caption>A grouped_df: 5 × 6</caption>\n",
       "<thead>\n",
       "\t<tr><th scope=col>name</th><th scope=col>school</th><th scope=col>teacher</th><th scope=col>sex</th><th scope=col>math_score</th><th scope=col>reading_score</th></tr>\n",
       "\t<tr><th scope=col>&lt;chr&gt;</th><th scope=col>&lt;chr&gt;</th><th scope=col>&lt;chr&gt;</th><th scope=col>&lt;chr&gt;</th><th scope=col>&lt;dbl&gt;</th><th scope=col>&lt;dbl&gt;</th></tr>\n",
       "</thead>\n",
       "<tbody>\n",
       "\t<tr><td>peter</td><td>north</td><td>smith</td><td>male  </td><td>3</td><td>5</td></tr>\n",
       "\t<tr><td>jan  </td><td>north</td><td>smith</td><td>female</td><td>4</td><td>4</td></tr>\n",
       "\t<tr><td>bobby</td><td>north</td><td>smith</td><td>male  </td><td>5</td><td>1</td></tr>\n",
       "\t<tr><td>cindy</td><td>south</td><td>perry</td><td>female</td><td>4</td><td>5</td></tr>\n",
       "\t<tr><td>alice</td><td>south</td><td>perry</td><td>female</td><td>5</td><td>4</td></tr>\n",
       "</tbody>\n",
       "</table>\n"
      ],
      "text/latex": [
       "A grouped\\_df: 5 × 6\n",
       "\\begin{tabular}{llllll}\n",
       " name & school & teacher & sex & math\\_score & reading\\_score\\\\\n",
       " <chr> & <chr> & <chr> & <chr> & <dbl> & <dbl>\\\\\n",
       "\\hline\n",
       "\t peter & north & smith & male   & 3 & 5\\\\\n",
       "\t jan   & north & smith & female & 4 & 4\\\\\n",
       "\t bobby & north & smith & male   & 5 & 1\\\\\n",
       "\t cindy & south & perry & female & 4 & 5\\\\\n",
       "\t alice & south & perry & female & 5 & 4\\\\\n",
       "\\end{tabular}\n"
      ],
      "text/markdown": [
       "\n",
       "A grouped_df: 5 × 6\n",
       "\n",
       "| name &lt;chr&gt; | school &lt;chr&gt; | teacher &lt;chr&gt; | sex &lt;chr&gt; | math_score &lt;dbl&gt; | reading_score &lt;dbl&gt; |\n",
       "|---|---|---|---|---|---|\n",
       "| peter | north | smith | male   | 3 | 5 |\n",
       "| jan   | north | smith | female | 4 | 4 |\n",
       "| bobby | north | smith | male   | 5 | 1 |\n",
       "| cindy | south | perry | female | 4 | 5 |\n",
       "| alice | south | perry | female | 5 | 4 |\n",
       "\n"
      ],
      "text/plain": [
       "  name  school teacher sex    math_score reading_score\n",
       "1 peter north  smith   male   3          5            \n",
       "2 jan   north  smith   female 4          4            \n",
       "3 bobby north  smith   male   5          1            \n",
       "4 cindy south  perry   female 4          5            \n",
       "5 alice south  perry   female 5          4            "
      ]
     },
     "metadata": {},
     "output_type": "display_data"
    }
   ],
   "source": [
    "scores %>% \n",
    "  group_by(teacher) %>% \n",
    "  filter(max(math_score) == 5)"
   ]
  },
  {
   "cell_type": "markdown",
   "id": "89cd5431-deb5-4878-b16b-da85517cb574",
   "metadata": {},
   "source": [
    "Note that all students from both teachers are shown."
   ]
  },
  {
   "cell_type": "markdown",
   "id": "26c6982e-afd0-4f7c-abd2-fe87cdf54c7b",
   "metadata": {
    "slideshow": {
     "slide_type": "slide"
    },
    "tags": []
   },
   "source": [
    "# Exercise 11.20\n",
    "\n",
    "Filter to the sex with a mean math score of $4$."
   ]
  },
  {
   "cell_type": "code",
   "execution_count": 29,
   "id": "9ef1a3d5-1319-4927-931d-ead09d0b51d4",
   "metadata": {
    "jp-MarkdownHeadingCollapsed": true,
    "scrolled": true,
    "slideshow": {
     "slide_type": "subslide"
    },
    "tags": [],
    "vscode": {
     "languageId": "r"
    }
   },
   "outputs": [
    {
     "data": {
      "text/html": [
       "<table class=\"dataframe\">\n",
       "<caption>A grouped_df: 5 × 6</caption>\n",
       "<thead>\n",
       "\t<tr><th scope=col>name</th><th scope=col>school</th><th scope=col>teacher</th><th scope=col>sex</th><th scope=col>math_score</th><th scope=col>reading_score</th></tr>\n",
       "\t<tr><th scope=col>&lt;chr&gt;</th><th scope=col>&lt;chr&gt;</th><th scope=col>&lt;chr&gt;</th><th scope=col>&lt;chr&gt;</th><th scope=col>&lt;dbl&gt;</th><th scope=col>&lt;dbl&gt;</th></tr>\n",
       "</thead>\n",
       "<tbody>\n",
       "\t<tr><td>carol </td><td>south</td><td>johnson</td><td>female</td><td>3</td><td>5</td></tr>\n",
       "\t<tr><td>marcia</td><td>south</td><td>johnson</td><td>female</td><td>4</td><td>4</td></tr>\n",
       "\t<tr><td>jan   </td><td>north</td><td>smith  </td><td>female</td><td>4</td><td>4</td></tr>\n",
       "\t<tr><td>cindy </td><td>south</td><td>perry  </td><td>female</td><td>4</td><td>5</td></tr>\n",
       "\t<tr><td>alice </td><td>south</td><td>perry  </td><td>female</td><td>5</td><td>4</td></tr>\n",
       "</tbody>\n",
       "</table>\n"
      ],
      "text/latex": [
       "A grouped\\_df: 5 × 6\n",
       "\\begin{tabular}{llllll}\n",
       " name & school & teacher & sex & math\\_score & reading\\_score\\\\\n",
       " <chr> & <chr> & <chr> & <chr> & <dbl> & <dbl>\\\\\n",
       "\\hline\n",
       "\t carol  & south & johnson & female & 3 & 5\\\\\n",
       "\t marcia & south & johnson & female & 4 & 4\\\\\n",
       "\t jan    & north & smith   & female & 4 & 4\\\\\n",
       "\t cindy  & south & perry   & female & 4 & 5\\\\\n",
       "\t alice  & south & perry   & female & 5 & 4\\\\\n",
       "\\end{tabular}\n"
      ],
      "text/markdown": [
       "\n",
       "A grouped_df: 5 × 6\n",
       "\n",
       "| name &lt;chr&gt; | school &lt;chr&gt; | teacher &lt;chr&gt; | sex &lt;chr&gt; | math_score &lt;dbl&gt; | reading_score &lt;dbl&gt; |\n",
       "|---|---|---|---|---|---|\n",
       "| carol  | south | johnson | female | 3 | 5 |\n",
       "| marcia | south | johnson | female | 4 | 4 |\n",
       "| jan    | north | smith   | female | 4 | 4 |\n",
       "| cindy  | south | perry   | female | 4 | 5 |\n",
       "| alice  | south | perry   | female | 5 | 4 |\n",
       "\n"
      ],
      "text/plain": [
       "  name   school teacher sex    math_score reading_score\n",
       "1 carol  south  johnson female 3          5            \n",
       "2 marcia south  johnson female 4          4            \n",
       "3 jan    north  smith   female 4          4            \n",
       "4 cindy  south  perry   female 4          5            \n",
       "5 alice  south  perry   female 5          4            "
      ]
     },
     "metadata": {},
     "output_type": "display_data"
    }
   ],
   "source": [
    "scores %>%\n",
    "    group_by(sex) %>%\n",
    "    filter(mean(math_score) == 4)"
   ]
  },
  {
   "cell_type": "markdown",
   "id": "b2c1d0c5-9d7b-410b-af1c-82ea35e7ec3f",
   "metadata": {
    "slideshow": {
     "slide_type": "slide"
    }
   },
   "source": [
    "# Part 5: Mutate"
   ]
  },
  {
   "cell_type": "markdown",
   "id": "4d4de002-df6f-4a1f-ba78-abed9c825da2",
   "metadata": {
    "slideshow": {
     "slide_type": "slide"
    }
   },
   "source": [
    "# Exercise 11.21\n",
    "\n",
    "Set the math and reading scores to $10$ times their original values."
   ]
  },
  {
   "cell_type": "code",
   "execution_count": 30,
   "id": "bc4f345d-483c-4b9b-9a0b-3ac9e41792e6",
   "metadata": {
    "slideshow": {
     "slide_type": "subslide"
    },
    "tags": [],
    "vscode": {
     "languageId": "r"
    }
   },
   "outputs": [
    {
     "data": {
      "text/html": [
       "<table class=\"dataframe\">\n",
       "<caption>A tibble: 9 × 6</caption>\n",
       "<thead>\n",
       "\t<tr><th scope=col>name</th><th scope=col>school</th><th scope=col>teacher</th><th scope=col>sex</th><th scope=col>math_score</th><th scope=col>reading_score</th></tr>\n",
       "\t<tr><th scope=col>&lt;chr&gt;</th><th scope=col>&lt;chr&gt;</th><th scope=col>&lt;chr&gt;</th><th scope=col>&lt;chr&gt;</th><th scope=col>&lt;dbl&gt;</th><th scope=col>&lt;dbl&gt;</th></tr>\n",
       "</thead>\n",
       "<tbody>\n",
       "\t<tr><td>mike  </td><td>south</td><td>johnson</td><td>male  </td><td>40</td><td>10</td></tr>\n",
       "\t<tr><td>carol </td><td>south</td><td>johnson</td><td>female</td><td>30</td><td>50</td></tr>\n",
       "\t<tr><td>greg  </td><td>south</td><td>johnson</td><td>male  </td><td>20</td><td>20</td></tr>\n",
       "\t<tr><td>marcia</td><td>south</td><td>johnson</td><td>female</td><td>40</td><td>40</td></tr>\n",
       "\t<tr><td>peter </td><td>north</td><td>smith  </td><td>male  </td><td>30</td><td>50</td></tr>\n",
       "\t<tr><td>jan   </td><td>north</td><td>smith  </td><td>female</td><td>40</td><td>40</td></tr>\n",
       "\t<tr><td>bobby </td><td>north</td><td>smith  </td><td>male  </td><td>50</td><td>10</td></tr>\n",
       "\t<tr><td>cindy </td><td>south</td><td>perry  </td><td>female</td><td>40</td><td>50</td></tr>\n",
       "\t<tr><td>alice </td><td>south</td><td>perry  </td><td>female</td><td>50</td><td>40</td></tr>\n",
       "</tbody>\n",
       "</table>\n"
      ],
      "text/latex": [
       "A tibble: 9 × 6\n",
       "\\begin{tabular}{llllll}\n",
       " name & school & teacher & sex & math\\_score & reading\\_score\\\\\n",
       " <chr> & <chr> & <chr> & <chr> & <dbl> & <dbl>\\\\\n",
       "\\hline\n",
       "\t mike   & south & johnson & male   & 40 & 10\\\\\n",
       "\t carol  & south & johnson & female & 30 & 50\\\\\n",
       "\t greg   & south & johnson & male   & 20 & 20\\\\\n",
       "\t marcia & south & johnson & female & 40 & 40\\\\\n",
       "\t peter  & north & smith   & male   & 30 & 50\\\\\n",
       "\t jan    & north & smith   & female & 40 & 40\\\\\n",
       "\t bobby  & north & smith   & male   & 50 & 10\\\\\n",
       "\t cindy  & south & perry   & female & 40 & 50\\\\\n",
       "\t alice  & south & perry   & female & 50 & 40\\\\\n",
       "\\end{tabular}\n"
      ],
      "text/markdown": [
       "\n",
       "A tibble: 9 × 6\n",
       "\n",
       "| name &lt;chr&gt; | school &lt;chr&gt; | teacher &lt;chr&gt; | sex &lt;chr&gt; | math_score &lt;dbl&gt; | reading_score &lt;dbl&gt; |\n",
       "|---|---|---|---|---|---|\n",
       "| mike   | south | johnson | male   | 40 | 10 |\n",
       "| carol  | south | johnson | female | 30 | 50 |\n",
       "| greg   | south | johnson | male   | 20 | 20 |\n",
       "| marcia | south | johnson | female | 40 | 40 |\n",
       "| peter  | north | smith   | male   | 30 | 50 |\n",
       "| jan    | north | smith   | female | 40 | 40 |\n",
       "| bobby  | north | smith   | male   | 50 | 10 |\n",
       "| cindy  | south | perry   | female | 40 | 50 |\n",
       "| alice  | south | perry   | female | 50 | 40 |\n",
       "\n"
      ],
      "text/plain": [
       "  name   school teacher sex    math_score reading_score\n",
       "1 mike   south  johnson male   40         10           \n",
       "2 carol  south  johnson female 30         50           \n",
       "3 greg   south  johnson male   20         20           \n",
       "4 marcia south  johnson female 40         40           \n",
       "5 peter  north  smith   male   30         50           \n",
       "6 jan    north  smith   female 40         40           \n",
       "7 bobby  north  smith   male   50         10           \n",
       "8 cindy  south  perry   female 40         50           \n",
       "9 alice  south  perry   female 50         40           "
      ]
     },
     "metadata": {},
     "output_type": "display_data"
    }
   ],
   "source": [
    "scores %>% \n",
    "  mutate(\n",
    "      math_score =  math_score * 10, \n",
    "      reading_score = reading_score * 10\n",
    "  )"
   ]
  },
  {
   "cell_type": "markdown",
   "id": "b5d15314-a822-4fa4-8f12-f9fc7f2f659f",
   "metadata": {
    "slideshow": {
     "slide_type": "slide"
    },
    "tags": []
   },
   "source": [
    "# Exercise 11.22\n",
    "\n",
    "Create a new column called `math_reading_avg` which is the\n",
    "average of a student's math and reading scores.\n",
    "\n",
    "That is, combine the two scores and take their average."
   ]
  },
  {
   "cell_type": "code",
   "execution_count": 31,
   "id": "f75406a2-f071-4f47-af19-9825b883de7d",
   "metadata": {
    "slideshow": {
     "slide_type": "subslide"
    },
    "tags": [],
    "vscode": {
     "languageId": "r"
    }
   },
   "outputs": [
    {
     "data": {
      "text/html": [
       "<table class=\"dataframe\">\n",
       "<caption>A tibble: 9 × 7</caption>\n",
       "<thead>\n",
       "\t<tr><th scope=col>name</th><th scope=col>school</th><th scope=col>teacher</th><th scope=col>sex</th><th scope=col>math_score</th><th scope=col>reading_score</th><th scope=col>math_reading_avg</th></tr>\n",
       "\t<tr><th scope=col>&lt;chr&gt;</th><th scope=col>&lt;chr&gt;</th><th scope=col>&lt;chr&gt;</th><th scope=col>&lt;chr&gt;</th><th scope=col>&lt;dbl&gt;</th><th scope=col>&lt;dbl&gt;</th><th scope=col>&lt;dbl&gt;</th></tr>\n",
       "</thead>\n",
       "<tbody>\n",
       "\t<tr><td>mike  </td><td>south</td><td>johnson</td><td>male  </td><td>4</td><td>1</td><td>2.5</td></tr>\n",
       "\t<tr><td>carol </td><td>south</td><td>johnson</td><td>female</td><td>3</td><td>5</td><td>4.0</td></tr>\n",
       "\t<tr><td>greg  </td><td>south</td><td>johnson</td><td>male  </td><td>2</td><td>2</td><td>2.0</td></tr>\n",
       "\t<tr><td>marcia</td><td>south</td><td>johnson</td><td>female</td><td>4</td><td>4</td><td>4.0</td></tr>\n",
       "\t<tr><td>peter </td><td>north</td><td>smith  </td><td>male  </td><td>3</td><td>5</td><td>4.0</td></tr>\n",
       "\t<tr><td>jan   </td><td>north</td><td>smith  </td><td>female</td><td>4</td><td>4</td><td>4.0</td></tr>\n",
       "\t<tr><td>bobby </td><td>north</td><td>smith  </td><td>male  </td><td>5</td><td>1</td><td>3.0</td></tr>\n",
       "\t<tr><td>cindy </td><td>south</td><td>perry  </td><td>female</td><td>4</td><td>5</td><td>4.5</td></tr>\n",
       "\t<tr><td>alice </td><td>south</td><td>perry  </td><td>female</td><td>5</td><td>4</td><td>4.5</td></tr>\n",
       "</tbody>\n",
       "</table>\n"
      ],
      "text/latex": [
       "A tibble: 9 × 7\n",
       "\\begin{tabular}{lllllll}\n",
       " name & school & teacher & sex & math\\_score & reading\\_score & math\\_reading\\_avg\\\\\n",
       " <chr> & <chr> & <chr> & <chr> & <dbl> & <dbl> & <dbl>\\\\\n",
       "\\hline\n",
       "\t mike   & south & johnson & male   & 4 & 1 & 2.5\\\\\n",
       "\t carol  & south & johnson & female & 3 & 5 & 4.0\\\\\n",
       "\t greg   & south & johnson & male   & 2 & 2 & 2.0\\\\\n",
       "\t marcia & south & johnson & female & 4 & 4 & 4.0\\\\\n",
       "\t peter  & north & smith   & male   & 3 & 5 & 4.0\\\\\n",
       "\t jan    & north & smith   & female & 4 & 4 & 4.0\\\\\n",
       "\t bobby  & north & smith   & male   & 5 & 1 & 3.0\\\\\n",
       "\t cindy  & south & perry   & female & 4 & 5 & 4.5\\\\\n",
       "\t alice  & south & perry   & female & 5 & 4 & 4.5\\\\\n",
       "\\end{tabular}\n"
      ],
      "text/markdown": [
       "\n",
       "A tibble: 9 × 7\n",
       "\n",
       "| name &lt;chr&gt; | school &lt;chr&gt; | teacher &lt;chr&gt; | sex &lt;chr&gt; | math_score &lt;dbl&gt; | reading_score &lt;dbl&gt; | math_reading_avg &lt;dbl&gt; |\n",
       "|---|---|---|---|---|---|---|\n",
       "| mike   | south | johnson | male   | 4 | 1 | 2.5 |\n",
       "| carol  | south | johnson | female | 3 | 5 | 4.0 |\n",
       "| greg   | south | johnson | male   | 2 | 2 | 2.0 |\n",
       "| marcia | south | johnson | female | 4 | 4 | 4.0 |\n",
       "| peter  | north | smith   | male   | 3 | 5 | 4.0 |\n",
       "| jan    | north | smith   | female | 4 | 4 | 4.0 |\n",
       "| bobby  | north | smith   | male   | 5 | 1 | 3.0 |\n",
       "| cindy  | south | perry   | female | 4 | 5 | 4.5 |\n",
       "| alice  | south | perry   | female | 5 | 4 | 4.5 |\n",
       "\n"
      ],
      "text/plain": [
       "  name   school teacher sex    math_score reading_score math_reading_avg\n",
       "1 mike   south  johnson male   4          1             2.5             \n",
       "2 carol  south  johnson female 3          5             4.0             \n",
       "3 greg   south  johnson male   2          2             2.0             \n",
       "4 marcia south  johnson female 4          4             4.0             \n",
       "5 peter  north  smith   male   3          5             4.0             \n",
       "6 jan    north  smith   female 4          4             4.0             \n",
       "7 bobby  north  smith   male   5          1             3.0             \n",
       "8 cindy  south  perry   female 4          5             4.5             \n",
       "9 alice  south  perry   female 5          4             4.5             "
      ]
     },
     "metadata": {},
     "output_type": "display_data"
    }
   ],
   "source": [
    "scores %>% \n",
    "    mutate(math_reading_avg = (math_score + reading_score) / 2)"
   ]
  },
  {
   "cell_type": "markdown",
   "id": "30335ff9-27fc-4dd3-8950-7fb13bc770dd",
   "metadata": {
    "slideshow": {
     "slide_type": "slide"
    },
    "tags": []
   },
   "source": [
    "# Exercise 11.23\n",
    "\n",
    "Create a new column `high_math_achiever` that is an\n",
    "indicator of if a student got a 4 or better on their math score."
   ]
  },
  {
   "cell_type": "code",
   "execution_count": 32,
   "id": "6b80a7b3-5300-46d9-b6b6-30a395000e61",
   "metadata": {
    "slideshow": {
     "slide_type": "subslide"
    },
    "tags": [],
    "vscode": {
     "languageId": "r"
    }
   },
   "outputs": [
    {
     "data": {
      "text/html": [
       "<table class=\"dataframe\">\n",
       "<caption>A tibble: 9 × 7</caption>\n",
       "<thead>\n",
       "\t<tr><th scope=col>name</th><th scope=col>school</th><th scope=col>teacher</th><th scope=col>sex</th><th scope=col>math_score</th><th scope=col>reading_score</th><th scope=col>high_math_achiever</th></tr>\n",
       "\t<tr><th scope=col>&lt;chr&gt;</th><th scope=col>&lt;chr&gt;</th><th scope=col>&lt;chr&gt;</th><th scope=col>&lt;chr&gt;</th><th scope=col>&lt;dbl&gt;</th><th scope=col>&lt;dbl&gt;</th><th scope=col>&lt;lgl&gt;</th></tr>\n",
       "</thead>\n",
       "<tbody>\n",
       "\t<tr><td>mike  </td><td>south</td><td>johnson</td><td>male  </td><td>4</td><td>1</td><td> TRUE</td></tr>\n",
       "\t<tr><td>carol </td><td>south</td><td>johnson</td><td>female</td><td>3</td><td>5</td><td>FALSE</td></tr>\n",
       "\t<tr><td>greg  </td><td>south</td><td>johnson</td><td>male  </td><td>2</td><td>2</td><td>FALSE</td></tr>\n",
       "\t<tr><td>marcia</td><td>south</td><td>johnson</td><td>female</td><td>4</td><td>4</td><td> TRUE</td></tr>\n",
       "\t<tr><td>peter </td><td>north</td><td>smith  </td><td>male  </td><td>3</td><td>5</td><td>FALSE</td></tr>\n",
       "\t<tr><td>jan   </td><td>north</td><td>smith  </td><td>female</td><td>4</td><td>4</td><td> TRUE</td></tr>\n",
       "\t<tr><td>bobby </td><td>north</td><td>smith  </td><td>male  </td><td>5</td><td>1</td><td> TRUE</td></tr>\n",
       "\t<tr><td>cindy </td><td>south</td><td>perry  </td><td>female</td><td>4</td><td>5</td><td> TRUE</td></tr>\n",
       "\t<tr><td>alice </td><td>south</td><td>perry  </td><td>female</td><td>5</td><td>4</td><td> TRUE</td></tr>\n",
       "</tbody>\n",
       "</table>\n"
      ],
      "text/latex": [
       "A tibble: 9 × 7\n",
       "\\begin{tabular}{lllllll}\n",
       " name & school & teacher & sex & math\\_score & reading\\_score & high\\_math\\_achiever\\\\\n",
       " <chr> & <chr> & <chr> & <chr> & <dbl> & <dbl> & <lgl>\\\\\n",
       "\\hline\n",
       "\t mike   & south & johnson & male   & 4 & 1 &  TRUE\\\\\n",
       "\t carol  & south & johnson & female & 3 & 5 & FALSE\\\\\n",
       "\t greg   & south & johnson & male   & 2 & 2 & FALSE\\\\\n",
       "\t marcia & south & johnson & female & 4 & 4 &  TRUE\\\\\n",
       "\t peter  & north & smith   & male   & 3 & 5 & FALSE\\\\\n",
       "\t jan    & north & smith   & female & 4 & 4 &  TRUE\\\\\n",
       "\t bobby  & north & smith   & male   & 5 & 1 &  TRUE\\\\\n",
       "\t cindy  & south & perry   & female & 4 & 5 &  TRUE\\\\\n",
       "\t alice  & south & perry   & female & 5 & 4 &  TRUE\\\\\n",
       "\\end{tabular}\n"
      ],
      "text/markdown": [
       "\n",
       "A tibble: 9 × 7\n",
       "\n",
       "| name &lt;chr&gt; | school &lt;chr&gt; | teacher &lt;chr&gt; | sex &lt;chr&gt; | math_score &lt;dbl&gt; | reading_score &lt;dbl&gt; | high_math_achiever &lt;lgl&gt; |\n",
       "|---|---|---|---|---|---|---|\n",
       "| mike   | south | johnson | male   | 4 | 1 |  TRUE |\n",
       "| carol  | south | johnson | female | 3 | 5 | FALSE |\n",
       "| greg   | south | johnson | male   | 2 | 2 | FALSE |\n",
       "| marcia | south | johnson | female | 4 | 4 |  TRUE |\n",
       "| peter  | north | smith   | male   | 3 | 5 | FALSE |\n",
       "| jan    | north | smith   | female | 4 | 4 |  TRUE |\n",
       "| bobby  | north | smith   | male   | 5 | 1 |  TRUE |\n",
       "| cindy  | south | perry   | female | 4 | 5 |  TRUE |\n",
       "| alice  | south | perry   | female | 5 | 4 |  TRUE |\n",
       "\n"
      ],
      "text/plain": [
       "  name   school teacher sex    math_score reading_score high_math_achiever\n",
       "1 mike   south  johnson male   4          1              TRUE             \n",
       "2 carol  south  johnson female 3          5             FALSE             \n",
       "3 greg   south  johnson male   2          2             FALSE             \n",
       "4 marcia south  johnson female 4          4              TRUE             \n",
       "5 peter  north  smith   male   3          5             FALSE             \n",
       "6 jan    north  smith   female 4          4              TRUE             \n",
       "7 bobby  north  smith   male   5          1              TRUE             \n",
       "8 cindy  south  perry   female 4          5              TRUE             \n",
       "9 alice  south  perry   female 5          4              TRUE             "
      ]
     },
     "metadata": {},
     "output_type": "display_data"
    }
   ],
   "source": [
    "scores %>% \n",
    "  mutate(high_math_achiever = math_score >= 4)"
   ]
  },
  {
   "cell_type": "markdown",
   "id": "42d24661-6b9d-418f-a42f-50de6dda4c77",
   "metadata": {
    "slideshow": {
     "slide_type": "slide"
    },
    "tags": []
   },
   "source": [
    "# Exercise 11.24\n",
    "\n",
    "Create a new column `reading_score_centered` that is a\n",
    "student's reading score minus the mean of all students' reading scores."
   ]
  },
  {
   "cell_type": "code",
   "execution_count": 33,
   "id": "aa3aa574-6b39-40b1-a186-d819dc95f780",
   "metadata": {
    "slideshow": {
     "slide_type": "subslide"
    },
    "tags": [],
    "vscode": {
     "languageId": "r"
    }
   },
   "outputs": [
    {
     "data": {
      "text/html": [
       "<table class=\"dataframe\">\n",
       "<caption>A tibble: 9 × 7</caption>\n",
       "<thead>\n",
       "\t<tr><th scope=col>name</th><th scope=col>school</th><th scope=col>teacher</th><th scope=col>sex</th><th scope=col>math_score</th><th scope=col>reading_score</th><th scope=col>reading_score_centered</th></tr>\n",
       "\t<tr><th scope=col>&lt;chr&gt;</th><th scope=col>&lt;chr&gt;</th><th scope=col>&lt;chr&gt;</th><th scope=col>&lt;chr&gt;</th><th scope=col>&lt;dbl&gt;</th><th scope=col>&lt;dbl&gt;</th><th scope=col>&lt;dbl&gt;</th></tr>\n",
       "</thead>\n",
       "<tbody>\n",
       "\t<tr><td>mike  </td><td>south</td><td>johnson</td><td>male  </td><td>4</td><td>1</td><td>-2.4444444</td></tr>\n",
       "\t<tr><td>carol </td><td>south</td><td>johnson</td><td>female</td><td>3</td><td>5</td><td> 1.5555556</td></tr>\n",
       "\t<tr><td>greg  </td><td>south</td><td>johnson</td><td>male  </td><td>2</td><td>2</td><td>-1.4444444</td></tr>\n",
       "\t<tr><td>marcia</td><td>south</td><td>johnson</td><td>female</td><td>4</td><td>4</td><td> 0.5555556</td></tr>\n",
       "\t<tr><td>peter </td><td>north</td><td>smith  </td><td>male  </td><td>3</td><td>5</td><td> 1.5555556</td></tr>\n",
       "\t<tr><td>jan   </td><td>north</td><td>smith  </td><td>female</td><td>4</td><td>4</td><td> 0.5555556</td></tr>\n",
       "\t<tr><td>bobby </td><td>north</td><td>smith  </td><td>male  </td><td>5</td><td>1</td><td>-2.4444444</td></tr>\n",
       "\t<tr><td>cindy </td><td>south</td><td>perry  </td><td>female</td><td>4</td><td>5</td><td> 1.5555556</td></tr>\n",
       "\t<tr><td>alice </td><td>south</td><td>perry  </td><td>female</td><td>5</td><td>4</td><td> 0.5555556</td></tr>\n",
       "</tbody>\n",
       "</table>\n"
      ],
      "text/latex": [
       "A tibble: 9 × 7\n",
       "\\begin{tabular}{lllllll}\n",
       " name & school & teacher & sex & math\\_score & reading\\_score & reading\\_score\\_centered\\\\\n",
       " <chr> & <chr> & <chr> & <chr> & <dbl> & <dbl> & <dbl>\\\\\n",
       "\\hline\n",
       "\t mike   & south & johnson & male   & 4 & 1 & -2.4444444\\\\\n",
       "\t carol  & south & johnson & female & 3 & 5 &  1.5555556\\\\\n",
       "\t greg   & south & johnson & male   & 2 & 2 & -1.4444444\\\\\n",
       "\t marcia & south & johnson & female & 4 & 4 &  0.5555556\\\\\n",
       "\t peter  & north & smith   & male   & 3 & 5 &  1.5555556\\\\\n",
       "\t jan    & north & smith   & female & 4 & 4 &  0.5555556\\\\\n",
       "\t bobby  & north & smith   & male   & 5 & 1 & -2.4444444\\\\\n",
       "\t cindy  & south & perry   & female & 4 & 5 &  1.5555556\\\\\n",
       "\t alice  & south & perry   & female & 5 & 4 &  0.5555556\\\\\n",
       "\\end{tabular}\n"
      ],
      "text/markdown": [
       "\n",
       "A tibble: 9 × 7\n",
       "\n",
       "| name &lt;chr&gt; | school &lt;chr&gt; | teacher &lt;chr&gt; | sex &lt;chr&gt; | math_score &lt;dbl&gt; | reading_score &lt;dbl&gt; | reading_score_centered &lt;dbl&gt; |\n",
       "|---|---|---|---|---|---|---|\n",
       "| mike   | south | johnson | male   | 4 | 1 | -2.4444444 |\n",
       "| carol  | south | johnson | female | 3 | 5 |  1.5555556 |\n",
       "| greg   | south | johnson | male   | 2 | 2 | -1.4444444 |\n",
       "| marcia | south | johnson | female | 4 | 4 |  0.5555556 |\n",
       "| peter  | north | smith   | male   | 3 | 5 |  1.5555556 |\n",
       "| jan    | north | smith   | female | 4 | 4 |  0.5555556 |\n",
       "| bobby  | north | smith   | male   | 5 | 1 | -2.4444444 |\n",
       "| cindy  | south | perry   | female | 4 | 5 |  1.5555556 |\n",
       "| alice  | south | perry   | female | 5 | 4 |  0.5555556 |\n",
       "\n"
      ],
      "text/plain": [
       "  name   school teacher sex    math_score reading_score reading_score_centered\n",
       "1 mike   south  johnson male   4          1             -2.4444444            \n",
       "2 carol  south  johnson female 3          5              1.5555556            \n",
       "3 greg   south  johnson male   2          2             -1.4444444            \n",
       "4 marcia south  johnson female 4          4              0.5555556            \n",
       "5 peter  north  smith   male   3          5              1.5555556            \n",
       "6 jan    north  smith   female 4          4              0.5555556            \n",
       "7 bobby  north  smith   male   5          1             -2.4444444            \n",
       "8 cindy  south  perry   female 4          5              1.5555556            \n",
       "9 alice  south  perry   female 5          4              0.5555556            "
      ]
     },
     "metadata": {},
     "output_type": "display_data"
    }
   ],
   "source": [
    "scores %>% \n",
    "  mutate(reading_score_centered = reading_score - mean(reading_score))"
   ]
  },
  {
   "cell_type": "markdown",
   "id": "e4299440-f21d-4afc-8e53-d78a53aa6a2b",
   "metadata": {},
   "source": [
    "Note how this may be confusing: `reading_score` is used twice in the `mutate()` arugment.\n",
    "\n",
    "In the first case, it refers to value for the current observation.\n",
    "\n",
    "In the second case, it refers to the all the values."
   ]
  },
  {
   "cell_type": "markdown",
   "id": "3c1d65f8-d0cb-4a26-9361-3aa87e5bf791",
   "metadata": {
    "slideshow": {
     "slide_type": "slide"
    }
   },
   "source": [
    "# Exercise 11.25\n",
    "\n",
    "Create a new column called `science_score` that adds the square of `math_score` to `reading_score`.\n",
    "\n",
    "Display the result by sorting on the new column in descending order."
   ]
  },
  {
   "cell_type": "code",
   "execution_count": 34,
   "id": "dbfd7459-bf45-46cd-843e-301ba973f71d",
   "metadata": {
    "slideshow": {
     "slide_type": "subslide"
    },
    "tags": [],
    "vscode": {
     "languageId": "r"
    }
   },
   "outputs": [
    {
     "data": {
      "text/html": [
       "<table class=\"dataframe\">\n",
       "<caption>A tibble: 9 × 7</caption>\n",
       "<thead>\n",
       "\t<tr><th scope=col>name</th><th scope=col>school</th><th scope=col>teacher</th><th scope=col>sex</th><th scope=col>math_score</th><th scope=col>reading_score</th><th scope=col>science_score</th></tr>\n",
       "\t<tr><th scope=col>&lt;chr&gt;</th><th scope=col>&lt;chr&gt;</th><th scope=col>&lt;chr&gt;</th><th scope=col>&lt;chr&gt;</th><th scope=col>&lt;dbl&gt;</th><th scope=col>&lt;dbl&gt;</th><th scope=col>&lt;dbl&gt;</th></tr>\n",
       "</thead>\n",
       "<tbody>\n",
       "\t<tr><td>alice </td><td>south</td><td>perry  </td><td>female</td><td>5</td><td>4</td><td>29</td></tr>\n",
       "\t<tr><td>bobby </td><td>north</td><td>smith  </td><td>male  </td><td>5</td><td>1</td><td>26</td></tr>\n",
       "\t<tr><td>cindy </td><td>south</td><td>perry  </td><td>female</td><td>4</td><td>5</td><td>21</td></tr>\n",
       "\t<tr><td>marcia</td><td>south</td><td>johnson</td><td>female</td><td>4</td><td>4</td><td>20</td></tr>\n",
       "\t<tr><td>jan   </td><td>north</td><td>smith  </td><td>female</td><td>4</td><td>4</td><td>20</td></tr>\n",
       "\t<tr><td>mike  </td><td>south</td><td>johnson</td><td>male  </td><td>4</td><td>1</td><td>17</td></tr>\n",
       "\t<tr><td>carol </td><td>south</td><td>johnson</td><td>female</td><td>3</td><td>5</td><td>14</td></tr>\n",
       "\t<tr><td>peter </td><td>north</td><td>smith  </td><td>male  </td><td>3</td><td>5</td><td>14</td></tr>\n",
       "\t<tr><td>greg  </td><td>south</td><td>johnson</td><td>male  </td><td>2</td><td>2</td><td> 6</td></tr>\n",
       "</tbody>\n",
       "</table>\n"
      ],
      "text/latex": [
       "A tibble: 9 × 7\n",
       "\\begin{tabular}{lllllll}\n",
       " name & school & teacher & sex & math\\_score & reading\\_score & science\\_score\\\\\n",
       " <chr> & <chr> & <chr> & <chr> & <dbl> & <dbl> & <dbl>\\\\\n",
       "\\hline\n",
       "\t alice  & south & perry   & female & 5 & 4 & 29\\\\\n",
       "\t bobby  & north & smith   & male   & 5 & 1 & 26\\\\\n",
       "\t cindy  & south & perry   & female & 4 & 5 & 21\\\\\n",
       "\t marcia & south & johnson & female & 4 & 4 & 20\\\\\n",
       "\t jan    & north & smith   & female & 4 & 4 & 20\\\\\n",
       "\t mike   & south & johnson & male   & 4 & 1 & 17\\\\\n",
       "\t carol  & south & johnson & female & 3 & 5 & 14\\\\\n",
       "\t peter  & north & smith   & male   & 3 & 5 & 14\\\\\n",
       "\t greg   & south & johnson & male   & 2 & 2 &  6\\\\\n",
       "\\end{tabular}\n"
      ],
      "text/markdown": [
       "\n",
       "A tibble: 9 × 7\n",
       "\n",
       "| name &lt;chr&gt; | school &lt;chr&gt; | teacher &lt;chr&gt; | sex &lt;chr&gt; | math_score &lt;dbl&gt; | reading_score &lt;dbl&gt; | science_score &lt;dbl&gt; |\n",
       "|---|---|---|---|---|---|---|\n",
       "| alice  | south | perry   | female | 5 | 4 | 29 |\n",
       "| bobby  | north | smith   | male   | 5 | 1 | 26 |\n",
       "| cindy  | south | perry   | female | 4 | 5 | 21 |\n",
       "| marcia | south | johnson | female | 4 | 4 | 20 |\n",
       "| jan    | north | smith   | female | 4 | 4 | 20 |\n",
       "| mike   | south | johnson | male   | 4 | 1 | 17 |\n",
       "| carol  | south | johnson | female | 3 | 5 | 14 |\n",
       "| peter  | north | smith   | male   | 3 | 5 | 14 |\n",
       "| greg   | south | johnson | male   | 2 | 2 |  6 |\n",
       "\n"
      ],
      "text/plain": [
       "  name   school teacher sex    math_score reading_score science_score\n",
       "1 alice  south  perry   female 5          4             29           \n",
       "2 bobby  north  smith   male   5          1             26           \n",
       "3 cindy  south  perry   female 4          5             21           \n",
       "4 marcia south  johnson female 4          4             20           \n",
       "5 jan    north  smith   female 4          4             20           \n",
       "6 mike   south  johnson male   4          1             17           \n",
       "7 carol  south  johnson female 3          5             14           \n",
       "8 peter  north  smith   male   3          5             14           \n",
       "9 greg   south  johnson male   2          2              6           "
      ]
     },
     "metadata": {},
     "output_type": "display_data"
    }
   ],
   "source": [
    "scores %>% \n",
    "    mutate(science_score = math_score**2 + reading_score) %>%\n",
    "    arrange(desc(science_score))"
   ]
  },
  {
   "cell_type": "markdown",
   "id": "95dc9aeb-e208-4b74-b61b-1cac35252467",
   "metadata": {
    "slideshow": {
     "slide_type": "slide"
    },
    "tags": []
   },
   "source": [
    "# Part 6: Mutate with groups"
   ]
  },
  {
   "cell_type": "markdown",
   "id": "ba001936-864e-4256-9613-9341700504f7",
   "metadata": {
    "slideshow": {
     "slide_type": "slide"
    }
   },
   "source": [
    "# Exercise 11.26\n",
    "\n",
    "Create a `math_score_centered_by_sex` column that subtracts a student's `math_score` from the mean `math_score` by sex.\n",
    "\n",
    "Display the results in descending order on the new column."
   ]
  },
  {
   "cell_type": "code",
   "execution_count": 35,
   "id": "91e0eb3a-9c8c-475c-b3cd-6e1f7aaf9535",
   "metadata": {
    "slideshow": {
     "slide_type": "subslide"
    },
    "tags": [],
    "vscode": {
     "languageId": "r"
    }
   },
   "outputs": [
    {
     "data": {
      "text/html": [
       "<table class=\"dataframe\">\n",
       "<caption>A grouped_df: 9 × 7</caption>\n",
       "<thead>\n",
       "\t<tr><th scope=col>name</th><th scope=col>school</th><th scope=col>teacher</th><th scope=col>sex</th><th scope=col>math_score</th><th scope=col>reading_score</th><th scope=col>math_score_centered_by_sex</th></tr>\n",
       "\t<tr><th scope=col>&lt;chr&gt;</th><th scope=col>&lt;chr&gt;</th><th scope=col>&lt;chr&gt;</th><th scope=col>&lt;chr&gt;</th><th scope=col>&lt;dbl&gt;</th><th scope=col>&lt;dbl&gt;</th><th scope=col>&lt;dbl&gt;</th></tr>\n",
       "</thead>\n",
       "<tbody>\n",
       "\t<tr><td>bobby </td><td>north</td><td>smith  </td><td>male  </td><td>5</td><td>1</td><td> 1.5</td></tr>\n",
       "\t<tr><td>alice </td><td>south</td><td>perry  </td><td>female</td><td>5</td><td>4</td><td> 1.0</td></tr>\n",
       "\t<tr><td>mike  </td><td>south</td><td>johnson</td><td>male  </td><td>4</td><td>1</td><td> 0.5</td></tr>\n",
       "\t<tr><td>marcia</td><td>south</td><td>johnson</td><td>female</td><td>4</td><td>4</td><td> 0.0</td></tr>\n",
       "\t<tr><td>jan   </td><td>north</td><td>smith  </td><td>female</td><td>4</td><td>4</td><td> 0.0</td></tr>\n",
       "\t<tr><td>cindy </td><td>south</td><td>perry  </td><td>female</td><td>4</td><td>5</td><td> 0.0</td></tr>\n",
       "\t<tr><td>peter </td><td>north</td><td>smith  </td><td>male  </td><td>3</td><td>5</td><td>-0.5</td></tr>\n",
       "\t<tr><td>carol </td><td>south</td><td>johnson</td><td>female</td><td>3</td><td>5</td><td>-1.0</td></tr>\n",
       "\t<tr><td>greg  </td><td>south</td><td>johnson</td><td>male  </td><td>2</td><td>2</td><td>-1.5</td></tr>\n",
       "</tbody>\n",
       "</table>\n"
      ],
      "text/latex": [
       "A grouped\\_df: 9 × 7\n",
       "\\begin{tabular}{lllllll}\n",
       " name & school & teacher & sex & math\\_score & reading\\_score & math\\_score\\_centered\\_by\\_sex\\\\\n",
       " <chr> & <chr> & <chr> & <chr> & <dbl> & <dbl> & <dbl>\\\\\n",
       "\\hline\n",
       "\t bobby  & north & smith   & male   & 5 & 1 &  1.5\\\\\n",
       "\t alice  & south & perry   & female & 5 & 4 &  1.0\\\\\n",
       "\t mike   & south & johnson & male   & 4 & 1 &  0.5\\\\\n",
       "\t marcia & south & johnson & female & 4 & 4 &  0.0\\\\\n",
       "\t jan    & north & smith   & female & 4 & 4 &  0.0\\\\\n",
       "\t cindy  & south & perry   & female & 4 & 5 &  0.0\\\\\n",
       "\t peter  & north & smith   & male   & 3 & 5 & -0.5\\\\\n",
       "\t carol  & south & johnson & female & 3 & 5 & -1.0\\\\\n",
       "\t greg   & south & johnson & male   & 2 & 2 & -1.5\\\\\n",
       "\\end{tabular}\n"
      ],
      "text/markdown": [
       "\n",
       "A grouped_df: 9 × 7\n",
       "\n",
       "| name &lt;chr&gt; | school &lt;chr&gt; | teacher &lt;chr&gt; | sex &lt;chr&gt; | math_score &lt;dbl&gt; | reading_score &lt;dbl&gt; | math_score_centered_by_sex &lt;dbl&gt; |\n",
       "|---|---|---|---|---|---|---|\n",
       "| bobby  | north | smith   | male   | 5 | 1 |  1.5 |\n",
       "| alice  | south | perry   | female | 5 | 4 |  1.0 |\n",
       "| mike   | south | johnson | male   | 4 | 1 |  0.5 |\n",
       "| marcia | south | johnson | female | 4 | 4 |  0.0 |\n",
       "| jan    | north | smith   | female | 4 | 4 |  0.0 |\n",
       "| cindy  | south | perry   | female | 4 | 5 |  0.0 |\n",
       "| peter  | north | smith   | male   | 3 | 5 | -0.5 |\n",
       "| carol  | south | johnson | female | 3 | 5 | -1.0 |\n",
       "| greg   | south | johnson | male   | 2 | 2 | -1.5 |\n",
       "\n"
      ],
      "text/plain": [
       "  name   school teacher sex    math_score reading_score\n",
       "1 bobby  north  smith   male   5          1            \n",
       "2 alice  south  perry   female 5          4            \n",
       "3 mike   south  johnson male   4          1            \n",
       "4 marcia south  johnson female 4          4            \n",
       "5 jan    north  smith   female 4          4            \n",
       "6 cindy  south  perry   female 4          5            \n",
       "7 peter  north  smith   male   3          5            \n",
       "8 carol  south  johnson female 3          5            \n",
       "9 greg   south  johnson male   2          2            \n",
       "  math_score_centered_by_sex\n",
       "1  1.5                      \n",
       "2  1.0                      \n",
       "3  0.5                      \n",
       "4  0.0                      \n",
       "5  0.0                      \n",
       "6  0.0                      \n",
       "7 -0.5                      \n",
       "8 -1.0                      \n",
       "9 -1.5                      "
      ]
     },
     "metadata": {},
     "output_type": "display_data"
    }
   ],
   "source": [
    "scores %>% \n",
    "  group_by(sex) %>% \n",
    "  mutate(math_score_centered_by_sex = math_score - mean(math_score)) %>%\n",
    "  arrange(desc(math_score_centered_by_sex))"
   ]
  },
  {
   "cell_type": "markdown",
   "id": "82d17c58-a149-4b73-b741-0945e5d5b512",
   "metadata": {
    "slideshow": {
     "slide_type": "fragment"
    },
    "tags": []
   },
   "source": [
    "**Question**: If Mike and Cindy both got a $4$ for their math score, then \\\n",
    "why does Mike have a higher `math_score_centered_by_sex` score?"
   ]
  },
  {
   "cell_type": "markdown",
   "id": "79fff0be-65e7-4c4c-8807-0a86ad8ceeda",
   "metadata": {
    "slideshow": {
     "slide_type": "fragment"
    },
    "tags": []
   },
   "source": [
    "**Answer:** He is higher relative to the other males, which are lower overall."
   ]
  },
  {
   "cell_type": "markdown",
   "id": "2c193638-f45e-454e-8f15-19b7413d5618",
   "metadata": {
    "slideshow": {
     "slide_type": "slide"
    },
    "tags": []
   },
   "source": [
    "# Exercise 11.27\n",
    "\n",
    "Create a `reading_score_centered_by_teacher` column. "
   ]
  },
  {
   "cell_type": "code",
   "execution_count": 36,
   "id": "bd9c2c47-5eb8-404c-b607-ccbbf2ddf414",
   "metadata": {
    "slideshow": {
     "slide_type": "subslide"
    },
    "tags": [],
    "vscode": {
     "languageId": "r"
    }
   },
   "outputs": [
    {
     "data": {
      "text/html": [
       "<table class=\"dataframe\">\n",
       "<caption>A grouped_df: 9 × 7</caption>\n",
       "<thead>\n",
       "\t<tr><th scope=col>name</th><th scope=col>school</th><th scope=col>teacher</th><th scope=col>sex</th><th scope=col>math_score</th><th scope=col>reading_score</th><th scope=col>math_score_centered_by_teacher</th></tr>\n",
       "\t<tr><th scope=col>&lt;chr&gt;</th><th scope=col>&lt;chr&gt;</th><th scope=col>&lt;chr&gt;</th><th scope=col>&lt;chr&gt;</th><th scope=col>&lt;dbl&gt;</th><th scope=col>&lt;dbl&gt;</th><th scope=col>&lt;dbl&gt;</th></tr>\n",
       "</thead>\n",
       "<tbody>\n",
       "\t<tr><td>mike  </td><td>south</td><td>johnson</td><td>male  </td><td>4</td><td>1</td><td> 0.75</td></tr>\n",
       "\t<tr><td>carol </td><td>south</td><td>johnson</td><td>female</td><td>3</td><td>5</td><td>-0.25</td></tr>\n",
       "\t<tr><td>greg  </td><td>south</td><td>johnson</td><td>male  </td><td>2</td><td>2</td><td>-1.25</td></tr>\n",
       "\t<tr><td>marcia</td><td>south</td><td>johnson</td><td>female</td><td>4</td><td>4</td><td> 0.75</td></tr>\n",
       "\t<tr><td>peter </td><td>north</td><td>smith  </td><td>male  </td><td>3</td><td>5</td><td>-1.00</td></tr>\n",
       "\t<tr><td>jan   </td><td>north</td><td>smith  </td><td>female</td><td>4</td><td>4</td><td> 0.00</td></tr>\n",
       "\t<tr><td>bobby </td><td>north</td><td>smith  </td><td>male  </td><td>5</td><td>1</td><td> 1.00</td></tr>\n",
       "\t<tr><td>cindy </td><td>south</td><td>perry  </td><td>female</td><td>4</td><td>5</td><td>-0.50</td></tr>\n",
       "\t<tr><td>alice </td><td>south</td><td>perry  </td><td>female</td><td>5</td><td>4</td><td> 0.50</td></tr>\n",
       "</tbody>\n",
       "</table>\n"
      ],
      "text/latex": [
       "A grouped\\_df: 9 × 7\n",
       "\\begin{tabular}{lllllll}\n",
       " name & school & teacher & sex & math\\_score & reading\\_score & math\\_score\\_centered\\_by\\_teacher\\\\\n",
       " <chr> & <chr> & <chr> & <chr> & <dbl> & <dbl> & <dbl>\\\\\n",
       "\\hline\n",
       "\t mike   & south & johnson & male   & 4 & 1 &  0.75\\\\\n",
       "\t carol  & south & johnson & female & 3 & 5 & -0.25\\\\\n",
       "\t greg   & south & johnson & male   & 2 & 2 & -1.25\\\\\n",
       "\t marcia & south & johnson & female & 4 & 4 &  0.75\\\\\n",
       "\t peter  & north & smith   & male   & 3 & 5 & -1.00\\\\\n",
       "\t jan    & north & smith   & female & 4 & 4 &  0.00\\\\\n",
       "\t bobby  & north & smith   & male   & 5 & 1 &  1.00\\\\\n",
       "\t cindy  & south & perry   & female & 4 & 5 & -0.50\\\\\n",
       "\t alice  & south & perry   & female & 5 & 4 &  0.50\\\\\n",
       "\\end{tabular}\n"
      ],
      "text/markdown": [
       "\n",
       "A grouped_df: 9 × 7\n",
       "\n",
       "| name &lt;chr&gt; | school &lt;chr&gt; | teacher &lt;chr&gt; | sex &lt;chr&gt; | math_score &lt;dbl&gt; | reading_score &lt;dbl&gt; | math_score_centered_by_teacher &lt;dbl&gt; |\n",
       "|---|---|---|---|---|---|---|\n",
       "| mike   | south | johnson | male   | 4 | 1 |  0.75 |\n",
       "| carol  | south | johnson | female | 3 | 5 | -0.25 |\n",
       "| greg   | south | johnson | male   | 2 | 2 | -1.25 |\n",
       "| marcia | south | johnson | female | 4 | 4 |  0.75 |\n",
       "| peter  | north | smith   | male   | 3 | 5 | -1.00 |\n",
       "| jan    | north | smith   | female | 4 | 4 |  0.00 |\n",
       "| bobby  | north | smith   | male   | 5 | 1 |  1.00 |\n",
       "| cindy  | south | perry   | female | 4 | 5 | -0.50 |\n",
       "| alice  | south | perry   | female | 5 | 4 |  0.50 |\n",
       "\n"
      ],
      "text/plain": [
       "  name   school teacher sex    math_score reading_score\n",
       "1 mike   south  johnson male   4          1            \n",
       "2 carol  south  johnson female 3          5            \n",
       "3 greg   south  johnson male   2          2            \n",
       "4 marcia south  johnson female 4          4            \n",
       "5 peter  north  smith   male   3          5            \n",
       "6 jan    north  smith   female 4          4            \n",
       "7 bobby  north  smith   male   5          1            \n",
       "8 cindy  south  perry   female 4          5            \n",
       "9 alice  south  perry   female 5          4            \n",
       "  math_score_centered_by_teacher\n",
       "1  0.75                         \n",
       "2 -0.25                         \n",
       "3 -1.25                         \n",
       "4  0.75                         \n",
       "5 -1.00                         \n",
       "6  0.00                         \n",
       "7  1.00                         \n",
       "8 -0.50                         \n",
       "9  0.50                         "
      ]
     },
     "metadata": {},
     "output_type": "display_data"
    }
   ],
   "source": [
    "scores %>% \n",
    "  group_by(teacher) %>% \n",
    "  mutate(math_score_centered_by_teacher = math_score - mean(math_score))"
   ]
  },
  {
   "cell_type": "markdown",
   "id": "b4a91978-379e-491c-98ab-d1eaec539fc1",
   "metadata": {
    "slideshow": {
     "slide_type": "slide"
    }
   },
   "source": [
    "# Exercise 11.28\n",
    "\n",
    "Make a `number_of_students_in_class` column that is number\n",
    "of students in a teacher’s class. \n",
    "\n",
    "For example, it should be $4$ for `mike` and $3$ for `peter`."
   ]
  },
  {
   "cell_type": "code",
   "execution_count": 37,
   "id": "94aedf53-d77a-45a1-81c6-07c0c15cdecf",
   "metadata": {
    "slideshow": {
     "slide_type": "subslide"
    },
    "tags": [],
    "vscode": {
     "languageId": "r"
    }
   },
   "outputs": [
    {
     "data": {
      "text/html": [
       "<table class=\"dataframe\">\n",
       "<caption>A grouped_df: 9 × 7</caption>\n",
       "<thead>\n",
       "\t<tr><th scope=col>name</th><th scope=col>school</th><th scope=col>teacher</th><th scope=col>sex</th><th scope=col>math_score</th><th scope=col>reading_score</th><th scope=col>number_of_students_in_class</th></tr>\n",
       "\t<tr><th scope=col>&lt;chr&gt;</th><th scope=col>&lt;chr&gt;</th><th scope=col>&lt;chr&gt;</th><th scope=col>&lt;chr&gt;</th><th scope=col>&lt;dbl&gt;</th><th scope=col>&lt;dbl&gt;</th><th scope=col>&lt;int&gt;</th></tr>\n",
       "</thead>\n",
       "<tbody>\n",
       "\t<tr><td>mike  </td><td>south</td><td>johnson</td><td>male  </td><td>4</td><td>1</td><td>4</td></tr>\n",
       "\t<tr><td>carol </td><td>south</td><td>johnson</td><td>female</td><td>3</td><td>5</td><td>4</td></tr>\n",
       "\t<tr><td>greg  </td><td>south</td><td>johnson</td><td>male  </td><td>2</td><td>2</td><td>4</td></tr>\n",
       "\t<tr><td>marcia</td><td>south</td><td>johnson</td><td>female</td><td>4</td><td>4</td><td>4</td></tr>\n",
       "\t<tr><td>peter </td><td>north</td><td>smith  </td><td>male  </td><td>3</td><td>5</td><td>3</td></tr>\n",
       "\t<tr><td>jan   </td><td>north</td><td>smith  </td><td>female</td><td>4</td><td>4</td><td>3</td></tr>\n",
       "\t<tr><td>bobby </td><td>north</td><td>smith  </td><td>male  </td><td>5</td><td>1</td><td>3</td></tr>\n",
       "\t<tr><td>cindy </td><td>south</td><td>perry  </td><td>female</td><td>4</td><td>5</td><td>2</td></tr>\n",
       "\t<tr><td>alice </td><td>south</td><td>perry  </td><td>female</td><td>5</td><td>4</td><td>2</td></tr>\n",
       "</tbody>\n",
       "</table>\n"
      ],
      "text/latex": [
       "A grouped\\_df: 9 × 7\n",
       "\\begin{tabular}{lllllll}\n",
       " name & school & teacher & sex & math\\_score & reading\\_score & number\\_of\\_students\\_in\\_class\\\\\n",
       " <chr> & <chr> & <chr> & <chr> & <dbl> & <dbl> & <int>\\\\\n",
       "\\hline\n",
       "\t mike   & south & johnson & male   & 4 & 1 & 4\\\\\n",
       "\t carol  & south & johnson & female & 3 & 5 & 4\\\\\n",
       "\t greg   & south & johnson & male   & 2 & 2 & 4\\\\\n",
       "\t marcia & south & johnson & female & 4 & 4 & 4\\\\\n",
       "\t peter  & north & smith   & male   & 3 & 5 & 3\\\\\n",
       "\t jan    & north & smith   & female & 4 & 4 & 3\\\\\n",
       "\t bobby  & north & smith   & male   & 5 & 1 & 3\\\\\n",
       "\t cindy  & south & perry   & female & 4 & 5 & 2\\\\\n",
       "\t alice  & south & perry   & female & 5 & 4 & 2\\\\\n",
       "\\end{tabular}\n"
      ],
      "text/markdown": [
       "\n",
       "A grouped_df: 9 × 7\n",
       "\n",
       "| name &lt;chr&gt; | school &lt;chr&gt; | teacher &lt;chr&gt; | sex &lt;chr&gt; | math_score &lt;dbl&gt; | reading_score &lt;dbl&gt; | number_of_students_in_class &lt;int&gt; |\n",
       "|---|---|---|---|---|---|---|\n",
       "| mike   | south | johnson | male   | 4 | 1 | 4 |\n",
       "| carol  | south | johnson | female | 3 | 5 | 4 |\n",
       "| greg   | south | johnson | male   | 2 | 2 | 4 |\n",
       "| marcia | south | johnson | female | 4 | 4 | 4 |\n",
       "| peter  | north | smith   | male   | 3 | 5 | 3 |\n",
       "| jan    | north | smith   | female | 4 | 4 | 3 |\n",
       "| bobby  | north | smith   | male   | 5 | 1 | 3 |\n",
       "| cindy  | south | perry   | female | 4 | 5 | 2 |\n",
       "| alice  | south | perry   | female | 5 | 4 | 2 |\n",
       "\n"
      ],
      "text/plain": [
       "  name   school teacher sex    math_score reading_score\n",
       "1 mike   south  johnson male   4          1            \n",
       "2 carol  south  johnson female 3          5            \n",
       "3 greg   south  johnson male   2          2            \n",
       "4 marcia south  johnson female 4          4            \n",
       "5 peter  north  smith   male   3          5            \n",
       "6 jan    north  smith   female 4          4            \n",
       "7 bobby  north  smith   male   5          1            \n",
       "8 cindy  south  perry   female 4          5            \n",
       "9 alice  south  perry   female 5          4            \n",
       "  number_of_students_in_class\n",
       "1 4                          \n",
       "2 4                          \n",
       "3 4                          \n",
       "4 4                          \n",
       "5 3                          \n",
       "6 3                          \n",
       "7 3                          \n",
       "8 2                          \n",
       "9 2                          "
      ]
     },
     "metadata": {},
     "output_type": "display_data"
    }
   ],
   "source": [
    "scores %>% \n",
    "  group_by(teacher) %>% \n",
    "  mutate(number_of_students_in_class = n())"
   ]
  },
  {
   "cell_type": "markdown",
   "id": "c293554b-7bfa-4245-b7aa-1f5173ccb092",
   "metadata": {
    "slideshow": {
     "slide_type": "slide"
    },
    "tags": []
   },
   "source": [
    "# Part 7: Summarize"
   ]
  },
  {
   "cell_type": "markdown",
   "id": "0b5ff90a-dcbc-4e00-a6e6-6a670b7bf227",
   "metadata": {
    "slideshow": {
     "slide_type": "slide"
    }
   },
   "source": [
    "# Exercise 11.29\n",
    "\n",
    "Use `summarize()` command to find the mean math score for\n",
    "all students."
   ]
  },
  {
   "cell_type": "code",
   "execution_count": 38,
   "id": "11f5c81c-c22f-4bb3-82a8-f241e4f071d6",
   "metadata": {
    "slideshow": {
     "slide_type": "subslide"
    },
    "tags": [],
    "vscode": {
     "languageId": "r"
    }
   },
   "outputs": [
    {
     "data": {
      "text/html": [
       "<table class=\"dataframe\">\n",
       "<caption>A tibble: 1 × 1</caption>\n",
       "<thead>\n",
       "\t<tr><th scope=col>math_score_mean</th></tr>\n",
       "\t<tr><th scope=col>&lt;dbl&gt;</th></tr>\n",
       "</thead>\n",
       "<tbody>\n",
       "\t<tr><td>3.777778</td></tr>\n",
       "</tbody>\n",
       "</table>\n"
      ],
      "text/latex": [
       "A tibble: 1 × 1\n",
       "\\begin{tabular}{l}\n",
       " math\\_score\\_mean\\\\\n",
       " <dbl>\\\\\n",
       "\\hline\n",
       "\t 3.777778\\\\\n",
       "\\end{tabular}\n"
      ],
      "text/markdown": [
       "\n",
       "A tibble: 1 × 1\n",
       "\n",
       "| math_score_mean &lt;dbl&gt; |\n",
       "|---|\n",
       "| 3.777778 |\n",
       "\n"
      ],
      "text/plain": [
       "  math_score_mean\n",
       "1 3.777778       "
      ]
     },
     "metadata": {},
     "output_type": "display_data"
    }
   ],
   "source": [
    "scores %>% \n",
    "  summarize(math_score_mean = mean(math_score))"
   ]
  },
  {
   "cell_type": "markdown",
   "id": "52633c6b-e7d8-49da-9d27-410b34a09590",
   "metadata": {
    "slideshow": {
     "slide_type": "fragment"
    },
    "tags": []
   },
   "source": [
    "Note how `summarize()` creates a new column, like `mutate()`.\n",
    "\n",
    "It does this because it creates a new table."
   ]
  },
  {
   "cell_type": "markdown",
   "id": "721ec095-8a67-4774-a170-7892cdebd64c",
   "metadata": {
    "slideshow": {
     "slide_type": "slide"
    },
    "tags": []
   },
   "source": [
    "# Exercise 11.30\n",
    "\n",
    "Find the mean reading score for all students."
   ]
  },
  {
   "cell_type": "code",
   "execution_count": 39,
   "id": "959a4320-348c-4234-b33f-e0f000b7de08",
   "metadata": {
    "slideshow": {
     "slide_type": "subslide"
    },
    "vscode": {
     "languageId": "r"
    }
   },
   "outputs": [
    {
     "data": {
      "text/html": [
       "<table class=\"dataframe\">\n",
       "<caption>A tibble: 1 × 1</caption>\n",
       "<thead>\n",
       "\t<tr><th scope=col>math_score_mean</th></tr>\n",
       "\t<tr><th scope=col>&lt;dbl&gt;</th></tr>\n",
       "</thead>\n",
       "<tbody>\n",
       "\t<tr><td>3.444444</td></tr>\n",
       "</tbody>\n",
       "</table>\n"
      ],
      "text/latex": [
       "A tibble: 1 × 1\n",
       "\\begin{tabular}{l}\n",
       " math\\_score\\_mean\\\\\n",
       " <dbl>\\\\\n",
       "\\hline\n",
       "\t 3.444444\\\\\n",
       "\\end{tabular}\n"
      ],
      "text/markdown": [
       "\n",
       "A tibble: 1 × 1\n",
       "\n",
       "| math_score_mean &lt;dbl&gt; |\n",
       "|---|\n",
       "| 3.444444 |\n",
       "\n"
      ],
      "text/plain": [
       "  math_score_mean\n",
       "1 3.444444       "
      ]
     },
     "metadata": {},
     "output_type": "display_data"
    }
   ],
   "source": [
    "scores %>% \n",
    "  summarize(math_score_mean = mean(reading_score))"
   ]
  },
  {
   "cell_type": "markdown",
   "id": "828120f3-640a-4d88-990f-c5572e8c4057",
   "metadata": {
    "slideshow": {
     "slide_type": "slide"
    }
   },
   "source": [
    "# Exercise 11.31\n",
    "\n",
    "Find the mean for math scores and reading scores added together.\n",
    "\n",
    "Call the column `both_score_mean`."
   ]
  },
  {
   "cell_type": "code",
   "execution_count": 40,
   "id": "043d931f-2cd6-43b1-8e44-583a1325cacf",
   "metadata": {
    "slideshow": {
     "slide_type": "subslide"
    },
    "vscode": {
     "languageId": "r"
    }
   },
   "outputs": [
    {
     "data": {
      "text/html": [
       "<table class=\"dataframe\">\n",
       "<caption>A tibble: 1 × 1</caption>\n",
       "<thead>\n",
       "\t<tr><th scope=col>both_score_mean</th></tr>\n",
       "\t<tr><th scope=col>&lt;dbl&gt;</th></tr>\n",
       "</thead>\n",
       "<tbody>\n",
       "\t<tr><td>3.611111</td></tr>\n",
       "</tbody>\n",
       "</table>\n"
      ],
      "text/latex": [
       "A tibble: 1 × 1\n",
       "\\begin{tabular}{l}\n",
       " both\\_score\\_mean\\\\\n",
       " <dbl>\\\\\n",
       "\\hline\n",
       "\t 3.611111\\\\\n",
       "\\end{tabular}\n"
      ],
      "text/markdown": [
       "\n",
       "A tibble: 1 × 1\n",
       "\n",
       "| both_score_mean &lt;dbl&gt; |\n",
       "|---|\n",
       "| 3.611111 |\n",
       "\n"
      ],
      "text/plain": [
       "  both_score_mean\n",
       "1 3.611111       "
      ]
     },
     "metadata": {},
     "output_type": "display_data"
    }
   ],
   "source": [
    "scores %>% \n",
    "  summarize(both_score_mean = mean((math_score + reading_score)/2))"
   ]
  },
  {
   "cell_type": "markdown",
   "id": "e64e4cc5-a6fd-4449-9da1-69f9d11bc8de",
   "metadata": {
    "slideshow": {
     "slide_type": "slide"
    }
   },
   "source": [
    "# Part 8: Summarize with groups"
   ]
  },
  {
   "cell_type": "markdown",
   "id": "58bef08f-e938-4096-987d-0407903d95dc",
   "metadata": {
    "slideshow": {
     "slide_type": "slide"
    }
   },
   "source": [
    "# Exercise 11.32\n",
    "\n",
    "Find the minimum math score for each school."
   ]
  },
  {
   "cell_type": "code",
   "execution_count": 41,
   "id": "2a4134f0-3ebf-4331-9dbc-5a377cc8a979",
   "metadata": {
    "slideshow": {
     "slide_type": "subslide"
    },
    "vscode": {
     "languageId": "r"
    }
   },
   "outputs": [
    {
     "data": {
      "text/html": [
       "<table class=\"dataframe\">\n",
       "<caption>A tibble: 2 × 2</caption>\n",
       "<thead>\n",
       "\t<tr><th scope=col>school</th><th scope=col>min_math_score</th></tr>\n",
       "\t<tr><th scope=col>&lt;chr&gt;</th><th scope=col>&lt;dbl&gt;</th></tr>\n",
       "</thead>\n",
       "<tbody>\n",
       "\t<tr><td>north</td><td>3</td></tr>\n",
       "\t<tr><td>south</td><td>2</td></tr>\n",
       "</tbody>\n",
       "</table>\n"
      ],
      "text/latex": [
       "A tibble: 2 × 2\n",
       "\\begin{tabular}{ll}\n",
       " school & min\\_math\\_score\\\\\n",
       " <chr> & <dbl>\\\\\n",
       "\\hline\n",
       "\t north & 3\\\\\n",
       "\t south & 2\\\\\n",
       "\\end{tabular}\n"
      ],
      "text/markdown": [
       "\n",
       "A tibble: 2 × 2\n",
       "\n",
       "| school &lt;chr&gt; | min_math_score &lt;dbl&gt; |\n",
       "|---|---|\n",
       "| north | 3 |\n",
       "| south | 2 |\n",
       "\n"
      ],
      "text/plain": [
       "  school min_math_score\n",
       "1 north  3             \n",
       "2 south  2             "
      ]
     },
     "metadata": {},
     "output_type": "display_data"
    }
   ],
   "source": [
    "scores %>% \n",
    "  group_by(school) %>% \n",
    "  summarize(min_math_score = min(math_score))"
   ]
  },
  {
   "cell_type": "markdown",
   "id": "f24c1e96-e145-4602-8e79-903dc89822b6",
   "metadata": {
    "slideshow": {
     "slide_type": "slide"
    },
    "tags": []
   },
   "source": [
    "# Exercise 11.33\n",
    "\n",
    "Find the maximum math score for each teacher."
   ]
  },
  {
   "cell_type": "code",
   "execution_count": 42,
   "id": "dad0dc70-cc33-40d0-8399-0ebaabe7b2e1",
   "metadata": {
    "scrolled": true,
    "slideshow": {
     "slide_type": "subslide"
    },
    "vscode": {
     "languageId": "r"
    }
   },
   "outputs": [
    {
     "data": {
      "text/html": [
       "<table class=\"dataframe\">\n",
       "<caption>A tibble: 3 × 2</caption>\n",
       "<thead>\n",
       "\t<tr><th scope=col>teacher</th><th scope=col>max_math_score</th></tr>\n",
       "\t<tr><th scope=col>&lt;chr&gt;</th><th scope=col>&lt;dbl&gt;</th></tr>\n",
       "</thead>\n",
       "<tbody>\n",
       "\t<tr><td>johnson</td><td>4</td></tr>\n",
       "\t<tr><td>perry  </td><td>5</td></tr>\n",
       "\t<tr><td>smith  </td><td>5</td></tr>\n",
       "</tbody>\n",
       "</table>\n"
      ],
      "text/latex": [
       "A tibble: 3 × 2\n",
       "\\begin{tabular}{ll}\n",
       " teacher & max\\_math\\_score\\\\\n",
       " <chr> & <dbl>\\\\\n",
       "\\hline\n",
       "\t johnson & 4\\\\\n",
       "\t perry   & 5\\\\\n",
       "\t smith   & 5\\\\\n",
       "\\end{tabular}\n"
      ],
      "text/markdown": [
       "\n",
       "A tibble: 3 × 2\n",
       "\n",
       "| teacher &lt;chr&gt; | max_math_score &lt;dbl&gt; |\n",
       "|---|---|\n",
       "| johnson | 4 |\n",
       "| perry   | 5 |\n",
       "| smith   | 5 |\n",
       "\n"
      ],
      "text/plain": [
       "  teacher max_math_score\n",
       "1 johnson 4             \n",
       "2 perry   5             \n",
       "3 smith   5             "
      ]
     },
     "metadata": {},
     "output_type": "display_data"
    }
   ],
   "source": [
    "scores %>% \n",
    "  group_by(teacher) %>% \n",
    "  summarize(max_math_score = max(math_score))"
   ]
  },
  {
   "cell_type": "markdown",
   "id": "6bdc3f7c",
   "metadata": {
    "slideshow": {
     "slide_type": "subslide"
    }
   },
   "source": [
    "**Excercise 11.19 Redone**"
   ]
  },
  {
   "cell_type": "code",
   "execution_count": 43,
   "id": "1bce154b",
   "metadata": {
    "jp-MarkdownHeadingCollapsed": true,
    "slideshow": {
     "slide_type": "-"
    },
    "tags": [],
    "vscode": {
     "languageId": "r"
    }
   },
   "outputs": [
    {
     "data": {
      "text/html": [
       "<table class=\"dataframe\">\n",
       "<caption>A tibble: 2 × 1</caption>\n",
       "<thead>\n",
       "\t<tr><th scope=col>teacher</th></tr>\n",
       "\t<tr><th scope=col>&lt;chr&gt;</th></tr>\n",
       "</thead>\n",
       "<tbody>\n",
       "\t<tr><td>perry</td></tr>\n",
       "\t<tr><td>smith</td></tr>\n",
       "</tbody>\n",
       "</table>\n"
      ],
      "text/latex": [
       "A tibble: 2 × 1\n",
       "\\begin{tabular}{l}\n",
       " teacher\\\\\n",
       " <chr>\\\\\n",
       "\\hline\n",
       "\t perry\\\\\n",
       "\t smith\\\\\n",
       "\\end{tabular}\n"
      ],
      "text/markdown": [
       "\n",
       "A tibble: 2 × 1\n",
       "\n",
       "| teacher &lt;chr&gt; |\n",
       "|---|\n",
       "| perry |\n",
       "| smith |\n",
       "\n"
      ],
      "text/plain": [
       "  teacher\n",
       "1 perry  \n",
       "2 smith  "
      ]
     },
     "metadata": {},
     "output_type": "display_data"
    }
   ],
   "source": [
    "scores %>% \n",
    "    group_by(teacher) %>% \n",
    "    summarize(max_math = max(math_score)) %>%\n",
    "    filter(max_math == 5) %>%\n",
    "    select(teacher)"
   ]
  },
  {
   "cell_type": "markdown",
   "id": "7e42fab5-2340-490d-9c58-58583dae5e1a",
   "metadata": {
    "slideshow": {
     "slide_type": "slide"
    }
   },
   "source": [
    "# Exercise 11.34\n",
    "\n",
    "If we grouped by sex, and then summarized with the minimum\n",
    "reading score, how many rows would the resulting data frame have?"
   ]
  },
  {
   "cell_type": "markdown",
   "id": "89c8d605-250d-4c8f-a46d-77f79ec81d30",
   "metadata": {
    "slideshow": {
     "slide_type": "subslide"
    }
   },
   "source": [
    "$2$, because there are $2$ values for sex in the table.\n",
    "\n",
    "Group by with summarization operations yield dataframes with the same number of rows as distinct values in the grouping.\n",
    "\n",
    "This is an example of the **Split-Apply-Combine** pattern.\n",
    "* To **group** is to **split** by distinct value of some feature of set of features\n",
    "* To **summarize** to apply some **aggregate function** to each group\n",
    "* To **combine** means to bind the resulting single row tables into one table, with one row for each group\n",
    "\n",
    "See [this article](https://pages.stat.wisc.edu/~yandell/R_for_data_sciences/curate/tidyverse.html) by Brian S. Yandell, a professor of statistics at Wisconsin, for a deeper dive into this topic.\n"
   ]
  },
  {
   "cell_type": "code",
   "execution_count": 44,
   "id": "c4a43495-488c-4766-bbe8-832624cb27a8",
   "metadata": {
    "slideshow": {
     "slide_type": "fragment"
    },
    "tags": [],
    "vscode": {
     "languageId": "r"
    }
   },
   "outputs": [
    {
     "data": {
      "text/html": [
       "<table class=\"dataframe\">\n",
       "<caption>A tibble: 2 × 2</caption>\n",
       "<thead>\n",
       "\t<tr><th scope=col>sex</th><th scope=col>min_reading_score</th></tr>\n",
       "\t<tr><th scope=col>&lt;chr&gt;</th><th scope=col>&lt;dbl&gt;</th></tr>\n",
       "</thead>\n",
       "<tbody>\n",
       "\t<tr><td>female</td><td>4</td></tr>\n",
       "\t<tr><td>male  </td><td>1</td></tr>\n",
       "</tbody>\n",
       "</table>\n"
      ],
      "text/latex": [
       "A tibble: 2 × 2\n",
       "\\begin{tabular}{ll}\n",
       " sex & min\\_reading\\_score\\\\\n",
       " <chr> & <dbl>\\\\\n",
       "\\hline\n",
       "\t female & 4\\\\\n",
       "\t male   & 1\\\\\n",
       "\\end{tabular}\n"
      ],
      "text/markdown": [
       "\n",
       "A tibble: 2 × 2\n",
       "\n",
       "| sex &lt;chr&gt; | min_reading_score &lt;dbl&gt; |\n",
       "|---|---|\n",
       "| female | 4 |\n",
       "| male   | 1 |\n",
       "\n"
      ],
      "text/plain": [
       "  sex    min_reading_score\n",
       "1 female 4                \n",
       "2 male   1                "
      ]
     },
     "metadata": {},
     "output_type": "display_data"
    }
   ],
   "source": [
    "scores %>% \n",
    "  group_by(sex) %>%\n",
    "  summarize(min_reading_score = min(reading_score))"
   ]
  },
  {
   "cell_type": "markdown",
   "id": "476c5a07-e526-4887-baf0-063b2bda6bdd",
   "metadata": {
    "slideshow": {
     "slide_type": "slide"
    },
    "tags": []
   },
   "source": [
    "# Exercise 11.35\n",
    "\n",
    "Create a data frame with the mean and median reading score\n",
    "by sex, as well as the number of students of that sex."
   ]
  },
  {
   "cell_type": "code",
   "execution_count": 45,
   "id": "09c85a88-de6c-4053-bbee-8c1010b8e07c",
   "metadata": {
    "slideshow": {
     "slide_type": "subslide"
    },
    "vscode": {
     "languageId": "r"
    }
   },
   "outputs": [
    {
     "data": {
      "text/html": [
       "<table class=\"dataframe\">\n",
       "<caption>A tibble: 2 × 4</caption>\n",
       "<thead>\n",
       "\t<tr><th scope=col>sex</th><th scope=col>mean_reading_score</th><th scope=col>median_reading_score</th><th scope=col>n</th></tr>\n",
       "\t<tr><th scope=col>&lt;chr&gt;</th><th scope=col>&lt;dbl&gt;</th><th scope=col>&lt;dbl&gt;</th><th scope=col>&lt;int&gt;</th></tr>\n",
       "</thead>\n",
       "<tbody>\n",
       "\t<tr><td>female</td><td>4.40</td><td>4.0</td><td>5</td></tr>\n",
       "\t<tr><td>male  </td><td>2.25</td><td>1.5</td><td>4</td></tr>\n",
       "</tbody>\n",
       "</table>\n"
      ],
      "text/latex": [
       "A tibble: 2 × 4\n",
       "\\begin{tabular}{llll}\n",
       " sex & mean\\_reading\\_score & median\\_reading\\_score & n\\\\\n",
       " <chr> & <dbl> & <dbl> & <int>\\\\\n",
       "\\hline\n",
       "\t female & 4.40 & 4.0 & 5\\\\\n",
       "\t male   & 2.25 & 1.5 & 4\\\\\n",
       "\\end{tabular}\n"
      ],
      "text/markdown": [
       "\n",
       "A tibble: 2 × 4\n",
       "\n",
       "| sex &lt;chr&gt; | mean_reading_score &lt;dbl&gt; | median_reading_score &lt;dbl&gt; | n &lt;int&gt; |\n",
       "|---|---|---|---|\n",
       "| female | 4.40 | 4.0 | 5 |\n",
       "| male   | 2.25 | 1.5 | 4 |\n",
       "\n"
      ],
      "text/plain": [
       "  sex    mean_reading_score median_reading_score n\n",
       "1 female 4.40               4.0                  5\n",
       "2 male   2.25               1.5                  4"
      ]
     },
     "metadata": {},
     "output_type": "display_data"
    }
   ],
   "source": [
    "scores %>% \n",
    "  group_by(sex) %>% \n",
    "  summarize(mean_reading_score = mean(reading_score), \n",
    "            median_reading_score = median(reading_score), \n",
    "            n = n())"
   ]
  },
  {
   "cell_type": "markdown",
   "id": "8516a080-a77d-4318-a200-27f4e11ff658",
   "metadata": {
    "slideshow": {
     "slide_type": "slide"
    }
   },
   "source": [
    "# Part 9: Combining verbs"
   ]
  },
  {
   "cell_type": "markdown",
   "id": "12f44508-25be-4af8-a306-3bf4ac116c23",
   "metadata": {
    "slideshow": {
     "slide_type": "slide"
    }
   },
   "source": [
    "# Exercise 11.36\n",
    "\n",
    "Select just the `name` and `math_score` columns. \n",
    "\n",
    "Then create a new column `math_score_ec` that is a students math score plus 5 extra\n",
    "credit points. \n",
    "\n",
    "Finally, arrange the data frame by `math_score_ec` from low to high."
   ]
  },
  {
   "cell_type": "code",
   "execution_count": 46,
   "id": "37591b59-fa05-4bf8-abdd-4e6b059a598e",
   "metadata": {
    "slideshow": {
     "slide_type": "subslide"
    },
    "vscode": {
     "languageId": "r"
    }
   },
   "outputs": [
    {
     "data": {
      "text/html": [
       "<table class=\"dataframe\">\n",
       "<caption>A tibble: 9 × 3</caption>\n",
       "<thead>\n",
       "\t<tr><th scope=col>name</th><th scope=col>math_score</th><th scope=col>math_score_ec</th></tr>\n",
       "\t<tr><th scope=col>&lt;chr&gt;</th><th scope=col>&lt;dbl&gt;</th><th scope=col>&lt;dbl&gt;</th></tr>\n",
       "</thead>\n",
       "<tbody>\n",
       "\t<tr><td>greg  </td><td>2</td><td> 7</td></tr>\n",
       "\t<tr><td>carol </td><td>3</td><td> 8</td></tr>\n",
       "\t<tr><td>peter </td><td>3</td><td> 8</td></tr>\n",
       "\t<tr><td>mike  </td><td>4</td><td> 9</td></tr>\n",
       "\t<tr><td>marcia</td><td>4</td><td> 9</td></tr>\n",
       "\t<tr><td>jan   </td><td>4</td><td> 9</td></tr>\n",
       "\t<tr><td>cindy </td><td>4</td><td> 9</td></tr>\n",
       "\t<tr><td>bobby </td><td>5</td><td>10</td></tr>\n",
       "\t<tr><td>alice </td><td>5</td><td>10</td></tr>\n",
       "</tbody>\n",
       "</table>\n"
      ],
      "text/latex": [
       "A tibble: 9 × 3\n",
       "\\begin{tabular}{lll}\n",
       " name & math\\_score & math\\_score\\_ec\\\\\n",
       " <chr> & <dbl> & <dbl>\\\\\n",
       "\\hline\n",
       "\t greg   & 2 &  7\\\\\n",
       "\t carol  & 3 &  8\\\\\n",
       "\t peter  & 3 &  8\\\\\n",
       "\t mike   & 4 &  9\\\\\n",
       "\t marcia & 4 &  9\\\\\n",
       "\t jan    & 4 &  9\\\\\n",
       "\t cindy  & 4 &  9\\\\\n",
       "\t bobby  & 5 & 10\\\\\n",
       "\t alice  & 5 & 10\\\\\n",
       "\\end{tabular}\n"
      ],
      "text/markdown": [
       "\n",
       "A tibble: 9 × 3\n",
       "\n",
       "| name &lt;chr&gt; | math_score &lt;dbl&gt; | math_score_ec &lt;dbl&gt; |\n",
       "|---|---|---|\n",
       "| greg   | 2 |  7 |\n",
       "| carol  | 3 |  8 |\n",
       "| peter  | 3 |  8 |\n",
       "| mike   | 4 |  9 |\n",
       "| marcia | 4 |  9 |\n",
       "| jan    | 4 |  9 |\n",
       "| cindy  | 4 |  9 |\n",
       "| bobby  | 5 | 10 |\n",
       "| alice  | 5 | 10 |\n",
       "\n"
      ],
      "text/plain": [
       "  name   math_score math_score_ec\n",
       "1 greg   2           7           \n",
       "2 carol  3           8           \n",
       "3 peter  3           8           \n",
       "4 mike   4           9           \n",
       "5 marcia 4           9           \n",
       "6 jan    4           9           \n",
       "7 cindy  4           9           \n",
       "8 bobby  5          10           \n",
       "9 alice  5          10           "
      ]
     },
     "metadata": {},
     "output_type": "display_data"
    }
   ],
   "source": [
    "scores %>% \n",
    "  select(name, math_score) %>% \n",
    "  mutate(math_score_ec = math_score + 5) %>% \n",
    "  arrange(math_score_ec)"
   ]
  },
  {
   "cell_type": "markdown",
   "id": "27310ce3-45e4-4dce-8b21-10cd961944da",
   "metadata": {
    "slideshow": {
     "slide_type": "slide"
    },
    "tags": []
   },
   "source": [
    "# Exercise 11.37\n",
    "\n",
    "Select every column except the teacher column. \n",
    "\n",
    "Create a new variabled called `mean_score` that is the mean of a student’s math and reading score. \n",
    "\n",
    "Finally, arrange the data frame by `mean_score` from low to high."
   ]
  },
  {
   "cell_type": "code",
   "execution_count": 47,
   "id": "60de0c3a-cd53-44bb-a860-e474bed06b2f",
   "metadata": {
    "slideshow": {
     "slide_type": "subslide"
    },
    "vscode": {
     "languageId": "r"
    }
   },
   "outputs": [
    {
     "data": {
      "text/html": [
       "<table class=\"dataframe\">\n",
       "<caption>A tibble: 9 × 6</caption>\n",
       "<thead>\n",
       "\t<tr><th scope=col>name</th><th scope=col>school</th><th scope=col>sex</th><th scope=col>math_score</th><th scope=col>reading_score</th><th scope=col>mean_score</th></tr>\n",
       "\t<tr><th scope=col>&lt;chr&gt;</th><th scope=col>&lt;chr&gt;</th><th scope=col>&lt;chr&gt;</th><th scope=col>&lt;dbl&gt;</th><th scope=col>&lt;dbl&gt;</th><th scope=col>&lt;dbl&gt;</th></tr>\n",
       "</thead>\n",
       "<tbody>\n",
       "\t<tr><td>greg  </td><td>south</td><td>male  </td><td>2</td><td>2</td><td>2.0</td></tr>\n",
       "\t<tr><td>mike  </td><td>south</td><td>male  </td><td>4</td><td>1</td><td>2.5</td></tr>\n",
       "\t<tr><td>bobby </td><td>north</td><td>male  </td><td>5</td><td>1</td><td>3.0</td></tr>\n",
       "\t<tr><td>carol </td><td>south</td><td>female</td><td>3</td><td>5</td><td>4.0</td></tr>\n",
       "\t<tr><td>marcia</td><td>south</td><td>female</td><td>4</td><td>4</td><td>4.0</td></tr>\n",
       "\t<tr><td>peter </td><td>north</td><td>male  </td><td>3</td><td>5</td><td>4.0</td></tr>\n",
       "\t<tr><td>jan   </td><td>north</td><td>female</td><td>4</td><td>4</td><td>4.0</td></tr>\n",
       "\t<tr><td>cindy </td><td>south</td><td>female</td><td>4</td><td>5</td><td>4.5</td></tr>\n",
       "\t<tr><td>alice </td><td>south</td><td>female</td><td>5</td><td>4</td><td>4.5</td></tr>\n",
       "</tbody>\n",
       "</table>\n"
      ],
      "text/latex": [
       "A tibble: 9 × 6\n",
       "\\begin{tabular}{llllll}\n",
       " name & school & sex & math\\_score & reading\\_score & mean\\_score\\\\\n",
       " <chr> & <chr> & <chr> & <dbl> & <dbl> & <dbl>\\\\\n",
       "\\hline\n",
       "\t greg   & south & male   & 2 & 2 & 2.0\\\\\n",
       "\t mike   & south & male   & 4 & 1 & 2.5\\\\\n",
       "\t bobby  & north & male   & 5 & 1 & 3.0\\\\\n",
       "\t carol  & south & female & 3 & 5 & 4.0\\\\\n",
       "\t marcia & south & female & 4 & 4 & 4.0\\\\\n",
       "\t peter  & north & male   & 3 & 5 & 4.0\\\\\n",
       "\t jan    & north & female & 4 & 4 & 4.0\\\\\n",
       "\t cindy  & south & female & 4 & 5 & 4.5\\\\\n",
       "\t alice  & south & female & 5 & 4 & 4.5\\\\\n",
       "\\end{tabular}\n"
      ],
      "text/markdown": [
       "\n",
       "A tibble: 9 × 6\n",
       "\n",
       "| name &lt;chr&gt; | school &lt;chr&gt; | sex &lt;chr&gt; | math_score &lt;dbl&gt; | reading_score &lt;dbl&gt; | mean_score &lt;dbl&gt; |\n",
       "|---|---|---|---|---|---|\n",
       "| greg   | south | male   | 2 | 2 | 2.0 |\n",
       "| mike   | south | male   | 4 | 1 | 2.5 |\n",
       "| bobby  | north | male   | 5 | 1 | 3.0 |\n",
       "| carol  | south | female | 3 | 5 | 4.0 |\n",
       "| marcia | south | female | 4 | 4 | 4.0 |\n",
       "| peter  | north | male   | 3 | 5 | 4.0 |\n",
       "| jan    | north | female | 4 | 4 | 4.0 |\n",
       "| cindy  | south | female | 4 | 5 | 4.5 |\n",
       "| alice  | south | female | 5 | 4 | 4.5 |\n",
       "\n"
      ],
      "text/plain": [
       "  name   school sex    math_score reading_score mean_score\n",
       "1 greg   south  male   2          2             2.0       \n",
       "2 mike   south  male   4          1             2.5       \n",
       "3 bobby  north  male   5          1             3.0       \n",
       "4 carol  south  female 3          5             4.0       \n",
       "5 marcia south  female 4          4             4.0       \n",
       "6 peter  north  male   3          5             4.0       \n",
       "7 jan    north  female 4          4             4.0       \n",
       "8 cindy  south  female 4          5             4.5       \n",
       "9 alice  south  female 5          4             4.5       "
      ]
     },
     "metadata": {},
     "output_type": "display_data"
    }
   ],
   "source": [
    "scores %>% \n",
    "  select(-teacher) %>% \n",
    "  mutate(mean_score = (math_score + reading_score)/2) %>% \n",
    "  arrange(mean_score)"
   ]
  },
  {
   "cell_type": "markdown",
   "id": "6c9ca6cc-d1be-4da4-bc2a-5a627b1ed235",
   "metadata": {
    "slideshow": {
     "slide_type": "slide"
    },
    "tags": []
   },
   "source": [
    "# Exercise 11.38\n",
    "\n",
    "Remove any students with `'smith'` as a teacher, then find the\n",
    "mean `math_score` by `sex`."
   ]
  },
  {
   "cell_type": "code",
   "execution_count": 48,
   "id": "94ebbe35-8361-44db-a88e-49ae8d5c219e",
   "metadata": {
    "slideshow": {
     "slide_type": "subslide"
    },
    "vscode": {
     "languageId": "r"
    }
   },
   "outputs": [
    {
     "data": {
      "text/html": [
       "<table class=\"dataframe\">\n",
       "<caption>A tibble: 2 × 2</caption>\n",
       "<thead>\n",
       "\t<tr><th scope=col>sex</th><th scope=col>mean_math_score</th></tr>\n",
       "\t<tr><th scope=col>&lt;chr&gt;</th><th scope=col>&lt;dbl&gt;</th></tr>\n",
       "</thead>\n",
       "<tbody>\n",
       "\t<tr><td>female</td><td>4</td></tr>\n",
       "\t<tr><td>male  </td><td>3</td></tr>\n",
       "</tbody>\n",
       "</table>\n"
      ],
      "text/latex": [
       "A tibble: 2 × 2\n",
       "\\begin{tabular}{ll}\n",
       " sex & mean\\_math\\_score\\\\\n",
       " <chr> & <dbl>\\\\\n",
       "\\hline\n",
       "\t female & 4\\\\\n",
       "\t male   & 3\\\\\n",
       "\\end{tabular}\n"
      ],
      "text/markdown": [
       "\n",
       "A tibble: 2 × 2\n",
       "\n",
       "| sex &lt;chr&gt; | mean_math_score &lt;dbl&gt; |\n",
       "|---|---|\n",
       "| female | 4 |\n",
       "| male   | 3 |\n",
       "\n"
      ],
      "text/plain": [
       "  sex    mean_math_score\n",
       "1 female 4              \n",
       "2 male   3              "
      ]
     },
     "metadata": {},
     "output_type": "display_data"
    }
   ],
   "source": [
    "scores %>% \n",
    "  filter(teacher != \"smith\") %>% \n",
    "  group_by(sex) %>% \n",
    "  summarize(mean_math_score = mean(math_score))"
   ]
  },
  {
   "cell_type": "markdown",
   "id": "800af445-a0e1-4c64-ae00-0cae75601a06",
   "metadata": {
    "slideshow": {
     "slide_type": "slide"
    }
   },
   "source": [
    "# Exercise 11.39\n",
    "\n",
    "Find the min, max, and median `reading_score` for female\n",
    "students at south school."
   ]
  },
  {
   "cell_type": "code",
   "execution_count": 49,
   "id": "62d2c1c7-05d1-4568-9789-43ff77d383c4",
   "metadata": {
    "slideshow": {
     "slide_type": "subslide"
    },
    "vscode": {
     "languageId": "r"
    }
   },
   "outputs": [
    {
     "data": {
      "text/html": [
       "<table class=\"dataframe\">\n",
       "<caption>A tibble: 1 × 3</caption>\n",
       "<thead>\n",
       "\t<tr><th scope=col>min_reading_score</th><th scope=col>max_reading_score</th><th scope=col>median_reading_score</th></tr>\n",
       "\t<tr><th scope=col>&lt;dbl&gt;</th><th scope=col>&lt;dbl&gt;</th><th scope=col>&lt;dbl&gt;</th></tr>\n",
       "</thead>\n",
       "<tbody>\n",
       "\t<tr><td>4</td><td>5</td><td>4.5</td></tr>\n",
       "</tbody>\n",
       "</table>\n"
      ],
      "text/latex": [
       "A tibble: 1 × 3\n",
       "\\begin{tabular}{lll}\n",
       " min\\_reading\\_score & max\\_reading\\_score & median\\_reading\\_score\\\\\n",
       " <dbl> & <dbl> & <dbl>\\\\\n",
       "\\hline\n",
       "\t 4 & 5 & 4.5\\\\\n",
       "\\end{tabular}\n"
      ],
      "text/markdown": [
       "\n",
       "A tibble: 1 × 3\n",
       "\n",
       "| min_reading_score &lt;dbl&gt; | max_reading_score &lt;dbl&gt; | median_reading_score &lt;dbl&gt; |\n",
       "|---|---|---|\n",
       "| 4 | 5 | 4.5 |\n",
       "\n"
      ],
      "text/plain": [
       "  min_reading_score max_reading_score median_reading_score\n",
       "1 4                 5                 4.5                 "
      ]
     },
     "metadata": {},
     "output_type": "display_data"
    }
   ],
   "source": [
    "scores %>% \n",
    "  filter(sex == \"female\", school == \"south\") %>% \n",
    "  summarize(min_reading_score = min(reading_score),\n",
    "            max_reading_score = max(reading_score),\n",
    "            median_reading_score = median(reading_score))"
   ]
  },
  {
   "cell_type": "markdown",
   "id": "599dc7ea-b8b8-4950-a721-525a1e238b72",
   "metadata": {
    "editable": true,
    "slideshow": {
     "slide_type": "slide"
    },
    "tags": []
   },
   "source": [
    "# Exercise 11.40\n",
    "\n",
    "Inspect each of the following code blocks. They both do\n",
    "about the same thing. Which one do you think is preffered from a\n",
    "computer efficiency standpoint?"
   ]
  },
  {
   "cell_type": "code",
   "execution_count": 64,
   "id": "9ac0cc5f-46c7-48b0-9a94-f6bef40cdee8",
   "metadata": {
    "editable": true,
    "slideshow": {
     "slide_type": "subslide"
    },
    "tags": [],
    "vscode": {
     "languageId": "r"
    }
   },
   "outputs": [
    {
     "data": {
      "text/html": [
       "<table class=\"dataframe\">\n",
       "<caption>A tibble: 2 × 3</caption>\n",
       "<thead>\n",
       "\t<tr><th scope=col>school</th><th scope=col>teacher</th><th scope=col>max_math_score</th></tr>\n",
       "\t<tr><th scope=col>&lt;chr&gt;</th><th scope=col>&lt;chr&gt;</th><th scope=col>&lt;dbl&gt;</th></tr>\n",
       "</thead>\n",
       "<tbody>\n",
       "\t<tr><td>south</td><td>johnson</td><td>4</td></tr>\n",
       "\t<tr><td>south</td><td>perry  </td><td>5</td></tr>\n",
       "</tbody>\n",
       "</table>\n"
      ],
      "text/latex": [
       "A tibble: 2 × 3\n",
       "\\begin{tabular}{lll}\n",
       " school & teacher & max\\_math\\_score\\\\\n",
       " <chr> & <chr> & <dbl>\\\\\n",
       "\\hline\n",
       "\t south & johnson & 4\\\\\n",
       "\t south & perry   & 5\\\\\n",
       "\\end{tabular}\n"
      ],
      "text/markdown": [
       "\n",
       "A tibble: 2 × 3\n",
       "\n",
       "| school &lt;chr&gt; | teacher &lt;chr&gt; | max_math_score &lt;dbl&gt; |\n",
       "|---|---|---|\n",
       "| south | johnson | 4 |\n",
       "| south | perry   | 5 |\n",
       "\n"
      ],
      "text/plain": [
       "  school teacher max_math_score\n",
       "1 south  johnson 4             \n",
       "2 south  perry   5             "
      ]
     },
     "metadata": {},
     "output_type": "display_data"
    }
   ],
   "source": [
    "scores %>% \n",
    "  group_by(school, teacher) %>% \n",
    "  summarize(max_math_score = max(math_score), .groups = \"drop\") %>% \n",
    "  filter(school == \"south\")"
   ]
  },
  {
   "cell_type": "code",
   "execution_count": 65,
   "id": "f7eed92e-d20f-4719-beac-138a430ea31f",
   "metadata": {
    "editable": true,
    "slideshow": {
     "slide_type": "-"
    },
    "tags": [],
    "vscode": {
     "languageId": "r"
    }
   },
   "outputs": [
    {
     "data": {
      "text/html": [
       "<table class=\"dataframe\">\n",
       "<caption>A tibble: 2 × 2</caption>\n",
       "<thead>\n",
       "\t<tr><th scope=col>teacher</th><th scope=col>max_math_score</th></tr>\n",
       "\t<tr><th scope=col>&lt;chr&gt;</th><th scope=col>&lt;dbl&gt;</th></tr>\n",
       "</thead>\n",
       "<tbody>\n",
       "\t<tr><td>johnson</td><td>4</td></tr>\n",
       "\t<tr><td>perry  </td><td>5</td></tr>\n",
       "</tbody>\n",
       "</table>\n"
      ],
      "text/latex": [
       "A tibble: 2 × 2\n",
       "\\begin{tabular}{ll}\n",
       " teacher & max\\_math\\_score\\\\\n",
       " <chr> & <dbl>\\\\\n",
       "\\hline\n",
       "\t johnson & 4\\\\\n",
       "\t perry   & 5\\\\\n",
       "\\end{tabular}\n"
      ],
      "text/markdown": [
       "\n",
       "A tibble: 2 × 2\n",
       "\n",
       "| teacher &lt;chr&gt; | max_math_score &lt;dbl&gt; |\n",
       "|---|---|\n",
       "| johnson | 4 |\n",
       "| perry   | 5 |\n",
       "\n"
      ],
      "text/plain": [
       "  teacher max_math_score\n",
       "1 johnson 4             \n",
       "2 perry   5             "
      ]
     },
     "metadata": {},
     "output_type": "display_data"
    }
   ],
   "source": [
    "scores %>% \n",
    "  filter(school == \"south\") %>% \n",
    "  group_by(teacher) %>% \n",
    "  summarize(max_math_score = max(math_score))"
   ]
  },
  {
   "cell_type": "markdown",
   "id": "199d5159-b8b7-4418-8541-10c731976fb5",
   "metadata": {
    "editable": true,
    "slideshow": {
     "slide_type": "subslide"
    },
    "tags": []
   },
   "source": [
    "**Answer:** They both get the max math score by teacher for teachers at south school. The first block calculates the `max_math_score` for both north and south and then filters out north after that calculation. The second block filters out north right away. This is preferred because it prevents the computer from making unnecessary calculations.\n",
    "\n"
   ]
  },
  {
   "cell_type": "markdown",
   "id": "259f4c2e-bb60-4e7f-ab58-cc25a5544266",
   "metadata": {
    "editable": true,
    "slideshow": {
     "slide_type": "fragment"
    },
    "tags": []
   },
   "source": [
    "Regarding the .groups argument in the first block, this is what happens when we exclude it:"
   ]
  },
  {
   "cell_type": "code",
   "execution_count": 67,
   "id": "2618f431-0bc3-410a-b24d-4e0819c073ca",
   "metadata": {
    "editable": true,
    "slideshow": {
     "slide_type": ""
    },
    "tags": []
   },
   "outputs": [
    {
     "name": "stderr",
     "output_type": "stream",
     "text": [
      "\u001b[1m\u001b[22m`summarise()` has grouped output by 'school'. You can override using the\n",
      "`.groups` argument.\n"
     ]
    },
    {
     "data": {
      "text/html": [
       "<table class=\"dataframe\">\n",
       "<caption>A grouped_df: 2 × 3</caption>\n",
       "<thead>\n",
       "\t<tr><th scope=col>school</th><th scope=col>teacher</th><th scope=col>max_math_score</th></tr>\n",
       "\t<tr><th scope=col>&lt;chr&gt;</th><th scope=col>&lt;chr&gt;</th><th scope=col>&lt;dbl&gt;</th></tr>\n",
       "</thead>\n",
       "<tbody>\n",
       "\t<tr><td>south</td><td>johnson</td><td>4</td></tr>\n",
       "\t<tr><td>south</td><td>perry  </td><td>5</td></tr>\n",
       "</tbody>\n",
       "</table>\n"
      ],
      "text/latex": [
       "A grouped\\_df: 2 × 3\n",
       "\\begin{tabular}{lll}\n",
       " school & teacher & max\\_math\\_score\\\\\n",
       " <chr> & <chr> & <dbl>\\\\\n",
       "\\hline\n",
       "\t south & johnson & 4\\\\\n",
       "\t south & perry   & 5\\\\\n",
       "\\end{tabular}\n"
      ],
      "text/markdown": [
       "\n",
       "A grouped_df: 2 × 3\n",
       "\n",
       "| school &lt;chr&gt; | teacher &lt;chr&gt; | max_math_score &lt;dbl&gt; |\n",
       "|---|---|---|\n",
       "| south | johnson | 4 |\n",
       "| south | perry   | 5 |\n",
       "\n"
      ],
      "text/plain": [
       "  school teacher max_math_score\n",
       "1 south  johnson 4             \n",
       "2 south  perry   5             "
      ]
     },
     "metadata": {},
     "output_type": "display_data"
    }
   ],
   "source": [
    "scores %>% \n",
    "  group_by(school, teacher) %>% \n",
    "  summarize(max_math_score = max(math_score)) %>% \n",
    "  filter(school == \"south\")"
   ]
  },
  {
   "cell_type": "markdown",
   "id": "c08157ea-f5b7-4c4d-86cd-0e22e798a636",
   "metadata": {
    "editable": true,
    "slideshow": {
     "slide_type": ""
    },
    "tags": []
   },
   "source": [
    "# Credits"
   ]
  },
  {
   "cell_type": "markdown",
   "id": "9a7674d3",
   "metadata": {
    "editable": true,
    "slideshow": {
     "slide_type": ""
    },
    "tags": []
   },
   "source": [
    "This notebook is adapted largely from [Stenhaug's \"The 5 verbs of dplyr\"](https://teachingr.com/content/the-5-verbs-of-dplyr/the-5-verbs-of-dplyr-exercise.html)"
   ]
  }
 ],
 "metadata": {
  "celltoolbar": "Slideshow",
  "kernelspec": {
   "display_name": "R Environment",
   "language": "R",
   "name": "r_env"
  },
  "language_info": {
   "codemirror_mode": "r",
   "file_extension": ".r",
   "mimetype": "text/x-r-source",
   "name": "R",
   "pygments_lexer": "r",
   "version": "4.3.1"
  },
  "latex_envs": {
   "LaTeX_envs_menu_present": true,
   "autoclose": false,
   "autocomplete": true,
   "bibliofile": "biblio.bib",
   "cite_by": "apalike",
   "current_citInitial": 1,
   "eqLabelWithNumbers": true,
   "eqNumInitial": 1,
   "hotkeys": {
    "equation": "Ctrl-E",
    "itemize": "Ctrl-I"
   },
   "labels_anchors": false,
   "latex_user_defs": false,
   "report_style_numbering": false,
   "user_envs_cfg": false
  },
  "toc": {
   "base_numbering": 1,
   "nav_menu": {},
   "number_sections": false,
   "sideBar": true,
   "skip_h1_title": false,
   "title_cell": "Table of Contents",
   "title_sidebar": "Contents",
   "toc_cell": false,
   "toc_position": {
    "height": "calc(100% - 180px)",
    "left": "10px",
    "top": "150px",
    "width": "296.8px"
   },
   "toc_section_display": true,
   "toc_window_display": false
  },
  "varInspector": {
   "cols": {
    "lenName": 16,
    "lenType": 16,
    "lenVar": 40
   },
   "kernels_config": {
    "python": {
     "delete_cmd_postfix": "",
     "delete_cmd_prefix": "del ",
     "library": "var_list.py",
     "varRefreshCmd": "print(var_dic_list())"
    },
    "r": {
     "delete_cmd_postfix": ") ",
     "delete_cmd_prefix": "rm(",
     "library": "var_list.r",
     "varRefreshCmd": "cat(var_dic_list()) "
    }
   },
   "types_to_exclude": [
    "module",
    "function",
    "builtin_function_or_method",
    "instance",
    "_Feature"
   ],
   "window_display": false
  },
  "widgets": {
   "application/vnd.jupyter.widget-state+json": {
    "state": {},
    "version_major": 2,
    "version_minor": 0
   }
  }
 },
 "nbformat": 4,
 "nbformat_minor": 5
}
