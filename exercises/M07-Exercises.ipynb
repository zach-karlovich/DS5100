{
 "cells": [
  {
   "cell_type": "markdown",
   "id": "6ce58a3d-c0bd-4253-8756-bdfc8a2708b2",
   "metadata": {
    "slideshow": {
     "slide_type": "slide"
    }
   },
   "source": [
    "# M07 Exercises\n",
    "\n",
    "DS 5100 Programming for Data Science"
   ]
  },
  {
   "cell_type": "markdown",
   "id": "4449dc56-9bae-4bdf-ad57-97484c16916b",
   "metadata": {
    "slideshow": {
     "slide_type": "slide"
    },
    "tags": []
   },
   "source": [
    "# Exercise 7.1\n",
    "\n",
    "Define a class called `MyClass` with the following features:\n",
    "- a docstring that says \"Example class for Exercise 7.1\"\n",
    "- a class attribute `att1` with the default value `\"foo\"`\n",
    "- an `__init__()` function that takes one required string argument `att2` and sets an instance attribute of `att2` to that value\n",
    "- a method `.add()` that concatenates `att1` and `att2` and prints the result"
   ]
  },
  {
   "cell_type": "code",
   "execution_count": 11,
   "id": "d87d6425-7d09-499b-8777-317ba08ff17a",
   "metadata": {
    "slideshow": {
     "slide_type": "subslide"
    },
    "tags": []
   },
   "outputs": [],
   "source": [
    "class MyClass():\n",
    "    \"\"\"Example class for Exercise 7.1\"\"\"\n",
    "    \n",
    "    att1 = \"foo\"\n",
    "    \n",
    "    def __init__(self, att2):\n",
    "        self.att2 = att2\n",
    "        \n",
    "    def add(self):\n",
    "        self.msg = self.att1 + ' ' + self.att2\n",
    "        print(self.msg)"
   ]
  },
  {
   "cell_type": "markdown",
   "id": "e53406c5-5af0-41c7-b4e0-281b7dee48a9",
   "metadata": {
    "slideshow": {
     "slide_type": "slide"
    }
   },
   "source": [
    "# Exercise 7.2\n",
    "\n",
    "Create an object instance of the previous class by passing the argument required by the initializing method. \n",
    "\n",
    "Pass a short sentence for the string.\n",
    "\n",
    "Use the pattern `object.attribute` to show the two attributes.\n",
    "\n",
    "Then call the `add()` method."
   ]
  },
  {
   "cell_type": "code",
   "execution_count": 12,
   "id": "e943c67f-5fc0-4d38-94a2-e85eef5a8b18",
   "metadata": {
    "slideshow": {
     "slide_type": "subslide"
    },
    "tags": []
   },
   "outputs": [],
   "source": [
    "obj_1 = MyClass(\"This is not a pipe\")"
   ]
  },
  {
   "cell_type": "code",
   "execution_count": 13,
   "id": "aa03b0a4-d87e-4cb0-8242-cbc3a9553670",
   "metadata": {
    "slideshow": {
     "slide_type": "-"
    },
    "tags": []
   },
   "outputs": [
    {
     "data": {
      "text/plain": [
       "('foo', 'This is not a pipe')"
      ]
     },
     "execution_count": 13,
     "metadata": {},
     "output_type": "execute_result"
    }
   ],
   "source": [
    "obj_1.att1, obj_1.att2"
   ]
  },
  {
   "cell_type": "code",
   "execution_count": 14,
   "id": "89c26e0b-f710-486c-b044-50887f9d1eaa",
   "metadata": {
    "slideshow": {
     "slide_type": "-"
    },
    "tags": []
   },
   "outputs": [
    {
     "name": "stdout",
     "output_type": "stream",
     "text": [
      "foo This is not a pipe\n"
     ]
    }
   ],
   "source": [
    "obj_1.add()"
   ]
  },
  {
   "cell_type": "markdown",
   "id": "99274ed3",
   "metadata": {
    "slideshow": {
     "slide_type": "slide"
    }
   },
   "source": [
    "# Exercise 7.3\n",
    "\n",
    "Create a class called `Student` that contains a student's grades for a given class.\n",
    "* It should store the grades as a Pandas **Series** of type `float`.\n",
    "* It should have an initialization method that takes the student's full name and user ID.\n",
    "* It should have a method to add an assignment with its grade to the Series object.\n",
    "  * Hint: to add a new observation (row) to a Series, you can do this: `foo.loc['new_key'] = new_value`\n",
    "* It should also have a method to plot the student's grades as a bar chart.\n",
    "  * The plot should have a title stating the student's name, and ID in parentheses.\n",
    "  "
   ]
  },
  {
   "cell_type": "code",
   "execution_count": 16,
   "id": "4596f8b6-7d84-4964-83af-784bcc7680b8",
   "metadata": {
    "slideshow": {
     "slide_type": "subslide"
    },
    "tags": []
   },
   "outputs": [],
   "source": [
    "import pandas as pd\n",
    "\n",
    "class Student:\n",
    "    \n",
    "    def __init__(self, student_name, student_id): \n",
    "        self.name = student_name\n",
    "        self.id = student_id\n",
    "        self.grades = pd.Series(dtype=float)\n",
    "    \n",
    "    def add_grade(self, assignment, grade):\n",
    "        self.grades.loc[assignment] = grade\n",
    "    \n",
    "    def show_grades(self):\n",
    "        self.grades.plot.bar(title=f\"Grades for {self.name} ({self.id})\")\n",
    "    "
   ]
  },
  {
   "cell_type": "markdown",
   "id": "2718ff7f-7881-4c39-9f5d-a709fe09a094",
   "metadata": {
    "slideshow": {
     "slide_type": "slide"
    }
   },
   "source": [
    "# Exercise 7.4\n",
    "\n",
    "Create an instance of a student with four grades.\n",
    "* Make up a name and an id.\n",
    "* Use HW01, HW02, HW03, and HW04 as assignment names.\n",
    "* Use the `show_grades()` to plot the grades."
   ]
  },
  {
   "cell_type": "code",
   "execution_count": 17,
   "id": "8a88200a-921d-4929-a2d9-2550384735c1",
   "metadata": {
    "slideshow": {
     "slide_type": "subslide"
    },
    "tags": []
   },
   "outputs": [],
   "source": [
    "student1 = Student(\"Quetzil Castaneda\", 'qc4x')"
   ]
  },
  {
   "cell_type": "code",
   "execution_count": 18,
   "id": "f6fca679-0a6b-4aeb-bb72-53a88c945ac7",
   "metadata": {
    "slideshow": {
     "slide_type": "-"
    },
    "tags": []
   },
   "outputs": [],
   "source": [
    "student1.add_grade(\"HW01\", 100)\n",
    "student1.add_grade(\"HW02\", 95)\n",
    "student1.add_grade(\"HW03\", 91)\n",
    "student1.add_grade(\"HW04\", 98)"
   ]
  },
  {
   "cell_type": "code",
   "execution_count": 19,
   "id": "adcddc06-456d-47d6-b644-eddb49e73b72",
   "metadata": {
    "slideshow": {
     "slide_type": "-"
    },
    "tags": []
   },
   "outputs": [
    {
     "data": {
      "image/png": "[encoded data removed]",
      "text/plain": [
       "<Figure size 640x480 with 1 Axes>"
      ]
     },
     "metadata": {},
     "output_type": "display_data"
    }
   ],
   "source": [
    "student1.show_grades()"
   ]
  },
  {
   "cell_type": "markdown",
   "id": "8593668f-5ab4-450e-910c-07751d3eee51",
   "metadata": {
    "slideshow": {
     "slide_type": "slide"
    }
   },
   "source": [
    "# Exercise 7.5\n",
    "\n",
    "The fictitious company UVAWS offers cloud computing as a service with a range of server options. Define and use with a class that instantiates a cloud server. Define a class with these requirements:\n",
    "\n",
    "- Name: `V3`\n",
    "- Instance Attributes:\n",
    "  - `instance_size` a string, which expects one of `small`, `medium` , and `large`\n",
    "  - `num_vcpus`     an integer for the number of virtual CPUs.\n",
    "  - `memory`        an integer for the number of GBs.\n",
    "  - `disk_space`    a float for the number of TBs.\n",
    "- Methods (with parameters):  \n",
    "  - `__init__()` That sets all of the attributes above.\n",
    "  - `add_disk_space(amt_to_add)`. This adds disk space to the current disk space. \n",
    "    - `amt_to_add` expects a float.\n",
    "  - `has_enough_disk_space(amt_required)` this checks if the amount required is available. \n",
    "    - `amt_required` expects a float. \n",
    "    - Use natural language to print an appropriate response while also returning a boolean value. \n",
    "    - Return `True` if enough space, `False` if not."
   ]
  },
  {
   "cell_type": "code",
   "execution_count": 191,
   "id": "1540d036",
   "metadata": {
    "slideshow": {
     "slide_type": "subslide"
    },
    "tags": []
   },
   "outputs": [],
   "source": [
    "class V3():\n",
    "    \n",
    "    def __init__(self, instance_size, num_vcpus, memory, disk_space):\n",
    "        self.instance_size = instance_size\n",
    "        self.num_vcpus = num_vcpus\n",
    "        self.memory = memory\n",
    "        self.disk_space = disk_space\n",
    "        \n",
    "    def add_disk_space(self, amt_to_add):\n",
    "        self.disk_space += amt_to_add\n",
    "        \n",
    "    def has_enough_disk_space(self, amt_required):\n",
    "        if self.disk_space >= amt_required:\n",
    "            print(\"You have enough disk space!\")\n",
    "            return True\n",
    "        else:\n",
    "            print(\"You don't have enough disk space!\")\n",
    "            return False"
   ]
  },
  {
   "cell_type": "markdown",
   "id": "0ab57926-8473-4d65-8d03-76093786fdc3",
   "metadata": {
    "slideshow": {
     "slide_type": "slide"
    }
   },
   "source": [
    "# Exercise 7.6\n",
    "\n",
    "Instantiate a V3 object with these attribute values:\n",
    "```python\n",
    "instance_size: 'large'\n",
    "num_vcpus:     32\n",
    "memory:        256\n",
    "disk_space:    1.\n",
    "```\n",
    "\n",
    "Then:\n",
    "1. Add $2.0$ TB disk space to the instance.\n",
    "2. Display the updated disk space using dot operator to display the attribute.\n",
    "3. See if the instance has enough disk space, using a request of $10.0$ TB."
   ]
  },
  {
   "cell_type": "code",
   "execution_count": 81,
   "id": "9e9c2861",
   "metadata": {
    "slideshow": {
     "slide_type": "subslide"
    },
    "tags": []
   },
   "outputs": [],
   "source": [
    "my_v3 = V3('large', 32, 256, 1.)\n",
    "my_v3.add_disk_space(2.)"
   ]
  },
  {
   "cell_type": "code",
   "execution_count": 82,
   "id": "e7c4016d",
   "metadata": {
    "slideshow": {
     "slide_type": "subslide"
    },
    "tags": []
   },
   "outputs": [
    {
     "data": {
      "text/plain": [
       "3.0"
      ]
     },
     "execution_count": 82,
     "metadata": {},
     "output_type": "execute_result"
    }
   ],
   "source": [
    "my_v3.disk_space"
   ]
  },
  {
   "cell_type": "code",
   "execution_count": 83,
   "id": "8b474564",
   "metadata": {
    "tags": []
   },
   "outputs": [
    {
     "name": "stdout",
     "output_type": "stream",
     "text": [
      "You don't have enough disk space!\n"
     ]
    },
    {
     "data": {
      "text/plain": [
       "False"
      ]
     },
     "execution_count": 83,
     "metadata": {},
     "output_type": "execute_result"
    }
   ],
   "source": [
    "my_v3.has_enough_disk_space(10.)"
   ]
  },
  {
   "cell_type": "markdown",
   "id": "11ccca98-284e-468f-bb95-3ae9824ad389",
   "metadata": {
    "slideshow": {
     "slide_type": "slide"
    }
   },
   "source": [
    "# Exercise 7.7\n",
    "\n",
    "Write a Python class named `Circle` constructed by a radius.\n",
    "\n",
    "Include two methods: one to compute the area, the other the circumference of the circle. \n",
    "\n",
    "Store both values as attributes rounded to the second decimal place.\n",
    "\n",
    "Show the values by printing the attributes.\n",
    "\n",
    "Hint: For the value of $\\pi$ use this line:\n",
    "\n",
    "`from math import pi`"
   ]
  },
  {
   "cell_type": "code",
   "execution_count": 21,
   "id": "850d0424-c4e2-45cd-af29-236b5b2ddf4b",
   "metadata": {
    "lines_to_next_cell": 1,
    "slideshow": {
     "slide_type": "subslide"
    },
    "tags": []
   },
   "outputs": [],
   "source": [
    "from math import pi \n",
    "\n",
    "class Circle():\n",
    "        \n",
    "    def __init__(self, radius):\n",
    "        self.radius = radius\n",
    "\n",
    "    def get_area(self):\n",
    "        self.area = round(self.radius**2 * pi, 2)\n",
    "    \n",
    "    def get_circumference(self):\n",
    "        self.circumference = round(2 * self.radius * pi, 2)"
   ]
  },
  {
   "cell_type": "code",
   "execution_count": 22,
   "id": "9edd7bbf-7b5e-4aa9-9db1-8e959610af99",
   "metadata": {
    "tags": []
   },
   "outputs": [],
   "source": [
    "my_circle = Circle(8)\n",
    "my_circle.get_area()\n",
    "my_circle.get_circumference()"
   ]
  },
  {
   "cell_type": "code",
   "execution_count": 23,
   "id": "ab3a5e5d-b46f-4174-b4c7-2606ce24b2e7",
   "metadata": {
    "tags": []
   },
   "outputs": [
    {
     "name": "stdout",
     "output_type": "stream",
     "text": [
      "A: 201.06\n",
      "C: 50.27\n"
     ]
    }
   ],
   "source": [
    "print('A:', my_circle.area)\n",
    "print('C:', my_circle.circumference)"
   ]
  },
  {
   "cell_type": "markdown",
   "id": "4c433fc3",
   "metadata": {
    "slideshow": {
     "slide_type": "slide"
    }
   },
   "source": [
    "# Exercise 7.8\n",
    "\n",
    "Write a Python class named `Rectangle` constructed by a length and width.\n",
    "\n",
    "Include a method that will compute the area of the rectangle. \n",
    "\n",
    "Save the area as a private attribute, but include another method to return this value.\n",
    "\n",
    "Create an instance of the class with two integers of your choice and show the area."
   ]
  },
  {
   "cell_type": "code",
   "execution_count": 24,
   "id": "55fd4694",
   "metadata": {
    "slideshow": {
     "slide_type": "subslide"
    },
    "tags": []
   },
   "outputs": [],
   "source": [
    "class Rectangle():\n",
    "    \n",
    "    def __init__(self, length, width):\n",
    "        self.length = length\n",
    "        self.width  = width\n",
    "\n",
    "    def compute_area(self):\n",
    "        self._area = self.length * self.width\n",
    "        \n",
    "    def get_area(self):\n",
    "        return self._area"
   ]
  },
  {
   "cell_type": "code",
   "execution_count": 25,
   "id": "d64e6fd4",
   "metadata": {
    "tags": []
   },
   "outputs": [],
   "source": [
    "newRectangle = Rectangle(12, 10)"
   ]
  },
  {
   "cell_type": "code",
   "execution_count": 26,
   "id": "46c44c79-898d-486d-8060-a022612337e0",
   "metadata": {
    "tags": []
   },
   "outputs": [],
   "source": [
    "newRectangle.compute_area()"
   ]
  },
  {
   "cell_type": "code",
   "execution_count": 27,
   "id": "18bdbc23-69ee-49f1-9b3c-07c9e7176bf2",
   "metadata": {
    "tags": []
   },
   "outputs": [
    {
     "data": {
      "text/plain": [
       "120"
      ]
     },
     "execution_count": 27,
     "metadata": {},
     "output_type": "execute_result"
    }
   ],
   "source": [
    "newRectangle.get_area()"
   ]
  },
  {
   "cell_type": "markdown",
   "id": "38899fcd",
   "metadata": {
    "slideshow": {
     "slide_type": "slide"
    }
   },
   "source": [
    "# Exercise 7.9\n",
    "\n",
    "Write a class `Geometry` with a single static method to compute the area of a rectangle. \n",
    "\n",
    "Call the method with length as $10$ and width as $15$."
   ]
  },
  {
   "cell_type": "code",
   "execution_count": 28,
   "id": "160e51f2",
   "metadata": {
    "slideshow": {
     "slide_type": "subslide"
    },
    "tags": []
   },
   "outputs": [],
   "source": [
    "class Geometry():\n",
    "    \n",
    "    def get_rectangle_area(l, w):\n",
    "        return l * w"
   ]
  },
  {
   "cell_type": "code",
   "execution_count": 29,
   "id": "7034352f",
   "metadata": {
    "tags": []
   },
   "outputs": [
    {
     "data": {
      "text/plain": [
       "150"
      ]
     },
     "execution_count": 29,
     "metadata": {},
     "output_type": "execute_result"
    }
   ],
   "source": [
    "Geometry.get_rectangle_area(10, 15)"
   ]
  },
  {
   "cell_type": "code",
   "execution_count": 1,
   "id": "70ad3354-cd44-4cc6-a76e-da2c7be43b16",
   "metadata": {
    "slideshow": {
     "slide_type": "fragment"
    },
    "tags": []
   },
   "outputs": [],
   "source": [
    "class Geometry2():\n",
    "    \n",
    "    get_rectangle_area = lambda l, w: l * w"
   ]
  },
  {
   "cell_type": "code",
   "execution_count": 3,
   "id": "fd96391d-87fa-4092-bc2a-d384da2585ee",
   "metadata": {
    "tags": []
   },
   "outputs": [
    {
     "data": {
      "text/plain": [
       "150"
      ]
     },
     "execution_count": 3,
     "metadata": {},
     "output_type": "execute_result"
    }
   ],
   "source": [
    "Geometry2.get_rectangle_area(10, 15)"
   ]
  },
  {
   "cell_type": "markdown",
   "id": "45d2e96b-3ebb-4c02-b4ed-78a49c593ddd",
   "metadata": {
    "slideshow": {
     "slide_type": "slide"
    },
    "tags": []
   },
   "source": [
    "# Exercise 7.10\n",
    "\n",
    "Create a static class `T2T` that converts degrees between Celsius to Fahrenheit.  \n",
    "\n",
    "Create two methods `c2f` and `f2c` using lambda functions.\n",
    "\n",
    "Use these formulas: $F = 1.8C + 32$ and $C = (F − 32) / 1.8$\n",
    "\n",
    "The class should work like this: Calling `T2T.c2f(45)` should print the answer `113.0`."
   ]
  },
  {
   "cell_type": "code",
   "execution_count": 189,
   "id": "b9594534-1e4b-4162-b163-64f0868b617e",
   "metadata": {
    "slideshow": {
     "slide_type": "subslide"
    },
    "tags": []
   },
   "outputs": [],
   "source": [
    "class T2T:\n",
    "    c2f = lambda c: round(1.8 * c + 32, 2)\n",
    "    f2c = lambda f: round((f - 32) / 1.8, 2)        "
   ]
  },
  {
   "cell_type": "code",
   "execution_count": 187,
   "id": "5135eed5-5d93-4239-9569-24e1a8dcb48c",
   "metadata": {
    "tags": []
   },
   "outputs": [
    {
     "data": {
      "text/plain": [
       "113.0"
      ]
     },
     "execution_count": 187,
     "metadata": {},
     "output_type": "execute_result"
    }
   ],
   "source": [
    "T2T.c2f(45)"
   ]
  },
  {
   "cell_type": "code",
   "execution_count": 190,
   "id": "e9bac8b5-aa1a-496b-b94f-9db61815e5ec",
   "metadata": {
    "tags": []
   },
   "outputs": [
    {
     "data": {
      "text/plain": [
       "0.0"
      ]
     },
     "execution_count": 190,
     "metadata": {},
     "output_type": "execute_result"
    }
   ],
   "source": [
    "T2T.f2c(32)"
   ]
  }
 ],
 "metadata": {
  "celltoolbar": "Slideshow",
  "kernelspec": {
   "display_name": "Python 3 (ipykernel)",
   "language": "python",
   "name": "python3"
  },
  "language_info": {
   "codemirror_mode": {
    "name": "ipython",
    "version": 3
   },
   "file_extension": ".py",
   "mimetype": "text/x-python",
   "name": "python",
   "nbconvert_exporter": "python",
   "pygments_lexer": "ipython3",
   "version": "3.11.4"
  },
  "latex_envs": {
   "LaTeX_envs_menu_present": true,
   "autoclose": false,
   "autocomplete": true,
   "bibliofile": "biblio.bib",
   "cite_by": "apalike",
   "current_citInitial": 1,
   "eqLabelWithNumbers": true,
   "eqNumInitial": 1,
   "hotkeys": {
    "equation": "Ctrl-E",
    "itemize": "Ctrl-I"
   },
   "labels_anchors": false,
   "latex_user_defs": false,
   "report_style_numbering": false,
   "user_envs_cfg": false
  },
  "toc": {
   "base_numbering": 1,
   "nav_menu": {},
   "number_sections": false,
   "sideBar": true,
   "skip_h1_title": false,
   "title_cell": "Table of Contents",
   "title_sidebar": "Contents",
   "toc_cell": false,
   "toc_position": {
    "height": "calc(100% - 180px)",
    "left": "10px",
    "top": "150px",
    "width": "349.091px"
   },
   "toc_section_display": true,
   "toc_window_display": false
  },
  "varInspector": {
   "cols": {
    "lenName": 16,
    "lenType": 16,
    "lenVar": 40
   },
   "kernels_config": {
    "python": {
     "delete_cmd_postfix": "",
     "delete_cmd_prefix": "del ",
     "library": "var_list.py",
     "varRefreshCmd": "print(var_dic_list())"
    },
    "r": {
     "delete_cmd_postfix": ") ",
     "delete_cmd_prefix": "rm(",
     "library": "var_list.r",
     "varRefreshCmd": "cat(var_dic_list()) "
    }
   },
   "types_to_exclude": [
    "module",
    "function",
    "builtin_function_or_method",
    "instance",
    "_Feature"
   ],
   "window_display": false
  },
  "vscode": {
   "interpreter": {
    "hash": "7d51c6d3927dc7a9466529ab449932690ed5cca642cd86ae76d101052af6cc05"
   }
  },
  "widgets": {
   "application/vnd.jupyter.widget-state+json": {
    "state": {},
    "version_major": 2,
    "version_minor": 0
   }
  }
 },
 "nbformat": 4,
 "nbformat_minor": 5
}
