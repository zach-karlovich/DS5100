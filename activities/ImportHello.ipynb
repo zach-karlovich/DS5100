{
 "cells": [
  {
   "cell_type": "markdown",
   "id": "7a39eabb-1c32-4a6c-858c-a1b105938315",
   "metadata": {},
   "source": [
    "# Hello Exercise\n",
    "\n",
    "Students fork and clone the course repo, then create a file in a specified directory of their local repo.\n",
    "\n",
    "After that they push it to the remote and then initiate a pull request.\n",
    "\n",
    "These requests are merged and then pulled locally here. \n",
    "\n",
    "The results are aggregated and printed below."
   ]
  },
  {
   "cell_type": "code",
   "execution_count": 30,
   "id": "aaaaa06a-7fd7-483b-8707-0fd4b3231363",
   "metadata": {
    "tags": []
   },
   "outputs": [],
   "source": [
    "import glob\n",
    "import pandas as pd"
   ]
  },
  {
   "cell_type": "code",
   "execution_count": 31,
   "id": "1f71bcb5-9fbf-41ea-ba8d-8b8ad0019e0b",
   "metadata": {
    "tags": []
   },
   "outputs": [],
   "source": [
    "data = []\n",
    "files = glob.glob(\"./hello/*_*.txt\")"
   ]
  },
  {
   "cell_type": "code",
   "execution_count": 32,
   "id": "70f85b50-7275-4819-b0ac-566ffc84d24b",
   "metadata": {
    "tags": []
   },
   "outputs": [
    {
     "name": "stdout",
     "output_type": "stream",
     "text": [
      "39\n"
     ]
    }
   ],
   "source": [
    "print(len(files))"
   ]
  },
  {
   "cell_type": "code",
   "execution_count": 33,
   "id": "3576e753-ce37-409d-ae52-9c3a6dd22834",
   "metadata": {
    "tags": []
   },
   "outputs": [],
   "source": [
    "n_students = 79"
   ]
  },
  {
   "cell_type": "code",
   "execution_count": 34,
   "id": "e2f371fc-53e6-4053-b4a2-0bce5f4ebd58",
   "metadata": {
    "tags": []
   },
   "outputs": [
    {
     "data": {
      "text/plain": [
       "40"
      ]
     },
     "execution_count": 34,
     "metadata": {},
     "output_type": "execute_result"
    }
   ],
   "source": [
    "n_students - len(files)"
   ]
  },
  {
   "cell_type": "code",
   "execution_count": 35,
   "id": "4a44ab38-4c3e-4e17-a5cc-da98f8a84f0d",
   "metadata": {
    "tags": []
   },
   "outputs": [],
   "source": [
    "for i, file in enumerate(files):\n",
    "    sid = file.split(\"/\")[2].split(\"_\")[0]\n",
    "    line = open(file, 'r').read().strip()\n",
    "    row = (sid, line.replace('\\n', ' '))\n",
    "    data.append(row)"
   ]
  },
  {
   "cell_type": "code",
   "execution_count": 36,
   "id": "d639031b-10ed-47ad-a3fd-87ddc9c91d74",
   "metadata": {
    "tags": []
   },
   "outputs": [],
   "source": [
    "df = pd.DataFrame(data, columns=['user_id','comment'])"
   ]
  },
  {
   "cell_type": "code",
   "execution_count": 37,
   "id": "9ec8280b-a44b-4cfa-bd40-9188012fa5a2",
   "metadata": {
    "tags": []
   },
   "outputs": [
    {
     "name": "stdout",
     "output_type": "stream",
     "text": [
      "00 | cm9qj | The last film I watched and enjoyed was Wicked.\n",
      "01 | umu5hh | My name is Katie, and I recently watched and enjoyed the movie Hot Rod.\n",
      "02 | ms5da | Hello! My name is Manuel Sanchez and the most recent film I watch was Wicked. It was excellent!\n",
      "03 | amp3xs | The most recent film I watched and enjoyed was Den of Thieves.\n",
      "04 | angelorciuoli2 | Hi! My name is Angelo Orciuoli and I recently watched and enjoyed the movie A Real Pain.\n",
      "05 | kvq4nvn | I recently enjoyed watching Dune II.\n",
      "06 | MaryamAli25 | Hi. My name is Maryam, and the most recent movie I watched that I liked is Finding Nemo!\n",
      "07 | cmm4yj | I recently re-watched Interstellar, I watch it at least three times a year and I enjoy it each time\n",
      "08 | ske6pe | The most recent movie I watched and enjoyed was Interstellar.\n",
      "09 | wdc9um | Hi my name is Payton Turner. The most recent movie that I have watched is Interstellar and I can highly recommend it.\n",
      "10 | rkc7gr | The most recent film I watched and enjoyed was When the Phone Rings. It was such a great Korea film.\n",
      "11 | zyh5ea | hello hello,  My name is Michael Ieraci, I recently watched Jurassic Park :)\n",
      "12 | kqy9hc | Hello my name is Sree Prabhav Bandakavi. The most recent movie I watched and enjoyed was Hustle.\n",
      "13 | uzy7me | Hello! The most recent film I watched was Notting Hill.\n",
      "14 | wr9cn | I recently watched a Korean movie called Exauma and found its storyline enjoyable!\n",
      "15 | ps2pw | Hello, my name is Pranav Sridhar! The most recent film I watched/ and enjoyed was Wicked (although I thought the Broadway adaptation was way better).\n",
      "16 | aem2cz | Hello, I'm Greg Miller and the most recent film I watched was Wicked.  I was brought along by my girlfriend and was not expecting to enjoy it, but alas, it was pretty darn good!\n",
      "17 | wqp7qy | My name is Abraham, i watched Alien: Romulus which i enjoyed greatly.\n",
      "18 | jzt6rv | I recently saw Furiosa: a mad max saga\n",
      "19 | dzy5jk | The most recent film I watched and enjoyed is Wicked in theaters with my cousins during the holidays.\n",
      "20 | sp5fd | What is the most recent film you watched and enjoyed?  18×2 Beyond Youthful Days\n",
      "21 | Khalil-Goddard | Hello! My name is Khalil Goddard and the most recent film that I watched and enjoyed was Blink Twice\n",
      "22 | kyg8cd | Hello professor! My name is Anthony. The film I watched most recently was a Netflix Original called Highway Men. The movie iss based on the true story of how two Texas Rangers tracked and dispached Bonnie and Clyde.\n",
      "23 | gvc8fr | Hello, my name is Sam Cho. The most recent film I watched and enjoyed is The Departed.\n",
      "24 | kyq5rs | Hello! My name is Claire Sullivan.  The movie I most recently watched and enjoyed was Good Will Hunting.\n",
      "25 | aph2c | The most recent film i watch and enjoyed was Rebel Moon - Part One: A Child of Fire\n",
      "26 | ajr7wt | Hello my name is Addison Nitto A movie that I recently enjoyed was Carry-on.\n",
      "27 | jth2uyr | The film I just watched was Gladiator II.\n",
      "28 | ptm3ktr | Hello, my name is Paul and the movie I most recently watched was Twilight: Breaking Dawn Part 2.\n",
      "29 | ddf4me | Q. What is th most recent film you watched and enjoyed? A. Jurassic Park (1993)\n",
      "30 | vwy4sa | Hello my name is Terrance. The most recent film I watch was The Super Mario Bros movie.\n",
      "31 | rrs4bw | The most recent film I watched and enjoyed was a true crime documentary on how they used a victim's social media to catch the killer. I forgot the name.\n",
      "32 | ced9mq | Hi, my name is Claire Dozier. The most recent film I watched and enjoyed was a comedy special by comedian Taylor Tomlinson called \"Have It All.\"\n",
      "33 | clairesull | Hello! My name is Claire Sullivan. Last night I watched Good Will Hunting, although I have seen this movie probably 5 times, I still enjoyed it.\n",
      "34 | cmj4ec | young frankenstein\n",
      "35 | jwh8zc | Hi! My name is John Hendricks, and I enjoyed watching Jurassic Park last week. The technical orientation required that I watch this, but I but I love an excuse to talk about dinosaurs!\n",
      "36 | asw4uc | The recent movie that I watched and enjoyed was titled, \"Extraordinary Attorney Woo\" on Netflix\n",
      "37 | ewu9af | The last movie I saw was Carry-on.\n",
      "38 | cc5hu | The most recent film I watched was a movie called \"Paprika\" It was an awesome film about a futuristic dreaming technology that leaks into the real world.\n"
     ]
    }
   ],
   "source": [
    "for i, r in enumerate(df.user_id + ' | ' + df.comment):\n",
    "    print(str(i).zfill(2), \"| \" + r)"
   ]
  },
  {
   "cell_type": "code",
   "execution_count": null,
   "id": "b8e2341f-8061-455b-b08d-7b553c7359f8",
   "metadata": {},
   "outputs": [],
   "source": []
  }
 ],
 "metadata": {
  "kernelspec": {
   "display_name": "Python 3",
   "language": "python",
   "name": "python3"
  },
  "language_info": {
   "codemirror_mode": {
    "name": "ipython",
    "version": 3
   },
   "file_extension": ".py",
   "mimetype": "text/x-python",
   "name": "python",
   "nbconvert_exporter": "python",
   "pygments_lexer": "ipython3",
   "version": "3.11.4"
  },
  "widgets": {
   "application/vnd.jupyter.widget-state+json": {
    "state": {},
    "version_major": 2,
    "version_minor": 0
   }
  }
 },
 "nbformat": 4,
 "nbformat_minor": 5
}
